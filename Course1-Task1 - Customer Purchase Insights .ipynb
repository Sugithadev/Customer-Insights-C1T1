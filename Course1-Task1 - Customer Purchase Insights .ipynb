{
 "cells": [
  {
   "cell_type": "markdown",
   "metadata": {},
   "source": [
    "# Customer Purchase Insights - Blackwell Electronics"
   ]
  },
  {
   "cell_type": "markdown",
   "metadata": {},
   "source": [
    "## Import libraries and read the data file "
   ]
  },
  {
   "cell_type": "code",
   "execution_count": 1,
   "metadata": {},
   "outputs": [
    {
     "data": {
      "text/html": [
       "<div>\n",
       "<style scoped>\n",
       "    .dataframe tbody tr th:only-of-type {\n",
       "        vertical-align: middle;\n",
       "    }\n",
       "\n",
       "    .dataframe tbody tr th {\n",
       "        vertical-align: top;\n",
       "    }\n",
       "\n",
       "    .dataframe thead th {\n",
       "        text-align: right;\n",
       "    }\n",
       "</style>\n",
       "<table border=\"1\" class=\"dataframe\">\n",
       "  <thead>\n",
       "    <tr style=\"text-align: right;\">\n",
       "      <th></th>\n",
       "      <th>in-store</th>\n",
       "      <th>age</th>\n",
       "      <th>items</th>\n",
       "      <th>amount</th>\n",
       "      <th>region</th>\n",
       "    </tr>\n",
       "  </thead>\n",
       "  <tbody>\n",
       "    <tr>\n",
       "      <th>0</th>\n",
       "      <td>0</td>\n",
       "      <td>37</td>\n",
       "      <td>4</td>\n",
       "      <td>281.03</td>\n",
       "      <td>2</td>\n",
       "    </tr>\n",
       "    <tr>\n",
       "      <th>1</th>\n",
       "      <td>0</td>\n",
       "      <td>35</td>\n",
       "      <td>2</td>\n",
       "      <td>219.51</td>\n",
       "      <td>2</td>\n",
       "    </tr>\n",
       "    <tr>\n",
       "      <th>2</th>\n",
       "      <td>1</td>\n",
       "      <td>45</td>\n",
       "      <td>3</td>\n",
       "      <td>1525.70</td>\n",
       "      <td>4</td>\n",
       "    </tr>\n",
       "    <tr>\n",
       "      <th>3</th>\n",
       "      <td>1</td>\n",
       "      <td>46</td>\n",
       "      <td>3</td>\n",
       "      <td>715.25</td>\n",
       "      <td>3</td>\n",
       "    </tr>\n",
       "    <tr>\n",
       "      <th>4</th>\n",
       "      <td>1</td>\n",
       "      <td>33</td>\n",
       "      <td>4</td>\n",
       "      <td>1937.50</td>\n",
       "      <td>1</td>\n",
       "    </tr>\n",
       "  </tbody>\n",
       "</table>\n",
       "</div>"
      ],
      "text/plain": [
       "   in-store  age  items   amount  region\n",
       "0         0   37      4   281.03       2\n",
       "1         0   35      2   219.51       2\n",
       "2         1   45      3  1525.70       4\n",
       "3         1   46      3   715.25       3\n",
       "4         1   33      4  1937.50       1"
      ]
     },
     "execution_count": 1,
     "metadata": {},
     "output_type": "execute_result"
    }
   ],
   "source": [
    "import pandas as pd \n",
    "import numpy as np\n",
    "import matplotlib.pyplot as plt\n",
    "import seaborn as sns \n",
    "import matplotlib.ticker as ticker\n",
    "#give full path of where your data file - since I have in single folder I need not give full path\n",
    "data = pd.read_csv('Demographic_Data.csv')\n",
    "data.head()"
   ]
  },
  {
   "cell_type": "markdown",
   "metadata": {},
   "source": [
    "## Analysis "
   ]
  },
  {
   "cell_type": "code",
   "execution_count": 2,
   "metadata": {},
   "outputs": [
    {
     "data": {
      "text/html": [
       "<div>\n",
       "<style scoped>\n",
       "    .dataframe tbody tr th:only-of-type {\n",
       "        vertical-align: middle;\n",
       "    }\n",
       "\n",
       "    .dataframe tbody tr th {\n",
       "        vertical-align: top;\n",
       "    }\n",
       "\n",
       "    .dataframe thead th {\n",
       "        text-align: right;\n",
       "    }\n",
       "</style>\n",
       "<table border=\"1\" class=\"dataframe\">\n",
       "  <thead>\n",
       "    <tr style=\"text-align: right;\">\n",
       "      <th></th>\n",
       "      <th>in-store</th>\n",
       "      <th>age</th>\n",
       "      <th>items</th>\n",
       "      <th>amount</th>\n",
       "      <th>region</th>\n",
       "    </tr>\n",
       "  </thead>\n",
       "  <tbody>\n",
       "    <tr>\n",
       "      <th>count</th>\n",
       "      <td>80000.000000</td>\n",
       "      <td>80000.000000</td>\n",
       "      <td>80000.000000</td>\n",
       "      <td>80000.000000</td>\n",
       "      <td>80000.000000</td>\n",
       "    </tr>\n",
       "    <tr>\n",
       "      <th>mean</th>\n",
       "      <td>0.500000</td>\n",
       "      <td>45.757925</td>\n",
       "      <td>4.504975</td>\n",
       "      <td>835.919670</td>\n",
       "      <td>2.675000</td>\n",
       "    </tr>\n",
       "    <tr>\n",
       "      <th>std</th>\n",
       "      <td>0.500003</td>\n",
       "      <td>15.715679</td>\n",
       "      <td>2.061238</td>\n",
       "      <td>721.273736</td>\n",
       "      <td>1.126672</td>\n",
       "    </tr>\n",
       "    <tr>\n",
       "      <th>min</th>\n",
       "      <td>0.000000</td>\n",
       "      <td>18.000000</td>\n",
       "      <td>1.000000</td>\n",
       "      <td>5.004700</td>\n",
       "      <td>1.000000</td>\n",
       "    </tr>\n",
       "    <tr>\n",
       "      <th>25%</th>\n",
       "      <td>0.000000</td>\n",
       "      <td>33.000000</td>\n",
       "      <td>3.000000</td>\n",
       "      <td>285.140000</td>\n",
       "      <td>2.000000</td>\n",
       "    </tr>\n",
       "    <tr>\n",
       "      <th>50%</th>\n",
       "      <td>0.500000</td>\n",
       "      <td>45.000000</td>\n",
       "      <td>4.000000</td>\n",
       "      <td>582.315000</td>\n",
       "      <td>3.000000</td>\n",
       "    </tr>\n",
       "    <tr>\n",
       "      <th>75%</th>\n",
       "      <td>1.000000</td>\n",
       "      <td>56.000000</td>\n",
       "      <td>6.000000</td>\n",
       "      <td>1233.700000</td>\n",
       "      <td>4.000000</td>\n",
       "    </tr>\n",
       "    <tr>\n",
       "      <th>max</th>\n",
       "      <td>1.000000</td>\n",
       "      <td>85.000000</td>\n",
       "      <td>8.000000</td>\n",
       "      <td>3000.000000</td>\n",
       "      <td>4.000000</td>\n",
       "    </tr>\n",
       "  </tbody>\n",
       "</table>\n",
       "</div>"
      ],
      "text/plain": [
       "           in-store           age         items        amount        region\n",
       "count  80000.000000  80000.000000  80000.000000  80000.000000  80000.000000\n",
       "mean       0.500000     45.757925      4.504975    835.919670      2.675000\n",
       "std        0.500003     15.715679      2.061238    721.273736      1.126672\n",
       "min        0.000000     18.000000      1.000000      5.004700      1.000000\n",
       "25%        0.000000     33.000000      3.000000    285.140000      2.000000\n",
       "50%        0.500000     45.000000      4.000000    582.315000      3.000000\n",
       "75%        1.000000     56.000000      6.000000   1233.700000      4.000000\n",
       "max        1.000000     85.000000      8.000000   3000.000000      4.000000"
      ]
     },
     "execution_count": 2,
     "metadata": {},
     "output_type": "execute_result"
    }
   ],
   "source": [
    "#useful code for overview of your data \n",
    "data.describe()\n"
   ]
  },
  {
   "cell_type": "code",
   "execution_count": 3,
   "metadata": {},
   "outputs": [
    {
     "name": "stdout",
     "output_type": "stream",
     "text": [
      "<class 'pandas.core.frame.DataFrame'>\n",
      "RangeIndex: 80000 entries, 0 to 79999\n",
      "Data columns (total 5 columns):\n",
      " #   Column    Non-Null Count  Dtype  \n",
      "---  ------    --------------  -----  \n",
      " 0   in-store  80000 non-null  int64  \n",
      " 1   age       80000 non-null  int64  \n",
      " 2   items     80000 non-null  int64  \n",
      " 3   amount    80000 non-null  float64\n",
      " 4   region    80000 non-null  int64  \n",
      "dtypes: float64(1), int64(4)\n",
      "memory usage: 3.1 MB\n"
     ]
    }
   ],
   "source": [
    "#helps get data type of the dataset\n",
    "data.info()"
   ]
  },
  {
   "cell_type": "code",
   "execution_count": 4,
   "metadata": {},
   "outputs": [
    {
     "data": {
      "text/plain": [
       "(80000, 5)"
      ]
     },
     "execution_count": 4,
     "metadata": {},
     "output_type": "execute_result"
    }
   ],
   "source": [
    "#total number of rows and columns in the dataset \n",
    "data.shape"
   ]
  },
  {
   "cell_type": "code",
   "execution_count": 5,
   "metadata": {},
   "outputs": [
    {
     "data": {
      "text/plain": [
       "Index(['in-store', 'age', 'items', 'amount', 'region'], dtype='object')"
      ]
     },
     "execution_count": 5,
     "metadata": {},
     "output_type": "execute_result"
    }
   ],
   "source": [
    "#columns in your data set \n",
    "data.columns"
   ]
  },
  {
   "cell_type": "code",
   "execution_count": 6,
   "metadata": {},
   "outputs": [
    {
     "data": {
      "text/plain": [
       "1    40000\n",
       "0    40000\n",
       "Name: in-store, dtype: int64"
      ]
     },
     "execution_count": 6,
     "metadata": {},
     "output_type": "execute_result"
    }
   ],
   "source": [
    "#column count \n",
    "data['in-store'].value_counts()"
   ]
  },
  {
   "cell_type": "code",
   "execution_count": 7,
   "metadata": {},
   "outputs": [
    {
     "data": {
      "text/plain": [
       "53    1829\n",
       "32    1789\n",
       "42    1785\n",
       "36    1784\n",
       "34    1783\n",
       "      ... \n",
       "75     334\n",
       "76     329\n",
       "79     321\n",
       "18     223\n",
       "85     185\n",
       "Name: age, Length: 68, dtype: int64"
      ]
     },
     "execution_count": 7,
     "metadata": {},
     "output_type": "execute_result"
    }
   ],
   "source": [
    "#column count \n",
    "data['age'].value_counts()"
   ]
  },
  {
   "cell_type": "code",
   "execution_count": 8,
   "metadata": {},
   "outputs": [
    {
     "data": {
      "text/plain": [
       "4    11596\n",
       "6    11522\n",
       "3    11487\n",
       "7    11378\n",
       "2    11290\n",
       "5    11238\n",
       "8     5788\n",
       "1     5701\n",
       "Name: items, dtype: int64"
      ]
     },
     "execution_count": 8,
     "metadata": {},
     "output_type": "execute_result"
    }
   ],
   "source": [
    "#column count \n",
    "data['items'].value_counts()"
   ]
  },
  {
   "cell_type": "code",
   "execution_count": 9,
   "metadata": {},
   "outputs": [
    {
     "data": {
      "text/plain": [
       "4    26000\n",
       "2    20000\n",
       "3    18000\n",
       "1    16000\n",
       "Name: region, dtype: int64"
      ]
     },
     "execution_count": 9,
     "metadata": {},
     "output_type": "execute_result"
    }
   ],
   "source": [
    "#column count \n",
    "data['region'].value_counts()"
   ]
  },
  {
   "cell_type": "code",
   "execution_count": 10,
   "metadata": {},
   "outputs": [
    {
     "data": {
      "text/html": [
       "<div>\n",
       "<style scoped>\n",
       "    .dataframe tbody tr th:only-of-type {\n",
       "        vertical-align: middle;\n",
       "    }\n",
       "\n",
       "    .dataframe tbody tr th {\n",
       "        vertical-align: top;\n",
       "    }\n",
       "\n",
       "    .dataframe thead th {\n",
       "        text-align: right;\n",
       "    }\n",
       "</style>\n",
       "<table border=\"1\" class=\"dataframe\">\n",
       "  <thead>\n",
       "    <tr style=\"text-align: right;\">\n",
       "      <th></th>\n",
       "      <th>in-store</th>\n",
       "      <th>age</th>\n",
       "      <th>items</th>\n",
       "      <th>amount</th>\n",
       "      <th>region</th>\n",
       "    </tr>\n",
       "  </thead>\n",
       "  <tbody>\n",
       "    <tr>\n",
       "      <th>0</th>\n",
       "      <td>0</td>\n",
       "      <td>37</td>\n",
       "      <td>4</td>\n",
       "      <td>281.03</td>\n",
       "      <td>2</td>\n",
       "    </tr>\n",
       "    <tr>\n",
       "      <th>1</th>\n",
       "      <td>0</td>\n",
       "      <td>35</td>\n",
       "      <td>2</td>\n",
       "      <td>219.51</td>\n",
       "      <td>2</td>\n",
       "    </tr>\n",
       "    <tr>\n",
       "      <th>2</th>\n",
       "      <td>1</td>\n",
       "      <td>45</td>\n",
       "      <td>3</td>\n",
       "      <td>1525.70</td>\n",
       "      <td>4</td>\n",
       "    </tr>\n",
       "    <tr>\n",
       "      <th>3</th>\n",
       "      <td>1</td>\n",
       "      <td>46</td>\n",
       "      <td>3</td>\n",
       "      <td>715.25</td>\n",
       "      <td>3</td>\n",
       "    </tr>\n",
       "    <tr>\n",
       "      <th>4</th>\n",
       "      <td>1</td>\n",
       "      <td>33</td>\n",
       "      <td>4</td>\n",
       "      <td>1937.50</td>\n",
       "      <td>1</td>\n",
       "    </tr>\n",
       "    <tr>\n",
       "      <th>...</th>\n",
       "      <td>...</td>\n",
       "      <td>...</td>\n",
       "      <td>...</td>\n",
       "      <td>...</td>\n",
       "      <td>...</td>\n",
       "    </tr>\n",
       "    <tr>\n",
       "      <th>79995</th>\n",
       "      <td>1</td>\n",
       "      <td>71</td>\n",
       "      <td>3</td>\n",
       "      <td>558.82</td>\n",
       "      <td>1</td>\n",
       "    </tr>\n",
       "    <tr>\n",
       "      <th>79996</th>\n",
       "      <td>0</td>\n",
       "      <td>59</td>\n",
       "      <td>7</td>\n",
       "      <td>1932.00</td>\n",
       "      <td>3</td>\n",
       "    </tr>\n",
       "    <tr>\n",
       "      <th>79997</th>\n",
       "      <td>0</td>\n",
       "      <td>54</td>\n",
       "      <td>1</td>\n",
       "      <td>414.16</td>\n",
       "      <td>2</td>\n",
       "    </tr>\n",
       "    <tr>\n",
       "      <th>79998</th>\n",
       "      <td>1</td>\n",
       "      <td>49</td>\n",
       "      <td>4</td>\n",
       "      <td>335.32</td>\n",
       "      <td>1</td>\n",
       "    </tr>\n",
       "    <tr>\n",
       "      <th>79999</th>\n",
       "      <td>1</td>\n",
       "      <td>30</td>\n",
       "      <td>1</td>\n",
       "      <td>527.12</td>\n",
       "      <td>3</td>\n",
       "    </tr>\n",
       "  </tbody>\n",
       "</table>\n",
       "<p>79979 rows × 5 columns</p>\n",
       "</div>"
      ],
      "text/plain": [
       "       in-store  age  items   amount  region\n",
       "0             0   37      4   281.03       2\n",
       "1             0   35      2   219.51       2\n",
       "2             1   45      3  1525.70       4\n",
       "3             1   46      3   715.25       3\n",
       "4             1   33      4  1937.50       1\n",
       "...         ...  ...    ...      ...     ...\n",
       "79995         1   71      3   558.82       1\n",
       "79996         0   59      7  1932.00       3\n",
       "79997         0   54      1   414.16       2\n",
       "79998         1   49      4   335.32       1\n",
       "79999         1   30      1   527.12       3\n",
       "\n",
       "[79979 rows x 5 columns]"
      ]
     },
     "execution_count": 10,
     "metadata": {},
     "output_type": "execute_result"
    }
   ],
   "source": [
    "#drops all duplicates - looks like this data set has 21 duplicate rows \n",
    "data.drop_duplicates()"
   ]
  },
  {
   "cell_type": "code",
   "execution_count": 11,
   "metadata": {},
   "outputs": [
    {
     "data": {
      "text/plain": [
       "in-store      int64\n",
       "age           int64\n",
       "items         int64\n",
       "amount      float64\n",
       "region        int64\n",
       "dtype: object"
      ]
     },
     "execution_count": 11,
     "metadata": {},
     "output_type": "execute_result"
    }
   ],
   "source": [
    "#similar to info \n",
    "data.dtypes"
   ]
  },
  {
   "cell_type": "code",
   "execution_count": 12,
   "metadata": {},
   "outputs": [
    {
     "name": "stdout",
     "output_type": "stream",
     "text": [
      "in-store    0\n",
      "age         0\n",
      "items       0\n",
      "amount      0\n",
      "region      0\n",
      "dtype: int64\n"
     ]
    }
   ],
   "source": [
    "#to find if your data set has null \n",
    "print(data.isnull().sum())"
   ]
  },
  {
   "cell_type": "code",
   "execution_count": 13,
   "metadata": {},
   "outputs": [
    {
     "data": {
      "text/html": [
       "<div>\n",
       "<style scoped>\n",
       "    .dataframe tbody tr th:only-of-type {\n",
       "        vertical-align: middle;\n",
       "    }\n",
       "\n",
       "    .dataframe tbody tr th {\n",
       "        vertical-align: top;\n",
       "    }\n",
       "\n",
       "    .dataframe thead th {\n",
       "        text-align: right;\n",
       "    }\n",
       "</style>\n",
       "<table border=\"1\" class=\"dataframe\">\n",
       "  <thead>\n",
       "    <tr style=\"text-align: right;\">\n",
       "      <th></th>\n",
       "      <th>in-store</th>\n",
       "      <th>age</th>\n",
       "      <th>items</th>\n",
       "      <th>amount</th>\n",
       "      <th>region</th>\n",
       "    </tr>\n",
       "  </thead>\n",
       "  <tbody>\n",
       "    <tr>\n",
       "      <th>0</th>\n",
       "      <td>0</td>\n",
       "      <td>37</td>\n",
       "      <td>4</td>\n",
       "      <td>281.03</td>\n",
       "      <td>2</td>\n",
       "    </tr>\n",
       "    <tr>\n",
       "      <th>1</th>\n",
       "      <td>0</td>\n",
       "      <td>35</td>\n",
       "      <td>2</td>\n",
       "      <td>219.51</td>\n",
       "      <td>2</td>\n",
       "    </tr>\n",
       "    <tr>\n",
       "      <th>2</th>\n",
       "      <td>1</td>\n",
       "      <td>45</td>\n",
       "      <td>3</td>\n",
       "      <td>1525.70</td>\n",
       "      <td>4</td>\n",
       "    </tr>\n",
       "    <tr>\n",
       "      <th>3</th>\n",
       "      <td>1</td>\n",
       "      <td>46</td>\n",
       "      <td>3</td>\n",
       "      <td>715.25</td>\n",
       "      <td>3</td>\n",
       "    </tr>\n",
       "    <tr>\n",
       "      <th>4</th>\n",
       "      <td>1</td>\n",
       "      <td>33</td>\n",
       "      <td>4</td>\n",
       "      <td>1937.50</td>\n",
       "      <td>1</td>\n",
       "    </tr>\n",
       "    <tr>\n",
       "      <th>...</th>\n",
       "      <td>...</td>\n",
       "      <td>...</td>\n",
       "      <td>...</td>\n",
       "      <td>...</td>\n",
       "      <td>...</td>\n",
       "    </tr>\n",
       "    <tr>\n",
       "      <th>79995</th>\n",
       "      <td>1</td>\n",
       "      <td>71</td>\n",
       "      <td>3</td>\n",
       "      <td>558.82</td>\n",
       "      <td>1</td>\n",
       "    </tr>\n",
       "    <tr>\n",
       "      <th>79996</th>\n",
       "      <td>0</td>\n",
       "      <td>59</td>\n",
       "      <td>7</td>\n",
       "      <td>1932.00</td>\n",
       "      <td>3</td>\n",
       "    </tr>\n",
       "    <tr>\n",
       "      <th>79997</th>\n",
       "      <td>0</td>\n",
       "      <td>54</td>\n",
       "      <td>1</td>\n",
       "      <td>414.16</td>\n",
       "      <td>2</td>\n",
       "    </tr>\n",
       "    <tr>\n",
       "      <th>79998</th>\n",
       "      <td>1</td>\n",
       "      <td>49</td>\n",
       "      <td>4</td>\n",
       "      <td>335.32</td>\n",
       "      <td>1</td>\n",
       "    </tr>\n",
       "    <tr>\n",
       "      <th>79999</th>\n",
       "      <td>1</td>\n",
       "      <td>30</td>\n",
       "      <td>1</td>\n",
       "      <td>527.12</td>\n",
       "      <td>3</td>\n",
       "    </tr>\n",
       "  </tbody>\n",
       "</table>\n",
       "<p>80000 rows × 5 columns</p>\n",
       "</div>"
      ],
      "text/plain": [
       "       in-store  age  items   amount  region\n",
       "0             0   37      4   281.03       2\n",
       "1             0   35      2   219.51       2\n",
       "2             1   45      3  1525.70       4\n",
       "3             1   46      3   715.25       3\n",
       "4             1   33      4  1937.50       1\n",
       "...         ...  ...    ...      ...     ...\n",
       "79995         1   71      3   558.82       1\n",
       "79996         0   59      7  1932.00       3\n",
       "79997         0   54      1   414.16       2\n",
       "79998         1   49      4   335.32       1\n",
       "79999         1   30      1   527.12       3\n",
       "\n",
       "[80000 rows x 5 columns]"
      ]
     },
     "execution_count": 13,
     "metadata": {},
     "output_type": "execute_result"
    }
   ],
   "source": [
    "#removes any NA\n",
    "data.dropna()"
   ]
  },
  {
   "cell_type": "code",
   "execution_count": 14,
   "metadata": {},
   "outputs": [
    {
     "data": {
      "text/plain": [
       "45.757925"
      ]
     },
     "execution_count": 14,
     "metadata": {},
     "output_type": "execute_result"
    }
   ],
   "source": [
    "#similar to describe but for single column finding mean \n",
    "data['age'].mean()"
   ]
  },
  {
   "cell_type": "code",
   "execution_count": 15,
   "metadata": {},
   "outputs": [
    {
     "data": {
      "text/html": [
       "<div>\n",
       "<style scoped>\n",
       "    .dataframe tbody tr th:only-of-type {\n",
       "        vertical-align: middle;\n",
       "    }\n",
       "\n",
       "    .dataframe tbody tr th {\n",
       "        vertical-align: top;\n",
       "    }\n",
       "\n",
       "    .dataframe thead th {\n",
       "        text-align: right;\n",
       "    }\n",
       "</style>\n",
       "<table border=\"1\" class=\"dataframe\">\n",
       "  <thead>\n",
       "    <tr style=\"text-align: right;\">\n",
       "      <th>region</th>\n",
       "      <th>1</th>\n",
       "      <th>2</th>\n",
       "      <th>3</th>\n",
       "      <th>4</th>\n",
       "    </tr>\n",
       "  </thead>\n",
       "  <tbody>\n",
       "    <tr>\n",
       "      <th>0</th>\n",
       "      <td>NaN</td>\n",
       "      <td>281.03</td>\n",
       "      <td>NaN</td>\n",
       "      <td>NaN</td>\n",
       "    </tr>\n",
       "    <tr>\n",
       "      <th>1</th>\n",
       "      <td>NaN</td>\n",
       "      <td>219.51</td>\n",
       "      <td>NaN</td>\n",
       "      <td>NaN</td>\n",
       "    </tr>\n",
       "    <tr>\n",
       "      <th>2</th>\n",
       "      <td>NaN</td>\n",
       "      <td>NaN</td>\n",
       "      <td>NaN</td>\n",
       "      <td>1525.7</td>\n",
       "    </tr>\n",
       "    <tr>\n",
       "      <th>3</th>\n",
       "      <td>NaN</td>\n",
       "      <td>NaN</td>\n",
       "      <td>715.25</td>\n",
       "      <td>NaN</td>\n",
       "    </tr>\n",
       "    <tr>\n",
       "      <th>4</th>\n",
       "      <td>1937.50</td>\n",
       "      <td>NaN</td>\n",
       "      <td>NaN</td>\n",
       "      <td>NaN</td>\n",
       "    </tr>\n",
       "    <tr>\n",
       "      <th>...</th>\n",
       "      <td>...</td>\n",
       "      <td>...</td>\n",
       "      <td>...</td>\n",
       "      <td>...</td>\n",
       "    </tr>\n",
       "    <tr>\n",
       "      <th>79995</th>\n",
       "      <td>558.82</td>\n",
       "      <td>NaN</td>\n",
       "      <td>NaN</td>\n",
       "      <td>NaN</td>\n",
       "    </tr>\n",
       "    <tr>\n",
       "      <th>79996</th>\n",
       "      <td>NaN</td>\n",
       "      <td>NaN</td>\n",
       "      <td>1932.00</td>\n",
       "      <td>NaN</td>\n",
       "    </tr>\n",
       "    <tr>\n",
       "      <th>79997</th>\n",
       "      <td>NaN</td>\n",
       "      <td>414.16</td>\n",
       "      <td>NaN</td>\n",
       "      <td>NaN</td>\n",
       "    </tr>\n",
       "    <tr>\n",
       "      <th>79998</th>\n",
       "      <td>335.32</td>\n",
       "      <td>NaN</td>\n",
       "      <td>NaN</td>\n",
       "      <td>NaN</td>\n",
       "    </tr>\n",
       "    <tr>\n",
       "      <th>79999</th>\n",
       "      <td>NaN</td>\n",
       "      <td>NaN</td>\n",
       "      <td>527.12</td>\n",
       "      <td>NaN</td>\n",
       "    </tr>\n",
       "  </tbody>\n",
       "</table>\n",
       "<p>80000 rows × 4 columns</p>\n",
       "</div>"
      ],
      "text/plain": [
       "region        1       2        3       4\n",
       "0           NaN  281.03      NaN     NaN\n",
       "1           NaN  219.51      NaN     NaN\n",
       "2           NaN     NaN      NaN  1525.7\n",
       "3           NaN     NaN   715.25     NaN\n",
       "4       1937.50     NaN      NaN     NaN\n",
       "...         ...     ...      ...     ...\n",
       "79995    558.82     NaN      NaN     NaN\n",
       "79996       NaN     NaN  1932.00     NaN\n",
       "79997       NaN  414.16      NaN     NaN\n",
       "79998    335.32     NaN      NaN     NaN\n",
       "79999       NaN     NaN   527.12     NaN\n",
       "\n",
       "[80000 rows x 4 columns]"
      ]
     },
     "execution_count": 15,
     "metadata": {},
     "output_type": "execute_result"
    }
   ],
   "source": [
    "#trying pivot view - not quiet there yet\n",
    "data.pivot( columns='region')['amount']"
   ]
  },
  {
   "cell_type": "code",
   "execution_count": 16,
   "metadata": {},
   "outputs": [
    {
     "data": {
      "text/plain": [
       "array([37, 35, 45, 46, 33, 24, 43, 66, 51, 47, 44, 32, 48, 34, 20, 58, 49,\n",
       "       55, 31, 53, 21, 42, 40, 28, 59, 41, 74, 19, 54, 57, 30, 27, 38, 26,\n",
       "       36, 22, 39, 69, 81, 65, 61, 62, 78, 29, 67, 80, 73, 25, 52, 50, 70,\n",
       "       56, 60, 64, 71, 63, 84, 72, 83, 79, 18, 23, 68, 75, 85, 76, 77, 82])"
      ]
     },
     "execution_count": 16,
     "metadata": {},
     "output_type": "execute_result"
    }
   ],
   "source": [
    "#find unique values \n",
    "data['age'].unique()"
   ]
  },
  {
   "cell_type": "code",
   "execution_count": 17,
   "metadata": {},
   "outputs": [
    {
     "data": {
      "text/plain": [
       "in-store      0.500\n",
       "age          45.000\n",
       "items         4.000\n",
       "amount      582.315\n",
       "region        3.000\n",
       "dtype: float64"
      ]
     },
     "execution_count": 17,
     "metadata": {},
     "output_type": "execute_result"
    }
   ],
   "source": [
    "#similar to info - find median \n",
    "data.median()"
   ]
  },
  {
   "cell_type": "code",
   "execution_count": 18,
   "metadata": {},
   "outputs": [
    {
     "data": {
      "text/plain": [
       "80000"
      ]
     },
     "execution_count": 18,
     "metadata": {},
     "output_type": "execute_result"
    }
   ],
   "source": [
    "\n",
    "#todatl column count \n",
    "data['amount'].count()"
   ]
  },
  {
   "cell_type": "code",
   "execution_count": 19,
   "metadata": {},
   "outputs": [
    {
     "data": {
      "text/plain": [
       "66873573.57050001"
      ]
     },
     "execution_count": 19,
     "metadata": {},
     "output_type": "execute_result"
    }
   ],
   "source": [
    "#todatl column sum \n",
    "data['amount'].sum()"
   ]
  },
  {
   "cell_type": "code",
   "execution_count": 20,
   "metadata": {},
   "outputs": [
    {
     "data": {
      "text/plain": [
       "1914.000    9\n",
       "1129.500    8\n",
       "1073.500    8\n",
       "1487.400    8\n",
       "1318.300    7\n",
       "           ..\n",
       "46.762      1\n",
       "630.080     1\n",
       "853.340     1\n",
       "186.260     1\n",
       "192.000     1\n",
       "Name: amount, Length: 56112, dtype: int64"
      ]
     },
     "execution_count": 20,
     "metadata": {},
     "output_type": "execute_result"
    }
   ],
   "source": [
    "#value count \n",
    "data['amount'].value_counts()"
   ]
  },
  {
   "cell_type": "code",
   "execution_count": 21,
   "metadata": {},
   "outputs": [
    {
     "data": {
      "text/html": [
       "<div>\n",
       "<style scoped>\n",
       "    .dataframe tbody tr th:only-of-type {\n",
       "        vertical-align: middle;\n",
       "    }\n",
       "\n",
       "    .dataframe tbody tr th {\n",
       "        vertical-align: top;\n",
       "    }\n",
       "\n",
       "    .dataframe thead th {\n",
       "        text-align: right;\n",
       "    }\n",
       "</style>\n",
       "<table border=\"1\" class=\"dataframe\">\n",
       "  <thead>\n",
       "    <tr style=\"text-align: right;\">\n",
       "      <th></th>\n",
       "      <th>in-store</th>\n",
       "      <th>age</th>\n",
       "      <th>items</th>\n",
       "      <th>amount</th>\n",
       "      <th>region</th>\n",
       "    </tr>\n",
       "  </thead>\n",
       "  <tbody>\n",
       "    <tr>\n",
       "      <th>0</th>\n",
       "      <td>0</td>\n",
       "      <td>37</td>\n",
       "      <td>4</td>\n",
       "      <td>281.03</td>\n",
       "      <td>2</td>\n",
       "    </tr>\n",
       "    <tr>\n",
       "      <th>1</th>\n",
       "      <td>0</td>\n",
       "      <td>35</td>\n",
       "      <td>2</td>\n",
       "      <td>219.51</td>\n",
       "      <td>2</td>\n",
       "    </tr>\n",
       "    <tr>\n",
       "      <th>2</th>\n",
       "      <td>1</td>\n",
       "      <td>45</td>\n",
       "      <td>3</td>\n",
       "      <td>1525.70</td>\n",
       "      <td>4</td>\n",
       "    </tr>\n",
       "    <tr>\n",
       "      <th>3</th>\n",
       "      <td>1</td>\n",
       "      <td>46</td>\n",
       "      <td>3</td>\n",
       "      <td>715.25</td>\n",
       "      <td>3</td>\n",
       "    </tr>\n",
       "    <tr>\n",
       "      <th>4</th>\n",
       "      <td>1</td>\n",
       "      <td>33</td>\n",
       "      <td>4</td>\n",
       "      <td>1937.50</td>\n",
       "      <td>1</td>\n",
       "    </tr>\n",
       "  </tbody>\n",
       "</table>\n",
       "</div>"
      ],
      "text/plain": [
       "   in-store  age  items   amount  region\n",
       "0         0   37      4   281.03       2\n",
       "1         0   35      2   219.51       2\n",
       "2         1   45      3  1525.70       4\n",
       "3         1   46      3   715.25       3\n",
       "4         1   33      4  1937.50       1"
      ]
     },
     "execution_count": 21,
     "metadata": {},
     "output_type": "execute_result"
    }
   ],
   "source": [
    "# loc - access rows by label  and iloc - access rows by integer location based  - different choices of indexing \n",
    "# need to read more \n",
    "data.iloc[:5]"
   ]
  },
  {
   "cell_type": "code",
   "execution_count": 22,
   "metadata": {},
   "outputs": [
    {
     "data": {
      "text/plain": [
       "4    0.325\n",
       "2    0.250\n",
       "3    0.225\n",
       "1    0.200\n",
       "Name: region, dtype: float64"
      ]
     },
     "execution_count": 22,
     "metadata": {},
     "output_type": "execute_result"
    }
   ],
   "source": [
    "#finding Percentage \n",
    "data['region'].value_counts(normalize=True)"
   ]
  },
  {
   "cell_type": "code",
   "execution_count": 23,
   "metadata": {},
   "outputs": [],
   "source": [
    "#tried grouping \n",
    "instore_grp=data.groupby(['in-store'])"
   ]
  },
  {
   "cell_type": "code",
   "execution_count": 24,
   "metadata": {},
   "outputs": [
    {
     "data": {
      "text/plain": [
       "1    40000\n",
       "0    40000\n",
       "Name: in-store, dtype: int64"
      ]
     },
     "execution_count": 24,
     "metadata": {},
     "output_type": "execute_result"
    }
   ],
   "source": [
    "data['in-store'].value_counts()"
   ]
  },
  {
   "cell_type": "code",
   "execution_count": 25,
   "metadata": {},
   "outputs": [
    {
     "data": {
      "text/plain": [
       "Series([], Name: amount, dtype: int64)"
      ]
     },
     "execution_count": 25,
     "metadata": {},
     "output_type": "execute_result"
    }
   ],
   "source": [
    "#filtering \n",
    "filt=data['in-store'] == '1'\n",
    "data.loc[filt]['amount'].value_counts()"
   ]
  },
  {
   "cell_type": "markdown",
   "metadata": {},
   "source": [
    "## Finding 1 - Online spend more than in-store "
   ]
  },
  {
   "cell_type": "code",
   "execution_count": 26,
   "metadata": {},
   "outputs": [
    {
     "data": {
      "text/html": [
       "<style  type=\"text/css\" >\n",
       "</style><table id=\"T_39376826_195f_11eb_9e36_804a14664885\" ><thead>    <tr>        <th class=\"blank level0\" ></th>        <th class=\"col_heading level0 col0\" >amount</th>    </tr>    <tr>        <th class=\"index_name level0\" >in-store</th>        <th class=\"blank\" ></th>    </tr></thead><tbody>\n",
       "                <tr>\n",
       "                        <th id=\"T_39376826_195f_11eb_9e36_804a14664885level0_row0\" class=\"row_heading level0 row0\" >0</th>\n",
       "                        <td id=\"T_39376826_195f_11eb_9e36_804a14664885row0_col0\" class=\"data row0 col0\" >$35,902,788</td>\n",
       "            </tr>\n",
       "            <tr>\n",
       "                        <th id=\"T_39376826_195f_11eb_9e36_804a14664885level0_row1\" class=\"row_heading level0 row1\" >1</th>\n",
       "                        <td id=\"T_39376826_195f_11eb_9e36_804a14664885row1_col0\" class=\"data row1 col0\" >$30,970,785</td>\n",
       "            </tr>\n",
       "    </tbody></table>"
      ],
      "text/plain": [
       "<pandas.io.formats.style.Styler at 0x7fa8254645b0>"
      ]
     },
     "execution_count": 26,
     "metadata": {},
     "output_type": "execute_result"
    }
   ],
   "source": [
    "#used grouping to sum all columns - Question how to see amount as amount? it shows as a float \n",
    "# This concat helps me answer that online spend more than instore - #1 finding using Pandas\n",
    "pd.concat([instore_grp.amount.sum()], axis=1).style.format('${0:,.0f}')"
   ]
  },
  {
   "cell_type": "code",
   "execution_count": 27,
   "metadata": {},
   "outputs": [],
   "source": [
    "#grouping region \n",
    "region_grp = data.groupby(['region'])\n"
   ]
  },
  {
   "cell_type": "code",
   "execution_count": 28,
   "metadata": {},
   "outputs": [
    {
     "data": {
      "text/plain": [
       "16000"
      ]
     },
     "execution_count": 28,
     "metadata": {},
     "output_type": "execute_result"
    }
   ],
   "source": [
    "grouped_df = data.groupby(['region']).size()\n",
    "grouped_df[1]"
   ]
  },
  {
   "cell_type": "code",
   "execution_count": 29,
   "metadata": {},
   "outputs": [
    {
     "data": {
      "text/html": [
       "<div>\n",
       "<style scoped>\n",
       "    .dataframe tbody tr th:only-of-type {\n",
       "        vertical-align: middle;\n",
       "    }\n",
       "\n",
       "    .dataframe tbody tr th {\n",
       "        vertical-align: top;\n",
       "    }\n",
       "\n",
       "    .dataframe thead th {\n",
       "        text-align: right;\n",
       "    }\n",
       "</style>\n",
       "<table border=\"1\" class=\"dataframe\">\n",
       "  <thead>\n",
       "    <tr style=\"text-align: right;\">\n",
       "      <th></th>\n",
       "      <th>in-store</th>\n",
       "      <th>age</th>\n",
       "      <th>items</th>\n",
       "      <th>amount</th>\n",
       "    </tr>\n",
       "    <tr>\n",
       "      <th>region</th>\n",
       "      <th></th>\n",
       "      <th></th>\n",
       "      <th></th>\n",
       "      <th></th>\n",
       "    </tr>\n",
       "  </thead>\n",
       "  <tbody>\n",
       "    <tr>\n",
       "      <th>1</th>\n",
       "      <td>16000</td>\n",
       "      <td>699263</td>\n",
       "      <td>72161</td>\n",
       "      <td>1.192258e+07</td>\n",
       "    </tr>\n",
       "    <tr>\n",
       "      <th>2</th>\n",
       "      <td>0</td>\n",
       "      <td>1132207</td>\n",
       "      <td>90255</td>\n",
       "      <td>5.042184e+06</td>\n",
       "    </tr>\n",
       "    <tr>\n",
       "      <th>3</th>\n",
       "      <td>10999</td>\n",
       "      <td>821645</td>\n",
       "      <td>80892</td>\n",
       "      <td>1.652345e+07</td>\n",
       "    </tr>\n",
       "    <tr>\n",
       "      <th>4</th>\n",
       "      <td>13001</td>\n",
       "      <td>1007519</td>\n",
       "      <td>117090</td>\n",
       "      <td>3.338535e+07</td>\n",
       "    </tr>\n",
       "  </tbody>\n",
       "</table>\n",
       "</div>"
      ],
      "text/plain": [
       "        in-store      age   items        amount\n",
       "region                                         \n",
       "1          16000   699263   72161  1.192258e+07\n",
       "2              0  1132207   90255  5.042184e+06\n",
       "3          10999   821645   80892  1.652345e+07\n",
       "4          13001  1007519  117090  3.338535e+07"
      ]
     },
     "execution_count": 29,
     "metadata": {},
     "output_type": "execute_result"
    }
   ],
   "source": [
    "#This shows 4 region has more transaction than 2,3,and 1. The order is 4,2,3,and 1. - #2 Finding\n",
    "# I could have found what is the total amount per region spend if i know how to show in $ \n",
    "#'${:,.2f}'.format(1234.5)\n",
    "pd.concat([region_grp.sum()], axis=1) "
   ]
  },
  {
   "cell_type": "markdown",
   "metadata": {},
   "source": [
    "# Which region spend more/least? \n",
    "## Finding 2 - Region 4 i.e. West brings more revenue \n",
    "## Finidng 3 - Region 2 i.e. South needs more attention "
   ]
  },
  {
   "cell_type": "code",
   "execution_count": 30,
   "metadata": {},
   "outputs": [
    {
     "data": {
      "text/html": [
       "<style  type=\"text/css\" >\n",
       "</style><table id=\"T_393bf15c_195f_11eb_9e36_804a14664885\" ><thead>    <tr>        <th class=\"blank level0\" ></th>        <th class=\"col_heading level0 col0\" >sum</th>    </tr>    <tr>        <th class=\"index_name level0\" >region</th>        <th class=\"blank\" ></th>    </tr></thead><tbody>\n",
       "                <tr>\n",
       "                        <th id=\"T_393bf15c_195f_11eb_9e36_804a14664885level0_row0\" class=\"row_heading level0 row0\" >1</th>\n",
       "                        <td id=\"T_393bf15c_195f_11eb_9e36_804a14664885row0_col0\" class=\"data row0 col0\" >$11,922,584</td>\n",
       "            </tr>\n",
       "            <tr>\n",
       "                        <th id=\"T_393bf15c_195f_11eb_9e36_804a14664885level0_row1\" class=\"row_heading level0 row1\" >2</th>\n",
       "                        <td id=\"T_393bf15c_195f_11eb_9e36_804a14664885row1_col0\" class=\"data row1 col0\" >$5,042,184</td>\n",
       "            </tr>\n",
       "            <tr>\n",
       "                        <th id=\"T_393bf15c_195f_11eb_9e36_804a14664885level0_row2\" class=\"row_heading level0 row2\" >3</th>\n",
       "                        <td id=\"T_393bf15c_195f_11eb_9e36_804a14664885row2_col0\" class=\"data row2 col0\" >$16,523,453</td>\n",
       "            </tr>\n",
       "            <tr>\n",
       "                        <th id=\"T_393bf15c_195f_11eb_9e36_804a14664885level0_row3\" class=\"row_heading level0 row3\" >4</th>\n",
       "                        <td id=\"T_393bf15c_195f_11eb_9e36_804a14664885row3_col0\" class=\"data row3 col0\" >$33,385,352</td>\n",
       "            </tr>\n",
       "    </tbody></table>"
      ],
      "text/plain": [
       "<pandas.io.formats.style.Styler at 0x7fa82a871310>"
      ]
     },
     "execution_count": 30,
     "metadata": {},
     "output_type": "execute_result"
    }
   ],
   "source": [
    "# at last found the stlying usage - hey I am a web developer stlying is imprtant :) \n",
    "#3 finding that region which bought more revenue is 4,3,1,and 2 - 2 needs lot of attention since its not performing\n",
    "#well i.e south region \n",
    "(data.groupby('region')['amount']\n",
    " .agg(['sum'])\n",
    " .style.format('${0:,.0f}'))"
   ]
  },
  {
   "cell_type": "code",
   "execution_count": 31,
   "metadata": {},
   "outputs": [
    {
     "data": {
      "text/html": [
       "<style  type=\"text/css\" >\n",
       "</style><table id=\"T_393dc6a8_195f_11eb_9e36_804a14664885\" ><thead>    <tr>        <th class=\"blank level0\" ></th>        <th class=\"col_heading level0 col0\" >amount</th>    </tr>    <tr>        <th class=\"index_name level0\" >region</th>        <th class=\"blank\" ></th>    </tr></thead><tbody>\n",
       "                <tr>\n",
       "                        <th id=\"T_393dc6a8_195f_11eb_9e36_804a14664885level0_row0\" class=\"row_heading level0 row0\" >1</th>\n",
       "                        <td id=\"T_393dc6a8_195f_11eb_9e36_804a14664885row0_col0\" class=\"data row0 col0\" >$11,922,584</td>\n",
       "            </tr>\n",
       "            <tr>\n",
       "                        <th id=\"T_393dc6a8_195f_11eb_9e36_804a14664885level0_row1\" class=\"row_heading level0 row1\" >2</th>\n",
       "                        <td id=\"T_393dc6a8_195f_11eb_9e36_804a14664885row1_col0\" class=\"data row1 col0\" >$5,042,184</td>\n",
       "            </tr>\n",
       "            <tr>\n",
       "                        <th id=\"T_393dc6a8_195f_11eb_9e36_804a14664885level0_row2\" class=\"row_heading level0 row2\" >3</th>\n",
       "                        <td id=\"T_393dc6a8_195f_11eb_9e36_804a14664885row2_col0\" class=\"data row2 col0\" >$16,523,453</td>\n",
       "            </tr>\n",
       "            <tr>\n",
       "                        <th id=\"T_393dc6a8_195f_11eb_9e36_804a14664885level0_row3\" class=\"row_heading level0 row3\" >4</th>\n",
       "                        <td id=\"T_393dc6a8_195f_11eb_9e36_804a14664885row3_col0\" class=\"data row3 col0\" >$33,385,352</td>\n",
       "            </tr>\n",
       "    </tbody></table>"
      ],
      "text/plain": [
       "<pandas.io.formats.style.Styler at 0x7fa82a871fd0>"
      ]
     },
     "execution_count": 31,
     "metadata": {},
     "output_type": "execute_result"
    }
   ],
   "source": [
    "#trying pivot \n",
    "pivot1 = pd.pivot_table(data,index='region',values='amount',aggfunc='sum')\n",
    "pivot1.style.format('${0:,.0f}')"
   ]
  },
  {
   "cell_type": "code",
   "execution_count": 32,
   "metadata": {},
   "outputs": [
    {
     "data": {
      "text/html": [
       "<div>\n",
       "<style scoped>\n",
       "    .dataframe tbody tr th:only-of-type {\n",
       "        vertical-align: middle;\n",
       "    }\n",
       "\n",
       "    .dataframe tbody tr th {\n",
       "        vertical-align: top;\n",
       "    }\n",
       "\n",
       "    .dataframe thead th {\n",
       "        text-align: right;\n",
       "    }\n",
       "</style>\n",
       "<table border=\"1\" class=\"dataframe\">\n",
       "  <thead>\n",
       "    <tr style=\"text-align: right;\">\n",
       "      <th></th>\n",
       "      <th>in-store</th>\n",
       "      <th>age</th>\n",
       "      <th>items</th>\n",
       "      <th>amount</th>\n",
       "      <th>region</th>\n",
       "      <th>Age_grp</th>\n",
       "    </tr>\n",
       "  </thead>\n",
       "  <tbody>\n",
       "    <tr>\n",
       "      <th>0</th>\n",
       "      <td>0</td>\n",
       "      <td>37</td>\n",
       "      <td>4</td>\n",
       "      <td>281.03</td>\n",
       "      <td>2</td>\n",
       "      <td>34-44</td>\n",
       "    </tr>\n",
       "    <tr>\n",
       "      <th>1</th>\n",
       "      <td>0</td>\n",
       "      <td>35</td>\n",
       "      <td>2</td>\n",
       "      <td>219.51</td>\n",
       "      <td>2</td>\n",
       "      <td>34-44</td>\n",
       "    </tr>\n",
       "    <tr>\n",
       "      <th>2</th>\n",
       "      <td>1</td>\n",
       "      <td>45</td>\n",
       "      <td>3</td>\n",
       "      <td>1525.70</td>\n",
       "      <td>4</td>\n",
       "      <td>44-54</td>\n",
       "    </tr>\n",
       "    <tr>\n",
       "      <th>3</th>\n",
       "      <td>1</td>\n",
       "      <td>46</td>\n",
       "      <td>3</td>\n",
       "      <td>715.25</td>\n",
       "      <td>3</td>\n",
       "      <td>44-54</td>\n",
       "    </tr>\n",
       "    <tr>\n",
       "      <th>4</th>\n",
       "      <td>1</td>\n",
       "      <td>33</td>\n",
       "      <td>4</td>\n",
       "      <td>1937.50</td>\n",
       "      <td>1</td>\n",
       "      <td>24-34</td>\n",
       "    </tr>\n",
       "    <tr>\n",
       "      <th>...</th>\n",
       "      <td>...</td>\n",
       "      <td>...</td>\n",
       "      <td>...</td>\n",
       "      <td>...</td>\n",
       "      <td>...</td>\n",
       "      <td>...</td>\n",
       "    </tr>\n",
       "    <tr>\n",
       "      <th>79995</th>\n",
       "      <td>1</td>\n",
       "      <td>71</td>\n",
       "      <td>3</td>\n",
       "      <td>558.82</td>\n",
       "      <td>1</td>\n",
       "      <td>64-85</td>\n",
       "    </tr>\n",
       "    <tr>\n",
       "      <th>79996</th>\n",
       "      <td>0</td>\n",
       "      <td>59</td>\n",
       "      <td>7</td>\n",
       "      <td>1932.00</td>\n",
       "      <td>3</td>\n",
       "      <td>54-64</td>\n",
       "    </tr>\n",
       "    <tr>\n",
       "      <th>79997</th>\n",
       "      <td>0</td>\n",
       "      <td>54</td>\n",
       "      <td>1</td>\n",
       "      <td>414.16</td>\n",
       "      <td>2</td>\n",
       "      <td>44-54</td>\n",
       "    </tr>\n",
       "    <tr>\n",
       "      <th>79998</th>\n",
       "      <td>1</td>\n",
       "      <td>49</td>\n",
       "      <td>4</td>\n",
       "      <td>335.32</td>\n",
       "      <td>1</td>\n",
       "      <td>44-54</td>\n",
       "    </tr>\n",
       "    <tr>\n",
       "      <th>79999</th>\n",
       "      <td>1</td>\n",
       "      <td>30</td>\n",
       "      <td>1</td>\n",
       "      <td>527.12</td>\n",
       "      <td>3</td>\n",
       "      <td>24-34</td>\n",
       "    </tr>\n",
       "  </tbody>\n",
       "</table>\n",
       "<p>80000 rows × 6 columns</p>\n",
       "</div>"
      ],
      "text/plain": [
       "       in-store  age  items   amount  region Age_grp\n",
       "0             0   37      4   281.03       2   34-44\n",
       "1             0   35      2   219.51       2   34-44\n",
       "2             1   45      3  1525.70       4   44-54\n",
       "3             1   46      3   715.25       3   44-54\n",
       "4             1   33      4  1937.50       1   24-34\n",
       "...         ...  ...    ...      ...     ...     ...\n",
       "79995         1   71      3   558.82       1   64-85\n",
       "79996         0   59      7  1932.00       3   54-64\n",
       "79997         0   54      1   414.16       2   44-54\n",
       "79998         1   49      4   335.32       1   44-54\n",
       "79999         1   30      1   527.12       3   24-34\n",
       "\n",
       "[80000 rows x 6 columns]"
      ]
     },
     "execution_count": 32,
     "metadata": {},
     "output_type": "execute_result"
    }
   ],
   "source": [
    "#Discretization example - pd.cut \n",
    "# lesson learnt - do not drop anything :/\n",
    "data['Age_grp']= pd.cut(data.age,bins=[18,24,34,44,54,64,85],labels=['18-24','24-34','34-44','44-54','54-64','64-85'])\n",
    "\n",
    "data  "
   ]
  },
  {
   "cell_type": "markdown",
   "metadata": {},
   "source": [
    "##  Finding 4 - Age 20-62 spend more than other age group. Top age to sepnd more is 39 and least is 85"
   ]
  },
  {
   "cell_type": "code",
   "execution_count": 33,
   "metadata": {},
   "outputs": [
    {
     "data": {
      "text/html": [
       "<style  type=\"text/css\" >\n",
       "</style><table id=\"T_39426e9c_195f_11eb_9e36_804a14664885\" ><thead>    <tr>        <th class=\"blank level0\" ></th>        <th class=\"col_heading level0 col0\" >amount</th>    </tr>    <tr>        <th class=\"index_name level0\" >age</th>        <th class=\"blank\" ></th>    </tr></thead><tbody>\n",
       "                <tr>\n",
       "                        <th id=\"T_39426e9c_195f_11eb_9e36_804a14664885level0_row0\" class=\"row_heading level0 row0\" >39</th>\n",
       "                        <td id=\"T_39426e9c_195f_11eb_9e36_804a14664885row0_col0\" class=\"data row0 col0\" >$1,617,809</td>\n",
       "            </tr>\n",
       "            <tr>\n",
       "                        <th id=\"T_39426e9c_195f_11eb_9e36_804a14664885level0_row1\" class=\"row_heading level0 row1\" >53</th>\n",
       "                        <td id=\"T_39426e9c_195f_11eb_9e36_804a14664885row1_col0\" class=\"data row1 col0\" >$1,610,641</td>\n",
       "            </tr>\n",
       "            <tr>\n",
       "                        <th id=\"T_39426e9c_195f_11eb_9e36_804a14664885level0_row2\" class=\"row_heading level0 row2\" >31</th>\n",
       "                        <td id=\"T_39426e9c_195f_11eb_9e36_804a14664885row2_col0\" class=\"data row2 col0\" >$1,606,716</td>\n",
       "            </tr>\n",
       "            <tr>\n",
       "                        <th id=\"T_39426e9c_195f_11eb_9e36_804a14664885level0_row3\" class=\"row_heading level0 row3\" >35</th>\n",
       "                        <td id=\"T_39426e9c_195f_11eb_9e36_804a14664885row3_col0\" class=\"data row3 col0\" >$1,594,952</td>\n",
       "            </tr>\n",
       "            <tr>\n",
       "                        <th id=\"T_39426e9c_195f_11eb_9e36_804a14664885level0_row4\" class=\"row_heading level0 row4\" >37</th>\n",
       "                        <td id=\"T_39426e9c_195f_11eb_9e36_804a14664885row4_col0\" class=\"data row4 col0\" >$1,591,418</td>\n",
       "            </tr>\n",
       "            <tr>\n",
       "                        <th id=\"T_39426e9c_195f_11eb_9e36_804a14664885level0_row5\" class=\"row_heading level0 row5\" >47</th>\n",
       "                        <td id=\"T_39426e9c_195f_11eb_9e36_804a14664885row5_col0\" class=\"data row5 col0\" >$1,588,055</td>\n",
       "            </tr>\n",
       "            <tr>\n",
       "                        <th id=\"T_39426e9c_195f_11eb_9e36_804a14664885level0_row6\" class=\"row_heading level0 row6\" >38</th>\n",
       "                        <td id=\"T_39426e9c_195f_11eb_9e36_804a14664885row6_col0\" class=\"data row6 col0\" >$1,587,103</td>\n",
       "            </tr>\n",
       "            <tr>\n",
       "                        <th id=\"T_39426e9c_195f_11eb_9e36_804a14664885level0_row7\" class=\"row_heading level0 row7\" >36</th>\n",
       "                        <td id=\"T_39426e9c_195f_11eb_9e36_804a14664885row7_col0\" class=\"data row7 col0\" >$1,587,101</td>\n",
       "            </tr>\n",
       "            <tr>\n",
       "                        <th id=\"T_39426e9c_195f_11eb_9e36_804a14664885level0_row8\" class=\"row_heading level0 row8\" >28</th>\n",
       "                        <td id=\"T_39426e9c_195f_11eb_9e36_804a14664885row8_col0\" class=\"data row8 col0\" >$1,585,286</td>\n",
       "            </tr>\n",
       "            <tr>\n",
       "                        <th id=\"T_39426e9c_195f_11eb_9e36_804a14664885level0_row9\" class=\"row_heading level0 row9\" >29</th>\n",
       "                        <td id=\"T_39426e9c_195f_11eb_9e36_804a14664885row9_col0\" class=\"data row9 col0\" >$1,565,919</td>\n",
       "            </tr>\n",
       "            <tr>\n",
       "                        <th id=\"T_39426e9c_195f_11eb_9e36_804a14664885level0_row10\" class=\"row_heading level0 row10\" >30</th>\n",
       "                        <td id=\"T_39426e9c_195f_11eb_9e36_804a14664885row10_col0\" class=\"data row10 col0\" >$1,561,868</td>\n",
       "            </tr>\n",
       "            <tr>\n",
       "                        <th id=\"T_39426e9c_195f_11eb_9e36_804a14664885level0_row11\" class=\"row_heading level0 row11\" >33</th>\n",
       "                        <td id=\"T_39426e9c_195f_11eb_9e36_804a14664885row11_col0\" class=\"data row11 col0\" >$1,556,040</td>\n",
       "            </tr>\n",
       "            <tr>\n",
       "                        <th id=\"T_39426e9c_195f_11eb_9e36_804a14664885level0_row12\" class=\"row_heading level0 row12\" >50</th>\n",
       "                        <td id=\"T_39426e9c_195f_11eb_9e36_804a14664885row12_col0\" class=\"data row12 col0\" >$1,553,625</td>\n",
       "            </tr>\n",
       "            <tr>\n",
       "                        <th id=\"T_39426e9c_195f_11eb_9e36_804a14664885level0_row13\" class=\"row_heading level0 row13\" >44</th>\n",
       "                        <td id=\"T_39426e9c_195f_11eb_9e36_804a14664885row13_col0\" class=\"data row13 col0\" >$1,553,075</td>\n",
       "            </tr>\n",
       "            <tr>\n",
       "                        <th id=\"T_39426e9c_195f_11eb_9e36_804a14664885level0_row14\" class=\"row_heading level0 row14\" >48</th>\n",
       "                        <td id=\"T_39426e9c_195f_11eb_9e36_804a14664885row14_col0\" class=\"data row14 col0\" >$1,552,017</td>\n",
       "            </tr>\n",
       "            <tr>\n",
       "                        <th id=\"T_39426e9c_195f_11eb_9e36_804a14664885level0_row15\" class=\"row_heading level0 row15\" >34</th>\n",
       "                        <td id=\"T_39426e9c_195f_11eb_9e36_804a14664885row15_col0\" class=\"data row15 col0\" >$1,543,931</td>\n",
       "            </tr>\n",
       "            <tr>\n",
       "                        <th id=\"T_39426e9c_195f_11eb_9e36_804a14664885level0_row16\" class=\"row_heading level0 row16\" >32</th>\n",
       "                        <td id=\"T_39426e9c_195f_11eb_9e36_804a14664885row16_col0\" class=\"data row16 col0\" >$1,543,899</td>\n",
       "            </tr>\n",
       "            <tr>\n",
       "                        <th id=\"T_39426e9c_195f_11eb_9e36_804a14664885level0_row17\" class=\"row_heading level0 row17\" >43</th>\n",
       "                        <td id=\"T_39426e9c_195f_11eb_9e36_804a14664885row17_col0\" class=\"data row17 col0\" >$1,543,287</td>\n",
       "            </tr>\n",
       "            <tr>\n",
       "                        <th id=\"T_39426e9c_195f_11eb_9e36_804a14664885level0_row18\" class=\"row_heading level0 row18\" >46</th>\n",
       "                        <td id=\"T_39426e9c_195f_11eb_9e36_804a14664885row18_col0\" class=\"data row18 col0\" >$1,541,287</td>\n",
       "            </tr>\n",
       "            <tr>\n",
       "                        <th id=\"T_39426e9c_195f_11eb_9e36_804a14664885level0_row19\" class=\"row_heading level0 row19\" >49</th>\n",
       "                        <td id=\"T_39426e9c_195f_11eb_9e36_804a14664885row19_col0\" class=\"data row19 col0\" >$1,540,963</td>\n",
       "            </tr>\n",
       "            <tr>\n",
       "                        <th id=\"T_39426e9c_195f_11eb_9e36_804a14664885level0_row20\" class=\"row_heading level0 row20\" >52</th>\n",
       "                        <td id=\"T_39426e9c_195f_11eb_9e36_804a14664885row20_col0\" class=\"data row20 col0\" >$1,538,725</td>\n",
       "            </tr>\n",
       "            <tr>\n",
       "                        <th id=\"T_39426e9c_195f_11eb_9e36_804a14664885level0_row21\" class=\"row_heading level0 row21\" >25</th>\n",
       "                        <td id=\"T_39426e9c_195f_11eb_9e36_804a14664885row21_col0\" class=\"data row21 col0\" >$1,530,550</td>\n",
       "            </tr>\n",
       "            <tr>\n",
       "                        <th id=\"T_39426e9c_195f_11eb_9e36_804a14664885level0_row22\" class=\"row_heading level0 row22\" >54</th>\n",
       "                        <td id=\"T_39426e9c_195f_11eb_9e36_804a14664885row22_col0\" class=\"data row22 col0\" >$1,520,679</td>\n",
       "            </tr>\n",
       "            <tr>\n",
       "                        <th id=\"T_39426e9c_195f_11eb_9e36_804a14664885level0_row23\" class=\"row_heading level0 row23\" >42</th>\n",
       "                        <td id=\"T_39426e9c_195f_11eb_9e36_804a14664885row23_col0\" class=\"data row23 col0\" >$1,518,322</td>\n",
       "            </tr>\n",
       "            <tr>\n",
       "                        <th id=\"T_39426e9c_195f_11eb_9e36_804a14664885level0_row24\" class=\"row_heading level0 row24\" >41</th>\n",
       "                        <td id=\"T_39426e9c_195f_11eb_9e36_804a14664885row24_col0\" class=\"data row24 col0\" >$1,516,990</td>\n",
       "            </tr>\n",
       "            <tr>\n",
       "                        <th id=\"T_39426e9c_195f_11eb_9e36_804a14664885level0_row25\" class=\"row_heading level0 row25\" >45</th>\n",
       "                        <td id=\"T_39426e9c_195f_11eb_9e36_804a14664885row25_col0\" class=\"data row25 col0\" >$1,511,049</td>\n",
       "            </tr>\n",
       "            <tr>\n",
       "                        <th id=\"T_39426e9c_195f_11eb_9e36_804a14664885level0_row26\" class=\"row_heading level0 row26\" >40</th>\n",
       "                        <td id=\"T_39426e9c_195f_11eb_9e36_804a14664885row26_col0\" class=\"data row26 col0\" >$1,503,571</td>\n",
       "            </tr>\n",
       "            <tr>\n",
       "                        <th id=\"T_39426e9c_195f_11eb_9e36_804a14664885level0_row27\" class=\"row_heading level0 row27\" >51</th>\n",
       "                        <td id=\"T_39426e9c_195f_11eb_9e36_804a14664885row27_col0\" class=\"data row27 col0\" >$1,503,334</td>\n",
       "            </tr>\n",
       "            <tr>\n",
       "                        <th id=\"T_39426e9c_195f_11eb_9e36_804a14664885level0_row28\" class=\"row_heading level0 row28\" >27</th>\n",
       "                        <td id=\"T_39426e9c_195f_11eb_9e36_804a14664885row28_col0\" class=\"data row28 col0\" >$1,452,844</td>\n",
       "            </tr>\n",
       "            <tr>\n",
       "                        <th id=\"T_39426e9c_195f_11eb_9e36_804a14664885level0_row29\" class=\"row_heading level0 row29\" >26</th>\n",
       "                        <td id=\"T_39426e9c_195f_11eb_9e36_804a14664885row29_col0\" class=\"data row29 col0\" >$1,408,943</td>\n",
       "            </tr>\n",
       "            <tr>\n",
       "                        <th id=\"T_39426e9c_195f_11eb_9e36_804a14664885level0_row30\" class=\"row_heading level0 row30\" >24</th>\n",
       "                        <td id=\"T_39426e9c_195f_11eb_9e36_804a14664885row30_col0\" class=\"data row30 col0\" >$1,383,283</td>\n",
       "            </tr>\n",
       "            <tr>\n",
       "                        <th id=\"T_39426e9c_195f_11eb_9e36_804a14664885level0_row31\" class=\"row_heading level0 row31\" >20</th>\n",
       "                        <td id=\"T_39426e9c_195f_11eb_9e36_804a14664885row31_col0\" class=\"data row31 col0\" >$1,283,913</td>\n",
       "            </tr>\n",
       "            <tr>\n",
       "                        <th id=\"T_39426e9c_195f_11eb_9e36_804a14664885level0_row32\" class=\"row_heading level0 row32\" >55</th>\n",
       "                        <td id=\"T_39426e9c_195f_11eb_9e36_804a14664885row32_col0\" class=\"data row32 col0\" >$1,280,633</td>\n",
       "            </tr>\n",
       "            <tr>\n",
       "                        <th id=\"T_39426e9c_195f_11eb_9e36_804a14664885level0_row33\" class=\"row_heading level0 row33\" >22</th>\n",
       "                        <td id=\"T_39426e9c_195f_11eb_9e36_804a14664885row33_col0\" class=\"data row33 col0\" >$1,265,142</td>\n",
       "            </tr>\n",
       "            <tr>\n",
       "                        <th id=\"T_39426e9c_195f_11eb_9e36_804a14664885level0_row34\" class=\"row_heading level0 row34\" >21</th>\n",
       "                        <td id=\"T_39426e9c_195f_11eb_9e36_804a14664885row34_col0\" class=\"data row34 col0\" >$1,187,844</td>\n",
       "            </tr>\n",
       "            <tr>\n",
       "                        <th id=\"T_39426e9c_195f_11eb_9e36_804a14664885level0_row35\" class=\"row_heading level0 row35\" >23</th>\n",
       "                        <td id=\"T_39426e9c_195f_11eb_9e36_804a14664885row35_col0\" class=\"data row35 col0\" >$1,168,437</td>\n",
       "            </tr>\n",
       "            <tr>\n",
       "                        <th id=\"T_39426e9c_195f_11eb_9e36_804a14664885level0_row36\" class=\"row_heading level0 row36\" >62</th>\n",
       "                        <td id=\"T_39426e9c_195f_11eb_9e36_804a14664885row36_col0\" class=\"data row36 col0\" >$1,087,232</td>\n",
       "            </tr>\n",
       "            <tr>\n",
       "                        <th id=\"T_39426e9c_195f_11eb_9e36_804a14664885level0_row37\" class=\"row_heading level0 row37\" >58</th>\n",
       "                        <td id=\"T_39426e9c_195f_11eb_9e36_804a14664885row37_col0\" class=\"data row37 col0\" >$1,006,886</td>\n",
       "            </tr>\n",
       "            <tr>\n",
       "                        <th id=\"T_39426e9c_195f_11eb_9e36_804a14664885level0_row38\" class=\"row_heading level0 row38\" >59</th>\n",
       "                        <td id=\"T_39426e9c_195f_11eb_9e36_804a14664885row38_col0\" class=\"data row38 col0\" >$998,196</td>\n",
       "            </tr>\n",
       "            <tr>\n",
       "                        <th id=\"T_39426e9c_195f_11eb_9e36_804a14664885level0_row39\" class=\"row_heading level0 row39\" >60</th>\n",
       "                        <td id=\"T_39426e9c_195f_11eb_9e36_804a14664885row39_col0\" class=\"data row39 col0\" >$997,741</td>\n",
       "            </tr>\n",
       "            <tr>\n",
       "                        <th id=\"T_39426e9c_195f_11eb_9e36_804a14664885level0_row40\" class=\"row_heading level0 row40\" >56</th>\n",
       "                        <td id=\"T_39426e9c_195f_11eb_9e36_804a14664885row40_col0\" class=\"data row40 col0\" >$997,398</td>\n",
       "            </tr>\n",
       "            <tr>\n",
       "                        <th id=\"T_39426e9c_195f_11eb_9e36_804a14664885level0_row41\" class=\"row_heading level0 row41\" >19</th>\n",
       "                        <td id=\"T_39426e9c_195f_11eb_9e36_804a14664885row41_col0\" class=\"data row41 col0\" >$984,884</td>\n",
       "            </tr>\n",
       "            <tr>\n",
       "                        <th id=\"T_39426e9c_195f_11eb_9e36_804a14664885level0_row42\" class=\"row_heading level0 row42\" >57</th>\n",
       "                        <td id=\"T_39426e9c_195f_11eb_9e36_804a14664885row42_col0\" class=\"data row42 col0\" >$928,942</td>\n",
       "            </tr>\n",
       "            <tr>\n",
       "                        <th id=\"T_39426e9c_195f_11eb_9e36_804a14664885level0_row43\" class=\"row_heading level0 row43\" >61</th>\n",
       "                        <td id=\"T_39426e9c_195f_11eb_9e36_804a14664885row43_col0\" class=\"data row43 col0\" >$865,356</td>\n",
       "            </tr>\n",
       "            <tr>\n",
       "                        <th id=\"T_39426e9c_195f_11eb_9e36_804a14664885level0_row44\" class=\"row_heading level0 row44\" >63</th>\n",
       "                        <td id=\"T_39426e9c_195f_11eb_9e36_804a14664885row44_col0\" class=\"data row44 col0\" >$626,058</td>\n",
       "            </tr>\n",
       "            <tr>\n",
       "                        <th id=\"T_39426e9c_195f_11eb_9e36_804a14664885level0_row45\" class=\"row_heading level0 row45\" >18</th>\n",
       "                        <td id=\"T_39426e9c_195f_11eb_9e36_804a14664885row45_col0\" class=\"data row45 col0\" >$322,133</td>\n",
       "            </tr>\n",
       "            <tr>\n",
       "                        <th id=\"T_39426e9c_195f_11eb_9e36_804a14664885level0_row46\" class=\"row_heading level0 row46\" >70</th>\n",
       "                        <td id=\"T_39426e9c_195f_11eb_9e36_804a14664885row46_col0\" class=\"data row46 col0\" >$314,340</td>\n",
       "            </tr>\n",
       "            <tr>\n",
       "                        <th id=\"T_39426e9c_195f_11eb_9e36_804a14664885level0_row47\" class=\"row_heading level0 row47\" >64</th>\n",
       "                        <td id=\"T_39426e9c_195f_11eb_9e36_804a14664885row47_col0\" class=\"data row47 col0\" >$312,886</td>\n",
       "            </tr>\n",
       "            <tr>\n",
       "                        <th id=\"T_39426e9c_195f_11eb_9e36_804a14664885level0_row48\" class=\"row_heading level0 row48\" >66</th>\n",
       "                        <td id=\"T_39426e9c_195f_11eb_9e36_804a14664885row48_col0\" class=\"data row48 col0\" >$299,645</td>\n",
       "            </tr>\n",
       "            <tr>\n",
       "                        <th id=\"T_39426e9c_195f_11eb_9e36_804a14664885level0_row49\" class=\"row_heading level0 row49\" >67</th>\n",
       "                        <td id=\"T_39426e9c_195f_11eb_9e36_804a14664885row49_col0\" class=\"data row49 col0\" >$290,702</td>\n",
       "            </tr>\n",
       "            <tr>\n",
       "                        <th id=\"T_39426e9c_195f_11eb_9e36_804a14664885level0_row50\" class=\"row_heading level0 row50\" >71</th>\n",
       "                        <td id=\"T_39426e9c_195f_11eb_9e36_804a14664885row50_col0\" class=\"data row50 col0\" >$290,259</td>\n",
       "            </tr>\n",
       "            <tr>\n",
       "                        <th id=\"T_39426e9c_195f_11eb_9e36_804a14664885level0_row51\" class=\"row_heading level0 row51\" >68</th>\n",
       "                        <td id=\"T_39426e9c_195f_11eb_9e36_804a14664885row51_col0\" class=\"data row51 col0\" >$288,980</td>\n",
       "            </tr>\n",
       "            <tr>\n",
       "                        <th id=\"T_39426e9c_195f_11eb_9e36_804a14664885level0_row52\" class=\"row_heading level0 row52\" >72</th>\n",
       "                        <td id=\"T_39426e9c_195f_11eb_9e36_804a14664885row52_col0\" class=\"data row52 col0\" >$285,908</td>\n",
       "            </tr>\n",
       "            <tr>\n",
       "                        <th id=\"T_39426e9c_195f_11eb_9e36_804a14664885level0_row53\" class=\"row_heading level0 row53\" >69</th>\n",
       "                        <td id=\"T_39426e9c_195f_11eb_9e36_804a14664885row53_col0\" class=\"data row53 col0\" >$282,808</td>\n",
       "            </tr>\n",
       "            <tr>\n",
       "                        <th id=\"T_39426e9c_195f_11eb_9e36_804a14664885level0_row54\" class=\"row_heading level0 row54\" >65</th>\n",
       "                        <td id=\"T_39426e9c_195f_11eb_9e36_804a14664885row54_col0\" class=\"data row54 col0\" >$273,620</td>\n",
       "            </tr>\n",
       "            <tr>\n",
       "                        <th id=\"T_39426e9c_195f_11eb_9e36_804a14664885level0_row55\" class=\"row_heading level0 row55\" >73</th>\n",
       "                        <td id=\"T_39426e9c_195f_11eb_9e36_804a14664885row55_col0\" class=\"data row55 col0\" >$267,520</td>\n",
       "            </tr>\n",
       "            <tr>\n",
       "                        <th id=\"T_39426e9c_195f_11eb_9e36_804a14664885level0_row56\" class=\"row_heading level0 row56\" >74</th>\n",
       "                        <td id=\"T_39426e9c_195f_11eb_9e36_804a14664885row56_col0\" class=\"data row56 col0\" >$200,658</td>\n",
       "            </tr>\n",
       "            <tr>\n",
       "                        <th id=\"T_39426e9c_195f_11eb_9e36_804a14664885level0_row57\" class=\"row_heading level0 row57\" >82</th>\n",
       "                        <td id=\"T_39426e9c_195f_11eb_9e36_804a14664885row57_col0\" class=\"data row57 col0\" >$100,119</td>\n",
       "            </tr>\n",
       "            <tr>\n",
       "                        <th id=\"T_39426e9c_195f_11eb_9e36_804a14664885level0_row58\" class=\"row_heading level0 row58\" >83</th>\n",
       "                        <td id=\"T_39426e9c_195f_11eb_9e36_804a14664885row58_col0\" class=\"data row58 col0\" >$99,030</td>\n",
       "            </tr>\n",
       "            <tr>\n",
       "                        <th id=\"T_39426e9c_195f_11eb_9e36_804a14664885level0_row59\" class=\"row_heading level0 row59\" >84</th>\n",
       "                        <td id=\"T_39426e9c_195f_11eb_9e36_804a14664885row59_col0\" class=\"data row59 col0\" >$93,321</td>\n",
       "            </tr>\n",
       "            <tr>\n",
       "                        <th id=\"T_39426e9c_195f_11eb_9e36_804a14664885level0_row60\" class=\"row_heading level0 row60\" >81</th>\n",
       "                        <td id=\"T_39426e9c_195f_11eb_9e36_804a14664885row60_col0\" class=\"data row60 col0\" >$92,524</td>\n",
       "            </tr>\n",
       "            <tr>\n",
       "                        <th id=\"T_39426e9c_195f_11eb_9e36_804a14664885level0_row61\" class=\"row_heading level0 row61\" >75</th>\n",
       "                        <td id=\"T_39426e9c_195f_11eb_9e36_804a14664885row61_col0\" class=\"data row61 col0\" >$89,629</td>\n",
       "            </tr>\n",
       "            <tr>\n",
       "                        <th id=\"T_39426e9c_195f_11eb_9e36_804a14664885level0_row62\" class=\"row_heading level0 row62\" >77</th>\n",
       "                        <td id=\"T_39426e9c_195f_11eb_9e36_804a14664885row62_col0\" class=\"data row62 col0\" >$89,012</td>\n",
       "            </tr>\n",
       "            <tr>\n",
       "                        <th id=\"T_39426e9c_195f_11eb_9e36_804a14664885level0_row63\" class=\"row_heading level0 row63\" >78</th>\n",
       "                        <td id=\"T_39426e9c_195f_11eb_9e36_804a14664885row63_col0\" class=\"data row63 col0\" >$88,305</td>\n",
       "            </tr>\n",
       "            <tr>\n",
       "                        <th id=\"T_39426e9c_195f_11eb_9e36_804a14664885level0_row64\" class=\"row_heading level0 row64\" >80</th>\n",
       "                        <td id=\"T_39426e9c_195f_11eb_9e36_804a14664885row64_col0\" class=\"data row64 col0\" >$88,120</td>\n",
       "            </tr>\n",
       "            <tr>\n",
       "                        <th id=\"T_39426e9c_195f_11eb_9e36_804a14664885level0_row65\" class=\"row_heading level0 row65\" >76</th>\n",
       "                        <td id=\"T_39426e9c_195f_11eb_9e36_804a14664885row65_col0\" class=\"data row65 col0\" >$85,423</td>\n",
       "            </tr>\n",
       "            <tr>\n",
       "                        <th id=\"T_39426e9c_195f_11eb_9e36_804a14664885level0_row66\" class=\"row_heading level0 row66\" >79</th>\n",
       "                        <td id=\"T_39426e9c_195f_11eb_9e36_804a14664885row66_col0\" class=\"data row66 col0\" >$81,676</td>\n",
       "            </tr>\n",
       "            <tr>\n",
       "                        <th id=\"T_39426e9c_195f_11eb_9e36_804a14664885level0_row67\" class=\"row_heading level0 row67\" >85</th>\n",
       "                        <td id=\"T_39426e9c_195f_11eb_9e36_804a14664885row67_col0\" class=\"data row67 col0\" >$45,013</td>\n",
       "            </tr>\n",
       "    </tbody></table>"
      ],
      "text/plain": [
       "<pandas.io.formats.style.Styler at 0x7fa829b73c10>"
      ]
     },
     "execution_count": 33,
     "metadata": {},
     "output_type": "execute_result"
    }
   ],
   "source": [
    "#4 finding  - Age 20-62 spend more than other age groups. Top age group is 39 and least is 85\n",
    "pivot2 = pd.pivot_table(data,index='age',values='amount',aggfunc='sum')\n",
    "pivot2.sort_values('amount',ascending=False).style.format('${0:,.0f}')"
   ]
  },
  {
   "cell_type": "code",
   "execution_count": 34,
   "metadata": {},
   "outputs": [
    {
     "data": {
      "text/html": [
       "<style  type=\"text/css\" >\n",
       "</style><table id=\"T_39459a0e_195f_11eb_9e36_804a14664885\" ><thead>    <tr>        <th class=\"index_name level0\" >in-store</th>        <th class=\"col_heading level0 col0\" >0</th>        <th class=\"col_heading level0 col1\" >1</th>    </tr>    <tr>        <th class=\"index_name level0\" >age</th>        <th class=\"blank\" ></th>        <th class=\"blank\" ></th>    </tr></thead><tbody>\n",
       "                <tr>\n",
       "                        <th id=\"T_39459a0e_195f_11eb_9e36_804a14664885level0_row0\" class=\"row_heading level0 row0\" >18</th>\n",
       "                        <td id=\"T_39459a0e_195f_11eb_9e36_804a14664885row0_col0\" class=\"data row0 col0\" >$322,133</td>\n",
       "                        <td id=\"T_39459a0e_195f_11eb_9e36_804a14664885row0_col1\" class=\"data row0 col1\" >$0</td>\n",
       "            </tr>\n",
       "            <tr>\n",
       "                        <th id=\"T_39459a0e_195f_11eb_9e36_804a14664885level0_row1\" class=\"row_heading level0 row1\" >19</th>\n",
       "                        <td id=\"T_39459a0e_195f_11eb_9e36_804a14664885row1_col0\" class=\"data row1 col0\" >$707,752</td>\n",
       "                        <td id=\"T_39459a0e_195f_11eb_9e36_804a14664885row1_col1\" class=\"data row1 col1\" >$277,132</td>\n",
       "            </tr>\n",
       "            <tr>\n",
       "                        <th id=\"T_39459a0e_195f_11eb_9e36_804a14664885level0_row2\" class=\"row_heading level0 row2\" >20</th>\n",
       "                        <td id=\"T_39459a0e_195f_11eb_9e36_804a14664885row2_col0\" class=\"data row2 col0\" >$731,973</td>\n",
       "                        <td id=\"T_39459a0e_195f_11eb_9e36_804a14664885row2_col1\" class=\"data row2 col1\" >$551,940</td>\n",
       "            </tr>\n",
       "            <tr>\n",
       "                        <th id=\"T_39459a0e_195f_11eb_9e36_804a14664885level0_row3\" class=\"row_heading level0 row3\" >21</th>\n",
       "                        <td id=\"T_39459a0e_195f_11eb_9e36_804a14664885row3_col0\" class=\"data row3 col0\" >$602,304</td>\n",
       "                        <td id=\"T_39459a0e_195f_11eb_9e36_804a14664885row3_col1\" class=\"data row3 col1\" >$585,540</td>\n",
       "            </tr>\n",
       "            <tr>\n",
       "                        <th id=\"T_39459a0e_195f_11eb_9e36_804a14664885level0_row4\" class=\"row_heading level0 row4\" >22</th>\n",
       "                        <td id=\"T_39459a0e_195f_11eb_9e36_804a14664885row4_col0\" class=\"data row4 col0\" >$723,591</td>\n",
       "                        <td id=\"T_39459a0e_195f_11eb_9e36_804a14664885row4_col1\" class=\"data row4 col1\" >$541,551</td>\n",
       "            </tr>\n",
       "            <tr>\n",
       "                        <th id=\"T_39459a0e_195f_11eb_9e36_804a14664885level0_row5\" class=\"row_heading level0 row5\" >23</th>\n",
       "                        <td id=\"T_39459a0e_195f_11eb_9e36_804a14664885row5_col0\" class=\"data row5 col0\" >$611,679</td>\n",
       "                        <td id=\"T_39459a0e_195f_11eb_9e36_804a14664885row5_col1\" class=\"data row5 col1\" >$556,758</td>\n",
       "            </tr>\n",
       "            <tr>\n",
       "                        <th id=\"T_39459a0e_195f_11eb_9e36_804a14664885level0_row6\" class=\"row_heading level0 row6\" >24</th>\n",
       "                        <td id=\"T_39459a0e_195f_11eb_9e36_804a14664885row6_col0\" class=\"data row6 col0\" >$690,962</td>\n",
       "                        <td id=\"T_39459a0e_195f_11eb_9e36_804a14664885row6_col1\" class=\"data row6 col1\" >$692,321</td>\n",
       "            </tr>\n",
       "            <tr>\n",
       "                        <th id=\"T_39459a0e_195f_11eb_9e36_804a14664885level0_row7\" class=\"row_heading level0 row7\" >25</th>\n",
       "                        <td id=\"T_39459a0e_195f_11eb_9e36_804a14664885row7_col0\" class=\"data row7 col0\" >$717,770</td>\n",
       "                        <td id=\"T_39459a0e_195f_11eb_9e36_804a14664885row7_col1\" class=\"data row7 col1\" >$812,780</td>\n",
       "            </tr>\n",
       "            <tr>\n",
       "                        <th id=\"T_39459a0e_195f_11eb_9e36_804a14664885level0_row8\" class=\"row_heading level0 row8\" >26</th>\n",
       "                        <td id=\"T_39459a0e_195f_11eb_9e36_804a14664885row8_col0\" class=\"data row8 col0\" >$653,483</td>\n",
       "                        <td id=\"T_39459a0e_195f_11eb_9e36_804a14664885row8_col1\" class=\"data row8 col1\" >$755,460</td>\n",
       "            </tr>\n",
       "            <tr>\n",
       "                        <th id=\"T_39459a0e_195f_11eb_9e36_804a14664885level0_row9\" class=\"row_heading level0 row9\" >27</th>\n",
       "                        <td id=\"T_39459a0e_195f_11eb_9e36_804a14664885row9_col0\" class=\"data row9 col0\" >$698,645</td>\n",
       "                        <td id=\"T_39459a0e_195f_11eb_9e36_804a14664885row9_col1\" class=\"data row9 col1\" >$754,199</td>\n",
       "            </tr>\n",
       "            <tr>\n",
       "                        <th id=\"T_39459a0e_195f_11eb_9e36_804a14664885level0_row10\" class=\"row_heading level0 row10\" >28</th>\n",
       "                        <td id=\"T_39459a0e_195f_11eb_9e36_804a14664885row10_col0\" class=\"data row10 col0\" >$740,835</td>\n",
       "                        <td id=\"T_39459a0e_195f_11eb_9e36_804a14664885row10_col1\" class=\"data row10 col1\" >$844,450</td>\n",
       "            </tr>\n",
       "            <tr>\n",
       "                        <th id=\"T_39459a0e_195f_11eb_9e36_804a14664885level0_row11\" class=\"row_heading level0 row11\" >29</th>\n",
       "                        <td id=\"T_39459a0e_195f_11eb_9e36_804a14664885row11_col0\" class=\"data row11 col0\" >$793,758</td>\n",
       "                        <td id=\"T_39459a0e_195f_11eb_9e36_804a14664885row11_col1\" class=\"data row11 col1\" >$772,161</td>\n",
       "            </tr>\n",
       "            <tr>\n",
       "                        <th id=\"T_39459a0e_195f_11eb_9e36_804a14664885level0_row12\" class=\"row_heading level0 row12\" >30</th>\n",
       "                        <td id=\"T_39459a0e_195f_11eb_9e36_804a14664885row12_col0\" class=\"data row12 col0\" >$835,832</td>\n",
       "                        <td id=\"T_39459a0e_195f_11eb_9e36_804a14664885row12_col1\" class=\"data row12 col1\" >$726,036</td>\n",
       "            </tr>\n",
       "            <tr>\n",
       "                        <th id=\"T_39459a0e_195f_11eb_9e36_804a14664885level0_row13\" class=\"row_heading level0 row13\" >31</th>\n",
       "                        <td id=\"T_39459a0e_195f_11eb_9e36_804a14664885row13_col0\" class=\"data row13 col0\" >$790,030</td>\n",
       "                        <td id=\"T_39459a0e_195f_11eb_9e36_804a14664885row13_col1\" class=\"data row13 col1\" >$816,686</td>\n",
       "            </tr>\n",
       "            <tr>\n",
       "                        <th id=\"T_39459a0e_195f_11eb_9e36_804a14664885level0_row14\" class=\"row_heading level0 row14\" >32</th>\n",
       "                        <td id=\"T_39459a0e_195f_11eb_9e36_804a14664885row14_col0\" class=\"data row14 col0\" >$778,068</td>\n",
       "                        <td id=\"T_39459a0e_195f_11eb_9e36_804a14664885row14_col1\" class=\"data row14 col1\" >$765,830</td>\n",
       "            </tr>\n",
       "            <tr>\n",
       "                        <th id=\"T_39459a0e_195f_11eb_9e36_804a14664885level0_row15\" class=\"row_heading level0 row15\" >33</th>\n",
       "                        <td id=\"T_39459a0e_195f_11eb_9e36_804a14664885row15_col0\" class=\"data row15 col0\" >$741,481</td>\n",
       "                        <td id=\"T_39459a0e_195f_11eb_9e36_804a14664885row15_col1\" class=\"data row15 col1\" >$814,559</td>\n",
       "            </tr>\n",
       "            <tr>\n",
       "                        <th id=\"T_39459a0e_195f_11eb_9e36_804a14664885level0_row16\" class=\"row_heading level0 row16\" >34</th>\n",
       "                        <td id=\"T_39459a0e_195f_11eb_9e36_804a14664885row16_col0\" class=\"data row16 col0\" >$745,166</td>\n",
       "                        <td id=\"T_39459a0e_195f_11eb_9e36_804a14664885row16_col1\" class=\"data row16 col1\" >$798,765</td>\n",
       "            </tr>\n",
       "            <tr>\n",
       "                        <th id=\"T_39459a0e_195f_11eb_9e36_804a14664885level0_row17\" class=\"row_heading level0 row17\" >35</th>\n",
       "                        <td id=\"T_39459a0e_195f_11eb_9e36_804a14664885row17_col0\" class=\"data row17 col0\" >$857,659</td>\n",
       "                        <td id=\"T_39459a0e_195f_11eb_9e36_804a14664885row17_col1\" class=\"data row17 col1\" >$737,292</td>\n",
       "            </tr>\n",
       "            <tr>\n",
       "                        <th id=\"T_39459a0e_195f_11eb_9e36_804a14664885level0_row18\" class=\"row_heading level0 row18\" >36</th>\n",
       "                        <td id=\"T_39459a0e_195f_11eb_9e36_804a14664885row18_col0\" class=\"data row18 col0\" >$774,317</td>\n",
       "                        <td id=\"T_39459a0e_195f_11eb_9e36_804a14664885row18_col1\" class=\"data row18 col1\" >$812,785</td>\n",
       "            </tr>\n",
       "            <tr>\n",
       "                        <th id=\"T_39459a0e_195f_11eb_9e36_804a14664885level0_row19\" class=\"row_heading level0 row19\" >37</th>\n",
       "                        <td id=\"T_39459a0e_195f_11eb_9e36_804a14664885row19_col0\" class=\"data row19 col0\" >$790,312</td>\n",
       "                        <td id=\"T_39459a0e_195f_11eb_9e36_804a14664885row19_col1\" class=\"data row19 col1\" >$801,106</td>\n",
       "            </tr>\n",
       "            <tr>\n",
       "                        <th id=\"T_39459a0e_195f_11eb_9e36_804a14664885level0_row20\" class=\"row_heading level0 row20\" >38</th>\n",
       "                        <td id=\"T_39459a0e_195f_11eb_9e36_804a14664885row20_col0\" class=\"data row20 col0\" >$804,033</td>\n",
       "                        <td id=\"T_39459a0e_195f_11eb_9e36_804a14664885row20_col1\" class=\"data row20 col1\" >$783,070</td>\n",
       "            </tr>\n",
       "            <tr>\n",
       "                        <th id=\"T_39459a0e_195f_11eb_9e36_804a14664885level0_row21\" class=\"row_heading level0 row21\" >39</th>\n",
       "                        <td id=\"T_39459a0e_195f_11eb_9e36_804a14664885row21_col0\" class=\"data row21 col0\" >$785,480</td>\n",
       "                        <td id=\"T_39459a0e_195f_11eb_9e36_804a14664885row21_col1\" class=\"data row21 col1\" >$832,329</td>\n",
       "            </tr>\n",
       "            <tr>\n",
       "                        <th id=\"T_39459a0e_195f_11eb_9e36_804a14664885level0_row22\" class=\"row_heading level0 row22\" >40</th>\n",
       "                        <td id=\"T_39459a0e_195f_11eb_9e36_804a14664885row22_col0\" class=\"data row22 col0\" >$773,002</td>\n",
       "                        <td id=\"T_39459a0e_195f_11eb_9e36_804a14664885row22_col1\" class=\"data row22 col1\" >$730,568</td>\n",
       "            </tr>\n",
       "            <tr>\n",
       "                        <th id=\"T_39459a0e_195f_11eb_9e36_804a14664885level0_row23\" class=\"row_heading level0 row23\" >41</th>\n",
       "                        <td id=\"T_39459a0e_195f_11eb_9e36_804a14664885row23_col0\" class=\"data row23 col0\" >$720,891</td>\n",
       "                        <td id=\"T_39459a0e_195f_11eb_9e36_804a14664885row23_col1\" class=\"data row23 col1\" >$796,098</td>\n",
       "            </tr>\n",
       "            <tr>\n",
       "                        <th id=\"T_39459a0e_195f_11eb_9e36_804a14664885level0_row24\" class=\"row_heading level0 row24\" >42</th>\n",
       "                        <td id=\"T_39459a0e_195f_11eb_9e36_804a14664885row24_col0\" class=\"data row24 col0\" >$766,928</td>\n",
       "                        <td id=\"T_39459a0e_195f_11eb_9e36_804a14664885row24_col1\" class=\"data row24 col1\" >$751,394</td>\n",
       "            </tr>\n",
       "            <tr>\n",
       "                        <th id=\"T_39459a0e_195f_11eb_9e36_804a14664885level0_row25\" class=\"row_heading level0 row25\" >43</th>\n",
       "                        <td id=\"T_39459a0e_195f_11eb_9e36_804a14664885row25_col0\" class=\"data row25 col0\" >$753,503</td>\n",
       "                        <td id=\"T_39459a0e_195f_11eb_9e36_804a14664885row25_col1\" class=\"data row25 col1\" >$789,783</td>\n",
       "            </tr>\n",
       "            <tr>\n",
       "                        <th id=\"T_39459a0e_195f_11eb_9e36_804a14664885level0_row26\" class=\"row_heading level0 row26\" >44</th>\n",
       "                        <td id=\"T_39459a0e_195f_11eb_9e36_804a14664885row26_col0\" class=\"data row26 col0\" >$757,022</td>\n",
       "                        <td id=\"T_39459a0e_195f_11eb_9e36_804a14664885row26_col1\" class=\"data row26 col1\" >$796,053</td>\n",
       "            </tr>\n",
       "            <tr>\n",
       "                        <th id=\"T_39459a0e_195f_11eb_9e36_804a14664885level0_row27\" class=\"row_heading level0 row27\" >45</th>\n",
       "                        <td id=\"T_39459a0e_195f_11eb_9e36_804a14664885row27_col0\" class=\"data row27 col0\" >$751,861</td>\n",
       "                        <td id=\"T_39459a0e_195f_11eb_9e36_804a14664885row27_col1\" class=\"data row27 col1\" >$759,188</td>\n",
       "            </tr>\n",
       "            <tr>\n",
       "                        <th id=\"T_39459a0e_195f_11eb_9e36_804a14664885level0_row28\" class=\"row_heading level0 row28\" >46</th>\n",
       "                        <td id=\"T_39459a0e_195f_11eb_9e36_804a14664885row28_col0\" class=\"data row28 col0\" >$784,417</td>\n",
       "                        <td id=\"T_39459a0e_195f_11eb_9e36_804a14664885row28_col1\" class=\"data row28 col1\" >$756,870</td>\n",
       "            </tr>\n",
       "            <tr>\n",
       "                        <th id=\"T_39459a0e_195f_11eb_9e36_804a14664885level0_row29\" class=\"row_heading level0 row29\" >47</th>\n",
       "                        <td id=\"T_39459a0e_195f_11eb_9e36_804a14664885row29_col0\" class=\"data row29 col0\" >$768,965</td>\n",
       "                        <td id=\"T_39459a0e_195f_11eb_9e36_804a14664885row29_col1\" class=\"data row29 col1\" >$819,090</td>\n",
       "            </tr>\n",
       "            <tr>\n",
       "                        <th id=\"T_39459a0e_195f_11eb_9e36_804a14664885level0_row30\" class=\"row_heading level0 row30\" >48</th>\n",
       "                        <td id=\"T_39459a0e_195f_11eb_9e36_804a14664885row30_col0\" class=\"data row30 col0\" >$789,939</td>\n",
       "                        <td id=\"T_39459a0e_195f_11eb_9e36_804a14664885row30_col1\" class=\"data row30 col1\" >$762,078</td>\n",
       "            </tr>\n",
       "            <tr>\n",
       "                        <th id=\"T_39459a0e_195f_11eb_9e36_804a14664885level0_row31\" class=\"row_heading level0 row31\" >49</th>\n",
       "                        <td id=\"T_39459a0e_195f_11eb_9e36_804a14664885row31_col0\" class=\"data row31 col0\" >$737,937</td>\n",
       "                        <td id=\"T_39459a0e_195f_11eb_9e36_804a14664885row31_col1\" class=\"data row31 col1\" >$803,026</td>\n",
       "            </tr>\n",
       "            <tr>\n",
       "                        <th id=\"T_39459a0e_195f_11eb_9e36_804a14664885level0_row32\" class=\"row_heading level0 row32\" >50</th>\n",
       "                        <td id=\"T_39459a0e_195f_11eb_9e36_804a14664885row32_col0\" class=\"data row32 col0\" >$772,497</td>\n",
       "                        <td id=\"T_39459a0e_195f_11eb_9e36_804a14664885row32_col1\" class=\"data row32 col1\" >$781,129</td>\n",
       "            </tr>\n",
       "            <tr>\n",
       "                        <th id=\"T_39459a0e_195f_11eb_9e36_804a14664885level0_row33\" class=\"row_heading level0 row33\" >51</th>\n",
       "                        <td id=\"T_39459a0e_195f_11eb_9e36_804a14664885row33_col0\" class=\"data row33 col0\" >$755,947</td>\n",
       "                        <td id=\"T_39459a0e_195f_11eb_9e36_804a14664885row33_col1\" class=\"data row33 col1\" >$747,387</td>\n",
       "            </tr>\n",
       "            <tr>\n",
       "                        <th id=\"T_39459a0e_195f_11eb_9e36_804a14664885level0_row34\" class=\"row_heading level0 row34\" >52</th>\n",
       "                        <td id=\"T_39459a0e_195f_11eb_9e36_804a14664885row34_col0\" class=\"data row34 col0\" >$809,225</td>\n",
       "                        <td id=\"T_39459a0e_195f_11eb_9e36_804a14664885row34_col1\" class=\"data row34 col1\" >$729,500</td>\n",
       "            </tr>\n",
       "            <tr>\n",
       "                        <th id=\"T_39459a0e_195f_11eb_9e36_804a14664885level0_row35\" class=\"row_heading level0 row35\" >53</th>\n",
       "                        <td id=\"T_39459a0e_195f_11eb_9e36_804a14664885row35_col0\" class=\"data row35 col0\" >$784,764</td>\n",
       "                        <td id=\"T_39459a0e_195f_11eb_9e36_804a14664885row35_col1\" class=\"data row35 col1\" >$825,876</td>\n",
       "            </tr>\n",
       "            <tr>\n",
       "                        <th id=\"T_39459a0e_195f_11eb_9e36_804a14664885level0_row36\" class=\"row_heading level0 row36\" >54</th>\n",
       "                        <td id=\"T_39459a0e_195f_11eb_9e36_804a14664885row36_col0\" class=\"data row36 col0\" >$721,753</td>\n",
       "                        <td id=\"T_39459a0e_195f_11eb_9e36_804a14664885row36_col1\" class=\"data row36 col1\" >$798,926</td>\n",
       "            </tr>\n",
       "            <tr>\n",
       "                        <th id=\"T_39459a0e_195f_11eb_9e36_804a14664885level0_row37\" class=\"row_heading level0 row37\" >55</th>\n",
       "                        <td id=\"T_39459a0e_195f_11eb_9e36_804a14664885row37_col0\" class=\"data row37 col0\" >$780,186</td>\n",
       "                        <td id=\"T_39459a0e_195f_11eb_9e36_804a14664885row37_col1\" class=\"data row37 col1\" >$500,447</td>\n",
       "            </tr>\n",
       "            <tr>\n",
       "                        <th id=\"T_39459a0e_195f_11eb_9e36_804a14664885level0_row38\" class=\"row_heading level0 row38\" >56</th>\n",
       "                        <td id=\"T_39459a0e_195f_11eb_9e36_804a14664885row38_col0\" class=\"data row38 col0\" >$783,114</td>\n",
       "                        <td id=\"T_39459a0e_195f_11eb_9e36_804a14664885row38_col1\" class=\"data row38 col1\" >$214,283</td>\n",
       "            </tr>\n",
       "            <tr>\n",
       "                        <th id=\"T_39459a0e_195f_11eb_9e36_804a14664885level0_row39\" class=\"row_heading level0 row39\" >57</th>\n",
       "                        <td id=\"T_39459a0e_195f_11eb_9e36_804a14664885row39_col0\" class=\"data row39 col0\" >$713,850</td>\n",
       "                        <td id=\"T_39459a0e_195f_11eb_9e36_804a14664885row39_col1\" class=\"data row39 col1\" >$215,092</td>\n",
       "            </tr>\n",
       "            <tr>\n",
       "                        <th id=\"T_39459a0e_195f_11eb_9e36_804a14664885level0_row40\" class=\"row_heading level0 row40\" >58</th>\n",
       "                        <td id=\"T_39459a0e_195f_11eb_9e36_804a14664885row40_col0\" class=\"data row40 col0\" >$797,359</td>\n",
       "                        <td id=\"T_39459a0e_195f_11eb_9e36_804a14664885row40_col1\" class=\"data row40 col1\" >$209,527</td>\n",
       "            </tr>\n",
       "            <tr>\n",
       "                        <th id=\"T_39459a0e_195f_11eb_9e36_804a14664885level0_row41\" class=\"row_heading level0 row41\" >59</th>\n",
       "                        <td id=\"T_39459a0e_195f_11eb_9e36_804a14664885row41_col0\" class=\"data row41 col0\" >$799,097</td>\n",
       "                        <td id=\"T_39459a0e_195f_11eb_9e36_804a14664885row41_col1\" class=\"data row41 col1\" >$199,098</td>\n",
       "            </tr>\n",
       "            <tr>\n",
       "                        <th id=\"T_39459a0e_195f_11eb_9e36_804a14664885level0_row42\" class=\"row_heading level0 row42\" >60</th>\n",
       "                        <td id=\"T_39459a0e_195f_11eb_9e36_804a14664885row42_col0\" class=\"data row42 col0\" >$791,667</td>\n",
       "                        <td id=\"T_39459a0e_195f_11eb_9e36_804a14664885row42_col1\" class=\"data row42 col1\" >$206,074</td>\n",
       "            </tr>\n",
       "            <tr>\n",
       "                        <th id=\"T_39459a0e_195f_11eb_9e36_804a14664885level0_row43\" class=\"row_heading level0 row43\" >61</th>\n",
       "                        <td id=\"T_39459a0e_195f_11eb_9e36_804a14664885row43_col0\" class=\"data row43 col0\" >$683,022</td>\n",
       "                        <td id=\"T_39459a0e_195f_11eb_9e36_804a14664885row43_col1\" class=\"data row43 col1\" >$182,334</td>\n",
       "            </tr>\n",
       "            <tr>\n",
       "                        <th id=\"T_39459a0e_195f_11eb_9e36_804a14664885level0_row44\" class=\"row_heading level0 row44\" >62</th>\n",
       "                        <td id=\"T_39459a0e_195f_11eb_9e36_804a14664885row44_col0\" class=\"data row44 col0\" >$875,856</td>\n",
       "                        <td id=\"T_39459a0e_195f_11eb_9e36_804a14664885row44_col1\" class=\"data row44 col1\" >$211,377</td>\n",
       "            </tr>\n",
       "            <tr>\n",
       "                        <th id=\"T_39459a0e_195f_11eb_9e36_804a14664885level0_row45\" class=\"row_heading level0 row45\" >63</th>\n",
       "                        <td id=\"T_39459a0e_195f_11eb_9e36_804a14664885row45_col0\" class=\"data row45 col0\" >$409,336</td>\n",
       "                        <td id=\"T_39459a0e_195f_11eb_9e36_804a14664885row45_col1\" class=\"data row45 col1\" >$216,721</td>\n",
       "            </tr>\n",
       "            <tr>\n",
       "                        <th id=\"T_39459a0e_195f_11eb_9e36_804a14664885level0_row46\" class=\"row_heading level0 row46\" >64</th>\n",
       "                        <td id=\"T_39459a0e_195f_11eb_9e36_804a14664885row46_col0\" class=\"data row46 col0\" >$94,479</td>\n",
       "                        <td id=\"T_39459a0e_195f_11eb_9e36_804a14664885row46_col1\" class=\"data row46 col1\" >$218,407</td>\n",
       "            </tr>\n",
       "            <tr>\n",
       "                        <th id=\"T_39459a0e_195f_11eb_9e36_804a14664885level0_row47\" class=\"row_heading level0 row47\" >65</th>\n",
       "                        <td id=\"T_39459a0e_195f_11eb_9e36_804a14664885row47_col0\" class=\"data row47 col0\" >$90,140</td>\n",
       "                        <td id=\"T_39459a0e_195f_11eb_9e36_804a14664885row47_col1\" class=\"data row47 col1\" >$183,479</td>\n",
       "            </tr>\n",
       "            <tr>\n",
       "                        <th id=\"T_39459a0e_195f_11eb_9e36_804a14664885level0_row48\" class=\"row_heading level0 row48\" >66</th>\n",
       "                        <td id=\"T_39459a0e_195f_11eb_9e36_804a14664885row48_col0\" class=\"data row48 col0\" >$90,991</td>\n",
       "                        <td id=\"T_39459a0e_195f_11eb_9e36_804a14664885row48_col1\" class=\"data row48 col1\" >$208,654</td>\n",
       "            </tr>\n",
       "            <tr>\n",
       "                        <th id=\"T_39459a0e_195f_11eb_9e36_804a14664885level0_row49\" class=\"row_heading level0 row49\" >67</th>\n",
       "                        <td id=\"T_39459a0e_195f_11eb_9e36_804a14664885row49_col0\" class=\"data row49 col0\" >$92,911</td>\n",
       "                        <td id=\"T_39459a0e_195f_11eb_9e36_804a14664885row49_col1\" class=\"data row49 col1\" >$197,791</td>\n",
       "            </tr>\n",
       "            <tr>\n",
       "                        <th id=\"T_39459a0e_195f_11eb_9e36_804a14664885level0_row50\" class=\"row_heading level0 row50\" >68</th>\n",
       "                        <td id=\"T_39459a0e_195f_11eb_9e36_804a14664885row50_col0\" class=\"data row50 col0\" >$83,122</td>\n",
       "                        <td id=\"T_39459a0e_195f_11eb_9e36_804a14664885row50_col1\" class=\"data row50 col1\" >$205,857</td>\n",
       "            </tr>\n",
       "            <tr>\n",
       "                        <th id=\"T_39459a0e_195f_11eb_9e36_804a14664885level0_row51\" class=\"row_heading level0 row51\" >69</th>\n",
       "                        <td id=\"T_39459a0e_195f_11eb_9e36_804a14664885row51_col0\" class=\"data row51 col0\" >$83,172</td>\n",
       "                        <td id=\"T_39459a0e_195f_11eb_9e36_804a14664885row51_col1\" class=\"data row51 col1\" >$199,636</td>\n",
       "            </tr>\n",
       "            <tr>\n",
       "                        <th id=\"T_39459a0e_195f_11eb_9e36_804a14664885level0_row52\" class=\"row_heading level0 row52\" >70</th>\n",
       "                        <td id=\"T_39459a0e_195f_11eb_9e36_804a14664885row52_col0\" class=\"data row52 col0\" >$87,268</td>\n",
       "                        <td id=\"T_39459a0e_195f_11eb_9e36_804a14664885row52_col1\" class=\"data row52 col1\" >$227,072</td>\n",
       "            </tr>\n",
       "            <tr>\n",
       "                        <th id=\"T_39459a0e_195f_11eb_9e36_804a14664885level0_row53\" class=\"row_heading level0 row53\" >71</th>\n",
       "                        <td id=\"T_39459a0e_195f_11eb_9e36_804a14664885row53_col0\" class=\"data row53 col0\" >$88,339</td>\n",
       "                        <td id=\"T_39459a0e_195f_11eb_9e36_804a14664885row53_col1\" class=\"data row53 col1\" >$201,920</td>\n",
       "            </tr>\n",
       "            <tr>\n",
       "                        <th id=\"T_39459a0e_195f_11eb_9e36_804a14664885level0_row54\" class=\"row_heading level0 row54\" >72</th>\n",
       "                        <td id=\"T_39459a0e_195f_11eb_9e36_804a14664885row54_col0\" class=\"data row54 col0\" >$88,435</td>\n",
       "                        <td id=\"T_39459a0e_195f_11eb_9e36_804a14664885row54_col1\" class=\"data row54 col1\" >$197,473</td>\n",
       "            </tr>\n",
       "            <tr>\n",
       "                        <th id=\"T_39459a0e_195f_11eb_9e36_804a14664885level0_row55\" class=\"row_heading level0 row55\" >73</th>\n",
       "                        <td id=\"T_39459a0e_195f_11eb_9e36_804a14664885row55_col0\" class=\"data row55 col0\" >$79,718</td>\n",
       "                        <td id=\"T_39459a0e_195f_11eb_9e36_804a14664885row55_col1\" class=\"data row55 col1\" >$187,802</td>\n",
       "            </tr>\n",
       "            <tr>\n",
       "                        <th id=\"T_39459a0e_195f_11eb_9e36_804a14664885level0_row56\" class=\"row_heading level0 row56\" >74</th>\n",
       "                        <td id=\"T_39459a0e_195f_11eb_9e36_804a14664885row56_col0\" class=\"data row56 col0\" >$92,635</td>\n",
       "                        <td id=\"T_39459a0e_195f_11eb_9e36_804a14664885row56_col1\" class=\"data row56 col1\" >$108,023</td>\n",
       "            </tr>\n",
       "            <tr>\n",
       "                        <th id=\"T_39459a0e_195f_11eb_9e36_804a14664885level0_row57\" class=\"row_heading level0 row57\" >75</th>\n",
       "                        <td id=\"T_39459a0e_195f_11eb_9e36_804a14664885row57_col0\" class=\"data row57 col0\" >$89,629</td>\n",
       "                        <td id=\"T_39459a0e_195f_11eb_9e36_804a14664885row57_col1\" class=\"data row57 col1\" >$0</td>\n",
       "            </tr>\n",
       "            <tr>\n",
       "                        <th id=\"T_39459a0e_195f_11eb_9e36_804a14664885level0_row58\" class=\"row_heading level0 row58\" >76</th>\n",
       "                        <td id=\"T_39459a0e_195f_11eb_9e36_804a14664885row58_col0\" class=\"data row58 col0\" >$85,423</td>\n",
       "                        <td id=\"T_39459a0e_195f_11eb_9e36_804a14664885row58_col1\" class=\"data row58 col1\" >$0</td>\n",
       "            </tr>\n",
       "            <tr>\n",
       "                        <th id=\"T_39459a0e_195f_11eb_9e36_804a14664885level0_row59\" class=\"row_heading level0 row59\" >77</th>\n",
       "                        <td id=\"T_39459a0e_195f_11eb_9e36_804a14664885row59_col0\" class=\"data row59 col0\" >$89,012</td>\n",
       "                        <td id=\"T_39459a0e_195f_11eb_9e36_804a14664885row59_col1\" class=\"data row59 col1\" >$0</td>\n",
       "            </tr>\n",
       "            <tr>\n",
       "                        <th id=\"T_39459a0e_195f_11eb_9e36_804a14664885level0_row60\" class=\"row_heading level0 row60\" >78</th>\n",
       "                        <td id=\"T_39459a0e_195f_11eb_9e36_804a14664885row60_col0\" class=\"data row60 col0\" >$88,305</td>\n",
       "                        <td id=\"T_39459a0e_195f_11eb_9e36_804a14664885row60_col1\" class=\"data row60 col1\" >$0</td>\n",
       "            </tr>\n",
       "            <tr>\n",
       "                        <th id=\"T_39459a0e_195f_11eb_9e36_804a14664885level0_row61\" class=\"row_heading level0 row61\" >79</th>\n",
       "                        <td id=\"T_39459a0e_195f_11eb_9e36_804a14664885row61_col0\" class=\"data row61 col0\" >$81,676</td>\n",
       "                        <td id=\"T_39459a0e_195f_11eb_9e36_804a14664885row61_col1\" class=\"data row61 col1\" >$0</td>\n",
       "            </tr>\n",
       "            <tr>\n",
       "                        <th id=\"T_39459a0e_195f_11eb_9e36_804a14664885level0_row62\" class=\"row_heading level0 row62\" >80</th>\n",
       "                        <td id=\"T_39459a0e_195f_11eb_9e36_804a14664885row62_col0\" class=\"data row62 col0\" >$88,120</td>\n",
       "                        <td id=\"T_39459a0e_195f_11eb_9e36_804a14664885row62_col1\" class=\"data row62 col1\" >$0</td>\n",
       "            </tr>\n",
       "            <tr>\n",
       "                        <th id=\"T_39459a0e_195f_11eb_9e36_804a14664885level0_row63\" class=\"row_heading level0 row63\" >81</th>\n",
       "                        <td id=\"T_39459a0e_195f_11eb_9e36_804a14664885row63_col0\" class=\"data row63 col0\" >$92,524</td>\n",
       "                        <td id=\"T_39459a0e_195f_11eb_9e36_804a14664885row63_col1\" class=\"data row63 col1\" >$0</td>\n",
       "            </tr>\n",
       "            <tr>\n",
       "                        <th id=\"T_39459a0e_195f_11eb_9e36_804a14664885level0_row64\" class=\"row_heading level0 row64\" >82</th>\n",
       "                        <td id=\"T_39459a0e_195f_11eb_9e36_804a14664885row64_col0\" class=\"data row64 col0\" >$100,119</td>\n",
       "                        <td id=\"T_39459a0e_195f_11eb_9e36_804a14664885row64_col1\" class=\"data row64 col1\" >$0</td>\n",
       "            </tr>\n",
       "            <tr>\n",
       "                        <th id=\"T_39459a0e_195f_11eb_9e36_804a14664885level0_row65\" class=\"row_heading level0 row65\" >83</th>\n",
       "                        <td id=\"T_39459a0e_195f_11eb_9e36_804a14664885row65_col0\" class=\"data row65 col0\" >$99,030</td>\n",
       "                        <td id=\"T_39459a0e_195f_11eb_9e36_804a14664885row65_col1\" class=\"data row65 col1\" >$0</td>\n",
       "            </tr>\n",
       "            <tr>\n",
       "                        <th id=\"T_39459a0e_195f_11eb_9e36_804a14664885level0_row66\" class=\"row_heading level0 row66\" >84</th>\n",
       "                        <td id=\"T_39459a0e_195f_11eb_9e36_804a14664885row66_col0\" class=\"data row66 col0\" >$93,321</td>\n",
       "                        <td id=\"T_39459a0e_195f_11eb_9e36_804a14664885row66_col1\" class=\"data row66 col1\" >$0</td>\n",
       "            </tr>\n",
       "            <tr>\n",
       "                        <th id=\"T_39459a0e_195f_11eb_9e36_804a14664885level0_row67\" class=\"row_heading level0 row67\" >85</th>\n",
       "                        <td id=\"T_39459a0e_195f_11eb_9e36_804a14664885row67_col0\" class=\"data row67 col0\" >$45,013</td>\n",
       "                        <td id=\"T_39459a0e_195f_11eb_9e36_804a14664885row67_col1\" class=\"data row67 col1\" >$0</td>\n",
       "            </tr>\n",
       "    </tbody></table>"
      ],
      "text/plain": [
       "<pandas.io.formats.style.Styler at 0x7fa829b719a0>"
      ]
     },
     "execution_count": 34,
     "metadata": {},
     "output_type": "execute_result"
    }
   ],
   "source": [
    "pivot3 = pd.pivot_table(data,index='age',columns='in-store',values='amount',aggfunc='sum',fill_value=0)\n",
    "pivot3.style.format('${0:,.0f}')"
   ]
  },
  {
   "cell_type": "markdown",
   "metadata": {},
   "source": [
    "# Do Customers in different regions spend more per transaction?\n",
    "## Finding 5 - North is not spending any online and South is not spending any in-store. North and South needs more marketing campaigns for online. Souh and east for in-store. Top sales region is West both instore and online."
   ]
  },
  {
   "cell_type": "code",
   "execution_count": 35,
   "metadata": {},
   "outputs": [
    {
     "data": {
      "text/html": [
       "<style  type=\"text/css\" >\n",
       "</style><table id=\"T_394bc2b2_195f_11eb_9e36_804a14664885\" ><thead>    <tr>        <th class=\"index_name level0\" >region</th>        <th class=\"col_heading level0 col0\" >1</th>        <th class=\"col_heading level0 col1\" >2</th>        <th class=\"col_heading level0 col2\" >3</th>        <th class=\"col_heading level0 col3\" >4</th>        <th class=\"col_heading level0 col4\" >All</th>    </tr>    <tr>        <th class=\"index_name level0\" >in-store</th>        <th class=\"blank\" ></th>        <th class=\"blank\" ></th>        <th class=\"blank\" ></th>        <th class=\"blank\" ></th>        <th class=\"blank\" ></th>    </tr></thead><tbody>\n",
       "                <tr>\n",
       "                        <th id=\"T_394bc2b2_195f_11eb_9e36_804a14664885level0_row0\" class=\"row_heading level0 row0\" >0</th>\n",
       "                        <td id=\"T_394bc2b2_195f_11eb_9e36_804a14664885row0_col0\" class=\"data row0 col0\" >$nan</td>\n",
       "                        <td id=\"T_394bc2b2_195f_11eb_9e36_804a14664885row0_col1\" class=\"data row0 col1\" >$5,042,184</td>\n",
       "                        <td id=\"T_394bc2b2_195f_11eb_9e36_804a14664885row0_col2\" class=\"data row0 col2\" >$10,793,540</td>\n",
       "                        <td id=\"T_394bc2b2_195f_11eb_9e36_804a14664885row0_col3\" class=\"data row0 col3\" >$20,067,064</td>\n",
       "                        <td id=\"T_394bc2b2_195f_11eb_9e36_804a14664885row0_col4\" class=\"data row0 col4\" >$35,902,788</td>\n",
       "            </tr>\n",
       "            <tr>\n",
       "                        <th id=\"T_394bc2b2_195f_11eb_9e36_804a14664885level0_row1\" class=\"row_heading level0 row1\" >1</th>\n",
       "                        <td id=\"T_394bc2b2_195f_11eb_9e36_804a14664885row1_col0\" class=\"data row1 col0\" >$11,922,584</td>\n",
       "                        <td id=\"T_394bc2b2_195f_11eb_9e36_804a14664885row1_col1\" class=\"data row1 col1\" >$nan</td>\n",
       "                        <td id=\"T_394bc2b2_195f_11eb_9e36_804a14664885row1_col2\" class=\"data row1 col2\" >$5,729,913</td>\n",
       "                        <td id=\"T_394bc2b2_195f_11eb_9e36_804a14664885row1_col3\" class=\"data row1 col3\" >$13,318,288</td>\n",
       "                        <td id=\"T_394bc2b2_195f_11eb_9e36_804a14664885row1_col4\" class=\"data row1 col4\" >$30,970,785</td>\n",
       "            </tr>\n",
       "            <tr>\n",
       "                        <th id=\"T_394bc2b2_195f_11eb_9e36_804a14664885level0_row2\" class=\"row_heading level0 row2\" >All</th>\n",
       "                        <td id=\"T_394bc2b2_195f_11eb_9e36_804a14664885row2_col0\" class=\"data row2 col0\" >$11,922,584</td>\n",
       "                        <td id=\"T_394bc2b2_195f_11eb_9e36_804a14664885row2_col1\" class=\"data row2 col1\" >$5,042,184</td>\n",
       "                        <td id=\"T_394bc2b2_195f_11eb_9e36_804a14664885row2_col2\" class=\"data row2 col2\" >$16,523,453</td>\n",
       "                        <td id=\"T_394bc2b2_195f_11eb_9e36_804a14664885row2_col3\" class=\"data row2 col3\" >$33,385,352</td>\n",
       "                        <td id=\"T_394bc2b2_195f_11eb_9e36_804a14664885row2_col4\" class=\"data row2 col4\" >$66,873,574</td>\n",
       "            </tr>\n",
       "    </tbody></table>"
      ],
      "text/plain": [
       "<pandas.io.formats.style.Styler at 0x7fa829b71700>"
      ]
     },
     "execution_count": 35,
     "metadata": {},
     "output_type": "execute_result"
    }
   ],
   "source": [
    "pivot4 = pd.pivot_table(data,index='in-store',columns='region',values='amount',aggfunc='sum',margins=True)\n",
    "pivot4.style.format('${0:,.0f}')"
   ]
  },
  {
   "cell_type": "code",
   "execution_count": 36,
   "metadata": {},
   "outputs": [
    {
     "data": {
      "text/html": [
       "<style  type=\"text/css\" >\n",
       "</style><table id=\"T_395046c0_195f_11eb_9e36_804a14664885\" ><thead>    <tr>        <th class=\"blank level0\" ></th>        <th class=\"col_heading level0 col0\" >sum</th>    </tr>    <tr>        <th class=\"index_name level0\" >Age_cut</th>        <th class=\"blank\" ></th>    </tr></thead><tbody>\n",
       "                <tr>\n",
       "                        <th id=\"T_395046c0_195f_11eb_9e36_804a14664885level0_row0\" class=\"row_heading level0 row0\" >34-44</th>\n",
       "                        <td id=\"T_395046c0_195f_11eb_9e36_804a14664885row0_col0\" class=\"data row0 col0\" >$15,613,628</td>\n",
       "            </tr>\n",
       "            <tr>\n",
       "                        <th id=\"T_395046c0_195f_11eb_9e36_804a14664885level0_row1\" class=\"row_heading level0 row1\" >44-54</th>\n",
       "                        <td id=\"T_395046c0_195f_11eb_9e36_804a14664885row1_col0\" class=\"data row1 col0\" >$15,460,376</td>\n",
       "            </tr>\n",
       "            <tr>\n",
       "                        <th id=\"T_395046c0_195f_11eb_9e36_804a14664885level0_row2\" class=\"row_heading level0 row2\" >24-34</th>\n",
       "                        <td id=\"T_395046c0_195f_11eb_9e36_804a14664885row2_col0\" class=\"data row2 col0\" >$15,355,996</td>\n",
       "            </tr>\n",
       "            <tr>\n",
       "                        <th id=\"T_395046c0_195f_11eb_9e36_804a14664885level0_row3\" class=\"row_heading level0 row3\" >54-64</th>\n",
       "                        <td id=\"T_395046c0_195f_11eb_9e36_804a14664885row3_col0\" class=\"data row3 col0\" >$9,101,327</td>\n",
       "            </tr>\n",
       "            <tr>\n",
       "                        <th id=\"T_395046c0_195f_11eb_9e36_804a14664885level0_row4\" class=\"row_heading level0 row4\" >18-24</th>\n",
       "                        <td id=\"T_395046c0_195f_11eb_9e36_804a14664885row4_col0\" class=\"data row4 col0\" >$7,273,503</td>\n",
       "            </tr>\n",
       "            <tr>\n",
       "                        <th id=\"T_395046c0_195f_11eb_9e36_804a14664885level0_row5\" class=\"row_heading level0 row5\" >64-85</th>\n",
       "                        <td id=\"T_395046c0_195f_11eb_9e36_804a14664885row5_col0\" class=\"data row5 col0\" >$3,746,611</td>\n",
       "            </tr>\n",
       "    </tbody></table>"
      ],
      "text/plain": [
       "<pandas.io.formats.style.Styler at 0x7fa829b701c0>"
      ]
     },
     "execution_count": 36,
     "metadata": {},
     "output_type": "execute_result"
    }
   ],
   "source": [
    "#discretizing the data using pd.cut - bins according to google demographics age buckets \n",
    "data['Age_cut']= pd.cut(data.age,bins=[18,24,34,44,54,64,85],labels=['18-24','24-34','34-44','44-54','54-64','64-85'])\n",
    "\n",
    "data['Age_cut']\n",
    "\n",
    "(data.groupby(data['Age_cut'])\n",
    " .agg(['sum'])\n",
    ")['amount'].sort_values('sum',ascending=False).style.format('${0:,.0f}')"
   ]
  },
  {
   "cell_type": "code",
   "execution_count": 37,
   "metadata": {},
   "outputs": [
    {
     "data": {
      "text/html": [
       "<style  type=\"text/css\" >\n",
       "</style><table id=\"T_39560ede_195f_11eb_9e36_804a14664885\" ><thead>    <tr>        <th class=\"index_name level0\" >in-store</th>        <th class=\"col_heading level0 col0\" >0</th>        <th class=\"col_heading level0 col1\" >1</th>        <th class=\"col_heading level0 col2\" >All</th>    </tr>    <tr>        <th class=\"index_name level0\" >Age_cut</th>        <th class=\"blank\" ></th>        <th class=\"blank\" ></th>        <th class=\"blank\" ></th>    </tr></thead><tbody>\n",
       "                <tr>\n",
       "                        <th id=\"T_39560ede_195f_11eb_9e36_804a14664885level0_row0\" class=\"row_heading level0 row0\" >18-24</th>\n",
       "                        <td id=\"T_39560ede_195f_11eb_9e36_804a14664885row0_col0\" class=\"data row0 col0\" >$4,068,261</td>\n",
       "                        <td id=\"T_39560ede_195f_11eb_9e36_804a14664885row0_col1\" class=\"data row0 col1\" >$3,205,242</td>\n",
       "                        <td id=\"T_39560ede_195f_11eb_9e36_804a14664885row0_col2\" class=\"data row0 col2\" >$7,273,503</td>\n",
       "            </tr>\n",
       "            <tr>\n",
       "                        <th id=\"T_39560ede_195f_11eb_9e36_804a14664885level0_row1\" class=\"row_heading level0 row1\" >24-34</th>\n",
       "                        <td id=\"T_39560ede_195f_11eb_9e36_804a14664885row1_col0\" class=\"data row1 col0\" >$7,495,069</td>\n",
       "                        <td id=\"T_39560ede_195f_11eb_9e36_804a14664885row1_col1\" class=\"data row1 col1\" >$7,860,926</td>\n",
       "                        <td id=\"T_39560ede_195f_11eb_9e36_804a14664885row1_col2\" class=\"data row1 col2\" >$15,355,996</td>\n",
       "            </tr>\n",
       "            <tr>\n",
       "                        <th id=\"T_39560ede_195f_11eb_9e36_804a14664885level0_row2\" class=\"row_heading level0 row2\" >34-44</th>\n",
       "                        <td id=\"T_39560ede_195f_11eb_9e36_804a14664885row2_col0\" class=\"data row2 col0\" >$7,783,148</td>\n",
       "                        <td id=\"T_39560ede_195f_11eb_9e36_804a14664885row2_col1\" class=\"data row2 col1\" >$7,830,480</td>\n",
       "                        <td id=\"T_39560ede_195f_11eb_9e36_804a14664885row2_col2\" class=\"data row2 col2\" >$15,613,628</td>\n",
       "            </tr>\n",
       "            <tr>\n",
       "                        <th id=\"T_39560ede_195f_11eb_9e36_804a14664885level0_row3\" class=\"row_heading level0 row3\" >44-54</th>\n",
       "                        <td id=\"T_39560ede_195f_11eb_9e36_804a14664885row3_col0\" class=\"data row3 col0\" >$7,677,305</td>\n",
       "                        <td id=\"T_39560ede_195f_11eb_9e36_804a14664885row3_col1\" class=\"data row3 col1\" >$7,783,071</td>\n",
       "                        <td id=\"T_39560ede_195f_11eb_9e36_804a14664885row3_col2\" class=\"data row3 col2\" >$15,460,376</td>\n",
       "            </tr>\n",
       "            <tr>\n",
       "                        <th id=\"T_39560ede_195f_11eb_9e36_804a14664885level0_row4\" class=\"row_heading level0 row4\" >54-64</th>\n",
       "                        <td id=\"T_39560ede_195f_11eb_9e36_804a14664885row4_col0\" class=\"data row4 col0\" >$6,727,967</td>\n",
       "                        <td id=\"T_39560ede_195f_11eb_9e36_804a14664885row4_col1\" class=\"data row4 col1\" >$2,373,360</td>\n",
       "                        <td id=\"T_39560ede_195f_11eb_9e36_804a14664885row4_col2\" class=\"data row4 col2\" >$9,101,327</td>\n",
       "            </tr>\n",
       "            <tr>\n",
       "                        <th id=\"T_39560ede_195f_11eb_9e36_804a14664885level0_row5\" class=\"row_heading level0 row5\" >64-85</th>\n",
       "                        <td id=\"T_39560ede_195f_11eb_9e36_804a14664885row5_col0\" class=\"data row5 col0\" >$1,828,905</td>\n",
       "                        <td id=\"T_39560ede_195f_11eb_9e36_804a14664885row5_col1\" class=\"data row5 col1\" >$1,917,706</td>\n",
       "                        <td id=\"T_39560ede_195f_11eb_9e36_804a14664885row5_col2\" class=\"data row5 col2\" >$3,746,611</td>\n",
       "            </tr>\n",
       "            <tr>\n",
       "                        <th id=\"T_39560ede_195f_11eb_9e36_804a14664885level0_row6\" class=\"row_heading level0 row6\" >All</th>\n",
       "                        <td id=\"T_39560ede_195f_11eb_9e36_804a14664885row6_col0\" class=\"data row6 col0\" >$35,580,655</td>\n",
       "                        <td id=\"T_39560ede_195f_11eb_9e36_804a14664885row6_col1\" class=\"data row6 col1\" >$30,970,785</td>\n",
       "                        <td id=\"T_39560ede_195f_11eb_9e36_804a14664885row6_col2\" class=\"data row6 col2\" >$66,551,440</td>\n",
       "            </tr>\n",
       "    </tbody></table>"
      ],
      "text/plain": [
       "<pandas.io.formats.style.Styler at 0x7fa829b556a0>"
      ]
     },
     "execution_count": 37,
     "metadata": {},
     "output_type": "execute_result"
    }
   ],
   "source": [
    "pivot5 = pd.pivot_table(data,index='Age_cut',columns='in-store',values='amount',aggfunc='sum',fill_value=0,margins=True)\n",
    "pivot5.style.format('${0:,.0f}')"
   ]
  },
  {
   "cell_type": "markdown",
   "metadata": {},
   "source": [
    "\n",
    "## 1 and 8 are purchased less than rest. Top no of items is 6 items and its online. "
   ]
  },
  {
   "cell_type": "code",
   "execution_count": 38,
   "metadata": {},
   "outputs": [
    {
     "data": {
      "text/html": [
       "<style  type=\"text/css\" >\n",
       "</style><table id=\"T_395b4bb0_195f_11eb_9e36_804a14664885\" ><thead>    <tr>        <th class=\"index_name level0\" >in-store</th>        <th class=\"col_heading level0 col0\" >0</th>        <th class=\"col_heading level0 col1\" >1</th>        <th class=\"col_heading level0 col2\" >All</th>    </tr>    <tr>        <th class=\"index_name level0\" >items</th>        <th class=\"blank\" ></th>        <th class=\"blank\" ></th>        <th class=\"blank\" ></th>    </tr></thead><tbody>\n",
       "                <tr>\n",
       "                        <th id=\"T_395b4bb0_195f_11eb_9e36_804a14664885level0_row0\" class=\"row_heading level0 row0\" >1</th>\n",
       "                        <td id=\"T_395b4bb0_195f_11eb_9e36_804a14664885row0_col0\" class=\"data row0 col0\" >$2,497,788</td>\n",
       "                        <td id=\"T_395b4bb0_195f_11eb_9e36_804a14664885row0_col1\" class=\"data row0 col1\" >$2,207,740</td>\n",
       "                        <td id=\"T_395b4bb0_195f_11eb_9e36_804a14664885row0_col2\" class=\"data row0 col2\" >$4,705,527</td>\n",
       "            </tr>\n",
       "            <tr>\n",
       "                        <th id=\"T_395b4bb0_195f_11eb_9e36_804a14664885level0_row1\" class=\"row_heading level0 row1\" >2</th>\n",
       "                        <td id=\"T_395b4bb0_195f_11eb_9e36_804a14664885row1_col0\" class=\"data row1 col0\" >$5,144,497</td>\n",
       "                        <td id=\"T_395b4bb0_195f_11eb_9e36_804a14664885row1_col1\" class=\"data row1 col1\" >$4,419,669</td>\n",
       "                        <td id=\"T_395b4bb0_195f_11eb_9e36_804a14664885row1_col2\" class=\"data row1 col2\" >$9,564,166</td>\n",
       "            </tr>\n",
       "            <tr>\n",
       "                        <th id=\"T_395b4bb0_195f_11eb_9e36_804a14664885level0_row2\" class=\"row_heading level0 row2\" >3</th>\n",
       "                        <td id=\"T_395b4bb0_195f_11eb_9e36_804a14664885row2_col0\" class=\"data row2 col0\" >$5,096,851</td>\n",
       "                        <td id=\"T_395b4bb0_195f_11eb_9e36_804a14664885row2_col1\" class=\"data row2 col1\" >$4,514,263</td>\n",
       "                        <td id=\"T_395b4bb0_195f_11eb_9e36_804a14664885row2_col2\" class=\"data row2 col2\" >$9,611,113</td>\n",
       "            </tr>\n",
       "            <tr>\n",
       "                        <th id=\"T_395b4bb0_195f_11eb_9e36_804a14664885level0_row3\" class=\"row_heading level0 row3\" >4</th>\n",
       "                        <td id=\"T_395b4bb0_195f_11eb_9e36_804a14664885row3_col0\" class=\"data row3 col0\" >$5,192,738</td>\n",
       "                        <td id=\"T_395b4bb0_195f_11eb_9e36_804a14664885row3_col1\" class=\"data row3 col1\" >$4,427,298</td>\n",
       "                        <td id=\"T_395b4bb0_195f_11eb_9e36_804a14664885row3_col2\" class=\"data row3 col2\" >$9,620,036</td>\n",
       "            </tr>\n",
       "            <tr>\n",
       "                        <th id=\"T_395b4bb0_195f_11eb_9e36_804a14664885level0_row4\" class=\"row_heading level0 row4\" >5</th>\n",
       "                        <td id=\"T_395b4bb0_195f_11eb_9e36_804a14664885row4_col0\" class=\"data row4 col0\" >$4,978,935</td>\n",
       "                        <td id=\"T_395b4bb0_195f_11eb_9e36_804a14664885row4_col1\" class=\"data row4 col1\" >$4,396,964</td>\n",
       "                        <td id=\"T_395b4bb0_195f_11eb_9e36_804a14664885row4_col2\" class=\"data row4 col2\" >$9,375,899</td>\n",
       "            </tr>\n",
       "            <tr>\n",
       "                        <th id=\"T_395b4bb0_195f_11eb_9e36_804a14664885level0_row5\" class=\"row_heading level0 row5\" >6</th>\n",
       "                        <td id=\"T_395b4bb0_195f_11eb_9e36_804a14664885row5_col0\" class=\"data row5 col0\" >$5,146,989</td>\n",
       "                        <td id=\"T_395b4bb0_195f_11eb_9e36_804a14664885row5_col1\" class=\"data row5 col1\" >$4,477,389</td>\n",
       "                        <td id=\"T_395b4bb0_195f_11eb_9e36_804a14664885row5_col2\" class=\"data row5 col2\" >$9,624,378</td>\n",
       "            </tr>\n",
       "            <tr>\n",
       "                        <th id=\"T_395b4bb0_195f_11eb_9e36_804a14664885level0_row6\" class=\"row_heading level0 row6\" >7</th>\n",
       "                        <td id=\"T_395b4bb0_195f_11eb_9e36_804a14664885row6_col0\" class=\"data row6 col0\" >$5,158,012</td>\n",
       "                        <td id=\"T_395b4bb0_195f_11eb_9e36_804a14664885row6_col1\" class=\"data row6 col1\" >$4,287,299</td>\n",
       "                        <td id=\"T_395b4bb0_195f_11eb_9e36_804a14664885row6_col2\" class=\"data row6 col2\" >$9,445,311</td>\n",
       "            </tr>\n",
       "            <tr>\n",
       "                        <th id=\"T_395b4bb0_195f_11eb_9e36_804a14664885level0_row7\" class=\"row_heading level0 row7\" >8</th>\n",
       "                        <td id=\"T_395b4bb0_195f_11eb_9e36_804a14664885row7_col0\" class=\"data row7 col0\" >$2,686,979</td>\n",
       "                        <td id=\"T_395b4bb0_195f_11eb_9e36_804a14664885row7_col1\" class=\"data row7 col1\" >$2,240,163</td>\n",
       "                        <td id=\"T_395b4bb0_195f_11eb_9e36_804a14664885row7_col2\" class=\"data row7 col2\" >$4,927,143</td>\n",
       "            </tr>\n",
       "            <tr>\n",
       "                        <th id=\"T_395b4bb0_195f_11eb_9e36_804a14664885level0_row8\" class=\"row_heading level0 row8\" >All</th>\n",
       "                        <td id=\"T_395b4bb0_195f_11eb_9e36_804a14664885row8_col0\" class=\"data row8 col0\" >$35,902,788</td>\n",
       "                        <td id=\"T_395b4bb0_195f_11eb_9e36_804a14664885row8_col1\" class=\"data row8 col1\" >$30,970,785</td>\n",
       "                        <td id=\"T_395b4bb0_195f_11eb_9e36_804a14664885row8_col2\" class=\"data row8 col2\" >$66,873,574</td>\n",
       "            </tr>\n",
       "    </tbody></table>"
      ],
      "text/plain": [
       "<pandas.io.formats.style.Styler at 0x7fa829e2b040>"
      ]
     },
     "execution_count": 38,
     "metadata": {},
     "output_type": "execute_result"
    }
   ],
   "source": [
    "pivot6 = pd.pivot_table(data,index='items',columns='in-store',values='amount',aggfunc='sum',fill_value=0,margins=True)\n",
    "pivot6.style.format('${0:,.0f}')"
   ]
  },
  {
   "cell_type": "code",
   "execution_count": 39,
   "metadata": {},
   "outputs": [
    {
     "data": {
      "text/html": [
       "<style  type=\"text/css\" >\n",
       "</style><table id=\"T_3960c9c8_195f_11eb_9e36_804a14664885\" ><thead>    <tr>        <th class=\"index_name level0\" >region</th>        <th class=\"col_heading level0 col0\" >1</th>        <th class=\"col_heading level0 col1\" >2</th>        <th class=\"col_heading level0 col2\" >3</th>        <th class=\"col_heading level0 col3\" >4</th>        <th class=\"col_heading level0 col4\" >All</th>    </tr>    <tr>        <th class=\"index_name level0\" >items</th>        <th class=\"blank\" ></th>        <th class=\"blank\" ></th>        <th class=\"blank\" ></th>        <th class=\"blank\" ></th>        <th class=\"blank\" ></th>    </tr></thead><tbody>\n",
       "                <tr>\n",
       "                        <th id=\"T_3960c9c8_195f_11eb_9e36_804a14664885level0_row0\" class=\"row_heading level0 row0\" >1</th>\n",
       "                        <td id=\"T_3960c9c8_195f_11eb_9e36_804a14664885row0_col0\" class=\"data row0 col0\" >$831,104</td>\n",
       "                        <td id=\"T_3960c9c8_195f_11eb_9e36_804a14664885row0_col1\" class=\"data row0 col1\" >$371,701</td>\n",
       "                        <td id=\"T_3960c9c8_195f_11eb_9e36_804a14664885row0_col2\" class=\"data row0 col2\" >$1,126,742</td>\n",
       "                        <td id=\"T_3960c9c8_195f_11eb_9e36_804a14664885row0_col3\" class=\"data row0 col3\" >$2,375,980</td>\n",
       "                        <td id=\"T_3960c9c8_195f_11eb_9e36_804a14664885row0_col4\" class=\"data row0 col4\" >$4,705,527</td>\n",
       "            </tr>\n",
       "            <tr>\n",
       "                        <th id=\"T_3960c9c8_195f_11eb_9e36_804a14664885level0_row1\" class=\"row_heading level0 row1\" >2</th>\n",
       "                        <td id=\"T_3960c9c8_195f_11eb_9e36_804a14664885row1_col0\" class=\"data row1 col0\" >$1,704,421</td>\n",
       "                        <td id=\"T_3960c9c8_195f_11eb_9e36_804a14664885row1_col1\" class=\"data row1 col1\" >$707,179</td>\n",
       "                        <td id=\"T_3960c9c8_195f_11eb_9e36_804a14664885row1_col2\" class=\"data row1 col2\" >$2,400,234</td>\n",
       "                        <td id=\"T_3960c9c8_195f_11eb_9e36_804a14664885row1_col3\" class=\"data row1 col3\" >$4,752,332</td>\n",
       "                        <td id=\"T_3960c9c8_195f_11eb_9e36_804a14664885row1_col4\" class=\"data row1 col4\" >$9,564,166</td>\n",
       "            </tr>\n",
       "            <tr>\n",
       "                        <th id=\"T_3960c9c8_195f_11eb_9e36_804a14664885level0_row2\" class=\"row_heading level0 row2\" >3</th>\n",
       "                        <td id=\"T_3960c9c8_195f_11eb_9e36_804a14664885row2_col0\" class=\"data row2 col0\" >$1,724,660</td>\n",
       "                        <td id=\"T_3960c9c8_195f_11eb_9e36_804a14664885row2_col1\" class=\"data row2 col1\" >$706,362</td>\n",
       "                        <td id=\"T_3960c9c8_195f_11eb_9e36_804a14664885row2_col2\" class=\"data row2 col2\" >$2,381,780</td>\n",
       "                        <td id=\"T_3960c9c8_195f_11eb_9e36_804a14664885row2_col3\" class=\"data row2 col3\" >$4,798,311</td>\n",
       "                        <td id=\"T_3960c9c8_195f_11eb_9e36_804a14664885row2_col4\" class=\"data row2 col4\" >$9,611,113</td>\n",
       "            </tr>\n",
       "            <tr>\n",
       "                        <th id=\"T_3960c9c8_195f_11eb_9e36_804a14664885level0_row3\" class=\"row_heading level0 row3\" >4</th>\n",
       "                        <td id=\"T_3960c9c8_195f_11eb_9e36_804a14664885row3_col0\" class=\"data row3 col0\" >$1,738,248</td>\n",
       "                        <td id=\"T_3960c9c8_195f_11eb_9e36_804a14664885row3_col1\" class=\"data row3 col1\" >$721,991</td>\n",
       "                        <td id=\"T_3960c9c8_195f_11eb_9e36_804a14664885row3_col2\" class=\"data row3 col2\" >$2,501,152</td>\n",
       "                        <td id=\"T_3960c9c8_195f_11eb_9e36_804a14664885row3_col3\" class=\"data row3 col3\" >$4,658,645</td>\n",
       "                        <td id=\"T_3960c9c8_195f_11eb_9e36_804a14664885row3_col4\" class=\"data row3 col4\" >$9,620,036</td>\n",
       "            </tr>\n",
       "            <tr>\n",
       "                        <th id=\"T_3960c9c8_195f_11eb_9e36_804a14664885level0_row4\" class=\"row_heading level0 row4\" >5</th>\n",
       "                        <td id=\"T_3960c9c8_195f_11eb_9e36_804a14664885row4_col0\" class=\"data row4 col0\" >$1,672,342</td>\n",
       "                        <td id=\"T_3960c9c8_195f_11eb_9e36_804a14664885row4_col1\" class=\"data row4 col1\" >$707,222</td>\n",
       "                        <td id=\"T_3960c9c8_195f_11eb_9e36_804a14664885row4_col2\" class=\"data row4 col2\" >$2,290,797</td>\n",
       "                        <td id=\"T_3960c9c8_195f_11eb_9e36_804a14664885row4_col3\" class=\"data row4 col3\" >$4,705,538</td>\n",
       "                        <td id=\"T_3960c9c8_195f_11eb_9e36_804a14664885row4_col4\" class=\"data row4 col4\" >$9,375,899</td>\n",
       "            </tr>\n",
       "            <tr>\n",
       "                        <th id=\"T_3960c9c8_195f_11eb_9e36_804a14664885level0_row5\" class=\"row_heading level0 row5\" >6</th>\n",
       "                        <td id=\"T_3960c9c8_195f_11eb_9e36_804a14664885row5_col0\" class=\"data row5 col0\" >$1,744,998</td>\n",
       "                        <td id=\"T_3960c9c8_195f_11eb_9e36_804a14664885row5_col1\" class=\"data row5 col1\" >$737,463</td>\n",
       "                        <td id=\"T_3960c9c8_195f_11eb_9e36_804a14664885row5_col2\" class=\"data row5 col2\" >$2,271,135</td>\n",
       "                        <td id=\"T_3960c9c8_195f_11eb_9e36_804a14664885row5_col3\" class=\"data row5 col3\" >$4,870,781</td>\n",
       "                        <td id=\"T_3960c9c8_195f_11eb_9e36_804a14664885row5_col4\" class=\"data row5 col4\" >$9,624,378</td>\n",
       "            </tr>\n",
       "            <tr>\n",
       "                        <th id=\"T_3960c9c8_195f_11eb_9e36_804a14664885level0_row6\" class=\"row_heading level0 row6\" >7</th>\n",
       "                        <td id=\"T_3960c9c8_195f_11eb_9e36_804a14664885row6_col0\" class=\"data row6 col0\" >$1,609,124</td>\n",
       "                        <td id=\"T_3960c9c8_195f_11eb_9e36_804a14664885row6_col1\" class=\"data row6 col1\" >$731,934</td>\n",
       "                        <td id=\"T_3960c9c8_195f_11eb_9e36_804a14664885row6_col2\" class=\"data row6 col2\" >$2,337,951</td>\n",
       "                        <td id=\"T_3960c9c8_195f_11eb_9e36_804a14664885row6_col3\" class=\"data row6 col3\" >$4,766,302</td>\n",
       "                        <td id=\"T_3960c9c8_195f_11eb_9e36_804a14664885row6_col4\" class=\"data row6 col4\" >$9,445,311</td>\n",
       "            </tr>\n",
       "            <tr>\n",
       "                        <th id=\"T_3960c9c8_195f_11eb_9e36_804a14664885level0_row7\" class=\"row_heading level0 row7\" >8</th>\n",
       "                        <td id=\"T_3960c9c8_195f_11eb_9e36_804a14664885row7_col0\" class=\"data row7 col0\" >$897,686</td>\n",
       "                        <td id=\"T_3960c9c8_195f_11eb_9e36_804a14664885row7_col1\" class=\"data row7 col1\" >$358,332</td>\n",
       "                        <td id=\"T_3960c9c8_195f_11eb_9e36_804a14664885row7_col2\" class=\"data row7 col2\" >$1,213,662</td>\n",
       "                        <td id=\"T_3960c9c8_195f_11eb_9e36_804a14664885row7_col3\" class=\"data row7 col3\" >$2,457,463</td>\n",
       "                        <td id=\"T_3960c9c8_195f_11eb_9e36_804a14664885row7_col4\" class=\"data row7 col4\" >$4,927,143</td>\n",
       "            </tr>\n",
       "            <tr>\n",
       "                        <th id=\"T_3960c9c8_195f_11eb_9e36_804a14664885level0_row8\" class=\"row_heading level0 row8\" >All</th>\n",
       "                        <td id=\"T_3960c9c8_195f_11eb_9e36_804a14664885row8_col0\" class=\"data row8 col0\" >$11,922,584</td>\n",
       "                        <td id=\"T_3960c9c8_195f_11eb_9e36_804a14664885row8_col1\" class=\"data row8 col1\" >$5,042,184</td>\n",
       "                        <td id=\"T_3960c9c8_195f_11eb_9e36_804a14664885row8_col2\" class=\"data row8 col2\" >$16,523,453</td>\n",
       "                        <td id=\"T_3960c9c8_195f_11eb_9e36_804a14664885row8_col3\" class=\"data row8 col3\" >$33,385,352</td>\n",
       "                        <td id=\"T_3960c9c8_195f_11eb_9e36_804a14664885row8_col4\" class=\"data row8 col4\" >$66,873,574</td>\n",
       "            </tr>\n",
       "    </tbody></table>"
      ],
      "text/plain": [
       "<pandas.io.formats.style.Styler at 0x7fa829b85700>"
      ]
     },
     "execution_count": 39,
     "metadata": {},
     "output_type": "execute_result"
    }
   ],
   "source": [
    "pivot7 = pd.pivot_table(data,index='items',columns='region',values='amount',aggfunc='sum',fill_value=0,margins=True)\n",
    "pivot7.style.format('${0:,.0f}')"
   ]
  },
  {
   "cell_type": "code",
   "execution_count": 40,
   "metadata": {},
   "outputs": [
    {
     "name": "stdout",
     "output_type": "stream",
     "text": [
      "Index(['in-store', 'age', 'items', 'amount', 'region', 'Age_grp', 'Age_cut'], dtype='object')\n"
     ]
    }
   ],
   "source": [
    "header = data.dtypes.index\n",
    "print(header)"
   ]
  },
  {
   "cell_type": "markdown",
   "metadata": {},
   "source": [
    "## Data Visualization "
   ]
  },
  {
   "cell_type": "code",
   "execution_count": 41,
   "metadata": {},
   "outputs": [
    {
     "data": {
      "image/png": "[encoded data removed]",
      "text/plain": [
       "<Figure size 432x288 with 1 Axes>"
      ]
     },
     "metadata": {
      "needs_background": "light"
     },
     "output_type": "display_data"
    }
   ],
   "source": [
    "plt.hist(data['in-store'])\n",
    "plt.show()"
   ]
  },
  {
   "cell_type": "code",
   "execution_count": 42,
   "metadata": {},
   "outputs": [
    {
     "data": {
      "text/plain": [
       "(array([40000.,     0.,     0., 40000.]),\n",
       " array([0.  , 0.25, 0.5 , 0.75, 1.  ]),\n",
       " <BarContainer object of 4 artists>)"
      ]
     },
     "execution_count": 42,
     "metadata": {},
     "output_type": "execute_result"
    },
    {
     "data": {
      "image/png": "[encoded data removed]",
      "text/plain": [
       "<Figure size 432x288 with 1 Axes>"
      ]
     },
     "metadata": {
      "needs_background": "light"
     },
     "output_type": "display_data"
    }
   ],
   "source": [
    "plt.hist(data['in-store'], bins=4) "
   ]
  },
  {
   "cell_type": "code",
   "execution_count": 101,
   "metadata": {},
   "outputs": [
    {
     "data": {
      "image/png": "[encoded data removed]",
      "text/plain": [
       "<Figure size 432x288 with 1 Axes>"
      ]
     },
     "metadata": {
      "needs_background": "light"
     },
     "output_type": "display_data"
    }
   ],
   "source": [
    "plt.hist(data['items'],bins=8)\n",
    "plt.show()"
   ]
  },
  {
   "cell_type": "code",
   "execution_count": 44,
   "metadata": {},
   "outputs": [
    {
     "data": {
      "image/png": "[encoded data removed]",
      "text/plain": [
       "<Figure size 432x288 with 1 Axes>"
      ]
     },
     "metadata": {
      "needs_background": "light"
     },
     "output_type": "display_data"
    }
   ],
   "source": [
    "plt.hist(data['age'])\n",
    "plt.show()"
   ]
  },
  {
   "cell_type": "code",
   "execution_count": 45,
   "metadata": {},
   "outputs": [
    {
     "data": {
      "image/png": "[encoded data removed]",
      "text/plain": [
       "<Figure size 432x288 with 1 Axes>"
      ]
     },
     "metadata": {
      "needs_background": "light"
     },
     "output_type": "display_data"
    }
   ],
   "source": [
    "plt.hist(data['amount'])\n",
    "plt.show()"
   ]
  },
  {
   "cell_type": "code",
   "execution_count": 46,
   "metadata": {},
   "outputs": [
    {
     "data": {
      "text/plain": [
       "<seaborn.axisgrid.FacetGrid at 0x7fa82b6534c0>"
      ]
     },
     "execution_count": 46,
     "metadata": {},
     "output_type": "execute_result"
    },
    {
     "data": {
      "image/png": "[encoded data removed]",
      "text/plain": [
       "<Figure size 540x360 with 1 Axes>"
      ]
     },
     "metadata": {
      "needs_background": "light"
     },
     "output_type": "display_data"
    }
   ],
   "source": [
    "fg = sns.catplot(x='items', data=data, kind='count', aspect=1.5)\n",
    "fg.set_xlabels('Items')"
   ]
  },
  {
   "cell_type": "code",
   "execution_count": 47,
   "metadata": {},
   "outputs": [
    {
     "data": {
      "image/png": "[encoded data removed]",
      "text/plain": [
       "<Figure size 432x288 with 1 Axes>"
      ]
     },
     "metadata": {
      "needs_background": "light"
     },
     "output_type": "display_data"
    }
   ],
   "source": [
    "t=data['region']\n",
    "s= data['in-store']\n",
    "fig,ax = plt.subplots()\n",
    "ax.plot(t,s)\n",
    "plt.show()"
   ]
  },
  {
   "cell_type": "code",
   "execution_count": 48,
   "metadata": {},
   "outputs": [
    {
     "data": {
      "image/png": "[encoded data removed]",
      "text/plain": [
       "<Figure size 432x288 with 1 Axes>"
      ]
     },
     "metadata": {
      "needs_background": "light"
     },
     "output_type": "display_data"
    }
   ],
   "source": [
    "#Scatter plot\n",
    "data_sample = data.sample(1500)\n",
    "x = data_sample['age']\n",
    "y = data_sample['amount']\n",
    "plt.scatter(x,y, marker='o')\n",
    "plt.show()"
   ]
  },
  {
   "cell_type": "code",
   "execution_count": 49,
   "metadata": {},
   "outputs": [
    {
     "name": "stdout",
     "output_type": "stream",
     "text": [
      "Index(['in-store', 'age', 'items', 'amount', 'region', 'Age_grp', 'Age_cut'], dtype='object')\n"
     ]
    }
   ],
   "source": [
    "#box plot\n",
    "header = data.dtypes.index\n",
    "print(header)"
   ]
  },
  {
   "cell_type": "code",
   "execution_count": 50,
   "metadata": {},
   "outputs": [
    {
     "data": {
      "image/png": "[encoded data removed]",
      "text/plain": [
       "<Figure size 432x288 with 1 Axes>"
      ]
     },
     "metadata": {
      "needs_background": "light"
     },
     "output_type": "display_data"
    }
   ],
   "source": [
    "A = data['age']\n",
    "plt.boxplot(A,0,'gD')\n",
    "plt.show()"
   ]
  },
  {
   "cell_type": "code",
   "execution_count": 51,
   "metadata": {},
   "outputs": [
    {
     "data": {
      "image/png": "[encoded data removed]",
      "text/plain": [
       "<Figure size 432x288 with 1 Axes>"
      ]
     },
     "metadata": {
      "needs_background": "light"
     },
     "output_type": "display_data"
    }
   ],
   "source": [
    "B = data['in-store']\n",
    "plt.boxplot(B,0,'gD')\n",
    "plt.show()"
   ]
  },
  {
   "cell_type": "code",
   "execution_count": 52,
   "metadata": {},
   "outputs": [
    {
     "data": {
      "image/png": "[encoded data removed]",
      "text/plain": [
       "<Figure size 432x288 with 1 Axes>"
      ]
     },
     "metadata": {
      "needs_background": "light"
     },
     "output_type": "display_data"
    }
   ],
   "source": [
    "C = data['items']\n",
    "plt.boxplot(C,0,'gD')\n",
    "plt.show()"
   ]
  },
  {
   "cell_type": "code",
   "execution_count": 53,
   "metadata": {},
   "outputs": [
    {
     "data": {
      "image/png": "[encoded data removed]",
      "text/plain": [
       "<Figure size 432x288 with 1 Axes>"
      ]
     },
     "metadata": {
      "needs_background": "light"
     },
     "output_type": "display_data"
    }
   ],
   "source": [
    "D = data['amount']\n",
    "plt.boxplot(D,0,'gD')\n",
    "plt.show()"
   ]
  },
  {
   "cell_type": "code",
   "execution_count": 54,
   "metadata": {},
   "outputs": [
    {
     "name": "stdout",
     "output_type": "stream",
     "text": [
      "       in-store  age  items  amount  region Age_grp Age_cut\n",
      "18            0   35      2  2791.6       4   34-44   34-44\n",
      "57            0   53      5  2952.8       4   44-54   44-54\n",
      "121           0   44      2  2795.0       3   34-44   34-44\n",
      "207           0   56      6  2860.3       3   54-64   54-64\n",
      "228           0   32      2  2891.6       4   24-34   24-34\n",
      "...         ...  ...    ...     ...     ...     ...     ...\n",
      "79922         0   55      2  2871.4       3   54-64   54-64\n",
      "79934         0   46      6  2836.4       4   44-54   44-54\n",
      "79955         0   47      4  2829.0       4   44-54   44-54\n",
      "79969         0   22      7  2906.4       4   18-24   18-24\n",
      "79976         0   40      1  2854.8       4   34-44   34-44\n",
      "\n",
      "[2015 rows x 7 columns]\n"
     ]
    }
   ],
   "source": [
    "# i am trying to find the outliers here - I see transaction above 2,700 and 3,000 having some uniqueness \n",
    "filterinfDataframe = data[(data['amount'] > 2700) & (data['amount'] < 4000) ]\n",
    "print(filterinfDataframe)"
   ]
  },
  {
   "cell_type": "markdown",
   "metadata": {},
   "source": [
    "# Do Customers in different regions spend more per transaction?\n",
    "### Another way to answer this question \n",
    "## Inference is that region 3 and 4 brought more sales which are above 2700 dollars in signle transaction and only in online  "
   ]
  },
  {
   "cell_type": "code",
   "execution_count": 55,
   "metadata": {},
   "outputs": [
    {
     "data": {
      "text/html": [
       "<style  type=\"text/css\" >\n",
       "</style><table id=\"T_3ce3c71c_195f_11eb_9e36_804a14664885\" ><thead>    <tr>        <th class=\"index_name level0\" >region</th>        <th class=\"col_heading level0 col0\" >3</th>        <th class=\"col_heading level0 col1\" >4</th>        <th class=\"col_heading level0 col2\" >All</th>    </tr>    <tr>        <th class=\"index_name level0\" >in-store</th>        <th class=\"blank\" ></th>        <th class=\"blank\" ></th>        <th class=\"blank\" ></th>    </tr></thead><tbody>\n",
       "                <tr>\n",
       "                        <th id=\"T_3ce3c71c_195f_11eb_9e36_804a14664885level0_row0\" class=\"row_heading level0 row0\" >0</th>\n",
       "                        <td id=\"T_3ce3c71c_195f_11eb_9e36_804a14664885row0_col0\" class=\"data row0 col0\" >$1,930,163</td>\n",
       "                        <td id=\"T_3ce3c71c_195f_11eb_9e36_804a14664885row0_col1\" class=\"data row0 col1\" >$3,813,728</td>\n",
       "                        <td id=\"T_3ce3c71c_195f_11eb_9e36_804a14664885row0_col2\" class=\"data row0 col2\" >$5,743,891</td>\n",
       "            </tr>\n",
       "            <tr>\n",
       "                        <th id=\"T_3ce3c71c_195f_11eb_9e36_804a14664885level0_row1\" class=\"row_heading level0 row1\" >All</th>\n",
       "                        <td id=\"T_3ce3c71c_195f_11eb_9e36_804a14664885row1_col0\" class=\"data row1 col0\" >$1,930,163</td>\n",
       "                        <td id=\"T_3ce3c71c_195f_11eb_9e36_804a14664885row1_col1\" class=\"data row1 col1\" >$3,813,728</td>\n",
       "                        <td id=\"T_3ce3c71c_195f_11eb_9e36_804a14664885row1_col2\" class=\"data row1 col2\" >$5,743,891</td>\n",
       "            </tr>\n",
       "    </tbody></table>"
      ],
      "text/plain": [
       "<pandas.io.formats.style.Styler at 0x7fa829ce3cd0>"
      ]
     },
     "execution_count": 55,
     "metadata": {},
     "output_type": "execute_result"
    }
   ],
   "source": [
    "pivot8 = pd.pivot_table(filterinfDataframe,index='in-store',columns='region',values='amount',aggfunc='sum',fill_value=0,margins=True)\n",
    "pivot8.style.format('${0:,.0f}')"
   ]
  },
  {
   "cell_type": "code",
   "execution_count": 56,
   "metadata": {},
   "outputs": [
    {
     "data": {
      "text/plain": [
       "<seaborn.axisgrid.FacetGrid at 0x7fa82b186820>"
      ]
     },
     "execution_count": 56,
     "metadata": {},
     "output_type": "execute_result"
    },
    {
     "data": {
      "image/png": "[encoded data removed]",
      "text/plain": [
       "<Figure size 672.375x360 with 1 Axes>"
      ]
     },
     "metadata": {
      "needs_background": "light"
     },
     "output_type": "display_data"
    }
   ],
   "source": [
    "reg_spend = sns.catplot(x='in-store', data=filterinfDataframe, hue='region', kind='count', aspect=1.75)\n",
    "reg_spend.set_xlabels('Region Highest Spend')"
   ]
  },
  {
   "cell_type": "code",
   "execution_count": 57,
   "metadata": {},
   "outputs": [
    {
     "data": {
      "text/html": [
       "<style  type=\"text/css\" >\n",
       "</style><table id=\"T_3d052a42_195f_11eb_9e36_804a14664885\" ><thead>    <tr>        <th class=\"index_name level0\" >region</th>        <th class=\"col_heading level0 col0\" >3</th>        <th class=\"col_heading level0 col1\" >4</th>        <th class=\"col_heading level0 col2\" >All</th>    </tr>    <tr>        <th class=\"index_name level0\" >items</th>        <th class=\"blank\" ></th>        <th class=\"blank\" ></th>        <th class=\"blank\" ></th>    </tr></thead><tbody>\n",
       "                <tr>\n",
       "                        <th id=\"T_3d052a42_195f_11eb_9e36_804a14664885level0_row0\" class=\"row_heading level0 row0\" >1</th>\n",
       "                        <td id=\"T_3d052a42_195f_11eb_9e36_804a14664885row0_col0\" class=\"data row0 col0\" >$130,670</td>\n",
       "                        <td id=\"T_3d052a42_195f_11eb_9e36_804a14664885row0_col1\" class=\"data row0 col1\" >$279,084</td>\n",
       "                        <td id=\"T_3d052a42_195f_11eb_9e36_804a14664885row0_col2\" class=\"data row0 col2\" >$409,755</td>\n",
       "            </tr>\n",
       "            <tr>\n",
       "                        <th id=\"T_3d052a42_195f_11eb_9e36_804a14664885level0_row1\" class=\"row_heading level0 row1\" >2</th>\n",
       "                        <td id=\"T_3d052a42_195f_11eb_9e36_804a14664885row1_col0\" class=\"data row1 col0\" >$273,576</td>\n",
       "                        <td id=\"T_3d052a42_195f_11eb_9e36_804a14664885row1_col1\" class=\"data row1 col1\" >$556,536</td>\n",
       "                        <td id=\"T_3d052a42_195f_11eb_9e36_804a14664885row1_col2\" class=\"data row1 col2\" >$830,111</td>\n",
       "            </tr>\n",
       "            <tr>\n",
       "                        <th id=\"T_3d052a42_195f_11eb_9e36_804a14664885level0_row2\" class=\"row_heading level0 row2\" >3</th>\n",
       "                        <td id=\"T_3d052a42_195f_11eb_9e36_804a14664885row2_col0\" class=\"data row2 col0\" >$273,897</td>\n",
       "                        <td id=\"T_3d052a42_195f_11eb_9e36_804a14664885row2_col1\" class=\"data row2 col1\" >$488,404</td>\n",
       "                        <td id=\"T_3d052a42_195f_11eb_9e36_804a14664885row2_col2\" class=\"data row2 col2\" >$762,301</td>\n",
       "            </tr>\n",
       "            <tr>\n",
       "                        <th id=\"T_3d052a42_195f_11eb_9e36_804a14664885level0_row3\" class=\"row_heading level0 row3\" >4</th>\n",
       "                        <td id=\"T_3d052a42_195f_11eb_9e36_804a14664885row3_col0\" class=\"data row3 col0\" >$288,944</td>\n",
       "                        <td id=\"T_3d052a42_195f_11eb_9e36_804a14664885row3_col1\" class=\"data row3 col1\" >$608,032</td>\n",
       "                        <td id=\"T_3d052a42_195f_11eb_9e36_804a14664885row3_col2\" class=\"data row3 col2\" >$896,976</td>\n",
       "            </tr>\n",
       "            <tr>\n",
       "                        <th id=\"T_3d052a42_195f_11eb_9e36_804a14664885level0_row4\" class=\"row_heading level0 row4\" >5</th>\n",
       "                        <td id=\"T_3d052a42_195f_11eb_9e36_804a14664885row4_col0\" class=\"data row4 col0\" >$243,267</td>\n",
       "                        <td id=\"T_3d052a42_195f_11eb_9e36_804a14664885row4_col1\" class=\"data row4 col1\" >$531,637</td>\n",
       "                        <td id=\"T_3d052a42_195f_11eb_9e36_804a14664885row4_col2\" class=\"data row4 col2\" >$774,904</td>\n",
       "            </tr>\n",
       "            <tr>\n",
       "                        <th id=\"T_3d052a42_195f_11eb_9e36_804a14664885level0_row5\" class=\"row_heading level0 row5\" >6</th>\n",
       "                        <td id=\"T_3d052a42_195f_11eb_9e36_804a14664885row5_col0\" class=\"data row5 col0\" >$302,638</td>\n",
       "                        <td id=\"T_3d052a42_195f_11eb_9e36_804a14664885row5_col1\" class=\"data row5 col1\" >$507,530</td>\n",
       "                        <td id=\"T_3d052a42_195f_11eb_9e36_804a14664885row5_col2\" class=\"data row5 col2\" >$810,168</td>\n",
       "            </tr>\n",
       "            <tr>\n",
       "                        <th id=\"T_3d052a42_195f_11eb_9e36_804a14664885level0_row6\" class=\"row_heading level0 row6\" >7</th>\n",
       "                        <td id=\"T_3d052a42_195f_11eb_9e36_804a14664885row6_col0\" class=\"data row6 col0\" >$268,394</td>\n",
       "                        <td id=\"T_3d052a42_195f_11eb_9e36_804a14664885row6_col1\" class=\"data row6 col1\" >$545,889</td>\n",
       "                        <td id=\"T_3d052a42_195f_11eb_9e36_804a14664885row6_col2\" class=\"data row6 col2\" >$814,283</td>\n",
       "            </tr>\n",
       "            <tr>\n",
       "                        <th id=\"T_3d052a42_195f_11eb_9e36_804a14664885level0_row7\" class=\"row_heading level0 row7\" >8</th>\n",
       "                        <td id=\"T_3d052a42_195f_11eb_9e36_804a14664885row7_col0\" class=\"data row7 col0\" >$148,777</td>\n",
       "                        <td id=\"T_3d052a42_195f_11eb_9e36_804a14664885row7_col1\" class=\"data row7 col1\" >$296,616</td>\n",
       "                        <td id=\"T_3d052a42_195f_11eb_9e36_804a14664885row7_col2\" class=\"data row7 col2\" >$445,393</td>\n",
       "            </tr>\n",
       "            <tr>\n",
       "                        <th id=\"T_3d052a42_195f_11eb_9e36_804a14664885level0_row8\" class=\"row_heading level0 row8\" >All</th>\n",
       "                        <td id=\"T_3d052a42_195f_11eb_9e36_804a14664885row8_col0\" class=\"data row8 col0\" >$1,930,163</td>\n",
       "                        <td id=\"T_3d052a42_195f_11eb_9e36_804a14664885row8_col1\" class=\"data row8 col1\" >$3,813,728</td>\n",
       "                        <td id=\"T_3d052a42_195f_11eb_9e36_804a14664885row8_col2\" class=\"data row8 col2\" >$5,743,891</td>\n",
       "            </tr>\n",
       "    </tbody></table>"
      ],
      "text/plain": [
       "<pandas.io.formats.style.Styler at 0x7fa829c96b80>"
      ]
     },
     "execution_count": 57,
     "metadata": {},
     "output_type": "execute_result"
    }
   ],
   "source": [
    "pivot9 = pd.pivot_table(filterinfDataframe,index='items',columns='region',values='amount',aggfunc='sum',fill_value=0,margins=True)\n",
    "pivot9.style.format('${0:,.0f}')"
   ]
  },
  {
   "cell_type": "code",
   "execution_count": 58,
   "metadata": {},
   "outputs": [
    {
     "data": {
      "image/png": "[encoded data removed]",
      "text/plain": [
       "<Figure size 360x360 with 1 Axes>"
      ]
     },
     "metadata": {
      "needs_background": "light"
     },
     "output_type": "display_data"
    }
   ],
   "source": [
    "#seaborn\n",
    "age_dist = sns.displot(data.age)"
   ]
  },
  {
   "cell_type": "markdown",
   "metadata": {},
   "source": [
    "# Relations between number of items purchased and amount"
   ]
  },
  {
   "cell_type": "markdown",
   "metadata": {},
   "source": [
    "# Correlation"
   ]
  },
  {
   "cell_type": "code",
   "execution_count": 116,
   "metadata": {},
   "outputs": [],
   "source": [
    "def correlation_heatmap(data):\n",
    "    correlations = data.corr()\n",
    "    print(correlations)"
   ]
  },
  {
   "cell_type": "code",
   "execution_count": 60,
   "metadata": {},
   "outputs": [
    {
     "name": "stdout",
     "output_type": "stream",
     "text": [
      "          in-store       age     items    amount    region\n",
      "in-store  1.000000 -0.178256 -0.003954 -0.085474 -0.133114\n",
      "age      -0.178256  1.000000  0.000679 -0.282089 -0.235446\n",
      "items    -0.003954  0.000679  1.000000  0.000367 -0.001925\n",
      "amount   -0.085474 -0.282089  0.000367  1.000000  0.403504\n",
      "region   -0.133114 -0.235446 -0.001925  0.403504  1.000000\n"
     ]
    }
   ],
   "source": [
    "# amount and items have a weak positive correlation.There is a moderate correlation between region and amount. \n",
    "#remaining have weak negative correlation\n",
    "# the values are between -1 and +1 and - is negative correlation and + is positive. \n",
    "corr_mat = data.corr()\n",
    "print(corr_mat)"
   ]
  },
  {
   "cell_type": "markdown",
   "metadata": {},
   "source": [
    "# Covariance "
   ]
  },
  {
   "cell_type": "code",
   "execution_count": 61,
   "metadata": {},
   "outputs": [
    {
     "name": "stdout",
     "output_type": "stream",
     "text": [
      "           in-store          age     items         amount      region\n",
      "in-store   0.250003    -1.400718 -0.004075     -30.825404   -0.074988\n",
      "age       -1.400718   246.982562  0.021980   -3197.566591   -4.168901\n",
      "items     -0.004075     0.021980  4.248703       0.545629   -0.004471\n",
      "amount   -30.825404 -3197.566591  0.545629  520235.802331  327.903000\n",
      "region    -0.074988    -4.168901 -0.004471     327.903000    1.269391\n"
     ]
    }
   ],
   "source": [
    "#covariance guages the linear behavior of two variables either positive, negative or neutral. \n",
    "#age is positive with items \n",
    "#items is positive with amount \n",
    "#amount is positive with region \n",
    "#region is positive with amount,items, and age \n",
    "cov_mat = data.cov()\n",
    "print(cov_mat)"
   ]
  },
  {
   "cell_type": "markdown",
   "metadata": {},
   "source": [
    "# scatter plot to find the relation between Amount and Items"
   ]
  },
  {
   "cell_type": "code",
   "execution_count": 117,
   "metadata": {},
   "outputs": [
    {
     "data": {
      "image/png": "[encoded data removed]",
      "text/plain": [
       "<Figure size 432x288 with 1 Axes>"
      ]
     },
     "metadata": {
      "needs_background": "light"
     },
     "output_type": "display_data"
    }
   ],
   "source": [
    "#Scatter plot 2 \n",
    "data_sample = data.sample(100)\n",
    "x = data_sample['items']\n",
    "y = data_sample['amount']\n",
    "plt.scatter(x,y, marker='o')\n",
    "plt.show()"
   ]
  },
  {
   "cell_type": "code",
   "execution_count": 63,
   "metadata": {},
   "outputs": [
    {
     "data": {
      "text/plain": [
       "<seaborn.axisgrid.FacetGrid at 0x7fa82b1ae040>"
      ]
     },
     "execution_count": 63,
     "metadata": {},
     "output_type": "execute_result"
    },
    {
     "data": {
      "image/png": "[encoded data removed]",
      "text/plain": [
       "<Figure size 360x360 with 1 Axes>"
      ]
     },
     "metadata": {
      "needs_background": "light"
     },
     "output_type": "display_data"
    }
   ],
   "source": [
    "# Factor plot of in-store\n",
    "sns.catplot(x='in-store',data=data,kind='count')"
   ]
  },
  {
   "cell_type": "code",
   "execution_count": 64,
   "metadata": {},
   "outputs": [
    {
     "data": {
      "text/plain": [
       "items\n",
       "1     5701\n",
       "2    11290\n",
       "3    11487\n",
       "4    11596\n",
       "5    11238\n",
       "6    11522\n",
       "7    11378\n",
       "8     5788\n",
       "Name: items, dtype: int64"
      ]
     },
     "execution_count": 64,
     "metadata": {},
     "output_type": "execute_result"
    }
   ],
   "source": [
    "data.groupby('items')['items'].count()"
   ]
  },
  {
   "cell_type": "code",
   "execution_count": 65,
   "metadata": {},
   "outputs": [
    {
     "data": {
      "text/plain": [
       "region\n",
       "1    16000\n",
       "2    20000\n",
       "3    18000\n",
       "4    26000\n",
       "Name: region, dtype: int64"
      ]
     },
     "execution_count": 65,
     "metadata": {},
     "output_type": "execute_result"
    }
   ],
   "source": [
    "data.groupby('region')['region'].count()"
   ]
  },
  {
   "cell_type": "markdown",
   "metadata": {},
   "source": [
    "## Region 1 = North only did in-store transactions. Regions 2 = South did only online transactions. Region 3 = East did more in-store than online. Region 4 = West did almost equal. \n",
    "### whatever marketing strategies are in region 4 should be applied in rest of the region to have the equal transactions in both online and in-store."
   ]
  },
  {
   "cell_type": "code",
   "execution_count": 66,
   "metadata": {},
   "outputs": [
    {
     "data": {
      "text/plain": [
       "region  in-store\n",
       "1       1           16000\n",
       "2       0           20000\n",
       "3       0            7001\n",
       "        1           10999\n",
       "4       0           12999\n",
       "        1           13001\n",
       "Name: region, dtype: int64"
      ]
     },
     "execution_count": 66,
     "metadata": {},
     "output_type": "execute_result"
    }
   ],
   "source": [
    "data.groupby(['region', 'in-store'])['region'].count()"
   ]
  },
  {
   "cell_type": "code",
   "execution_count": 67,
   "metadata": {},
   "outputs": [
    {
     "data": {
      "text/plain": [
       "<seaborn.axisgrid.FacetGrid at 0x7fa824b07fa0>"
      ]
     },
     "execution_count": 67,
     "metadata": {},
     "output_type": "execute_result"
    },
    {
     "data": {
      "image/png": "[encoded data removed]",
      "text/plain": [
       "<Figure size 672.375x360 with 1 Axes>"
      ]
     },
     "metadata": {
      "needs_background": "light"
     },
     "output_type": "display_data"
    }
   ],
   "source": [
    "g = sns.catplot(x='in-store', data=data, hue='region', kind='count', aspect=1.75)\n",
    "g.set_xlabels('Region Transaction Trend')"
   ]
  },
  {
   "cell_type": "code",
   "execution_count": 68,
   "metadata": {},
   "outputs": [
    {
     "data": {
      "image/png": "[encoded data removed]",
      "text/plain": [
       "<Figure size 1152x648 with 1 Axes>"
      ]
     },
     "metadata": {
      "needs_background": "light"
     },
     "output_type": "display_data"
    }
   ],
   "source": [
    "pivot10 = pd.pivot_table(data,index='items',columns='in-store',values='amount',aggfunc='sum',fill_value=0)\n",
    "pivot10.plot(figsize=(16, 9), title='Purchase');\n",
    "plt.ticklabel_format(style='sci', axis='y')"
   ]
  },
  {
   "cell_type": "code",
   "execution_count": 69,
   "metadata": {},
   "outputs": [
    {
     "data": {
      "image/png": "[encoded data removed]",
      "text/plain": [
       "<Figure size 1152x648 with 1 Axes>"
      ]
     },
     "metadata": {
      "needs_background": "light"
     },
     "output_type": "display_data"
    }
   ],
   "source": [
    "pivot11 = pd.pivot_table(data,index='in-store',values='amount',aggfunc='sum',fill_value=0)\n",
    "pivot11.plot(figsize=(16, 9), title='Purchase');\n",
    "plt.ticklabel_format(style='sci', axis='y')"
   ]
  },
  {
   "cell_type": "code",
   "execution_count": 70,
   "metadata": {},
   "outputs": [
    {
     "data": {
      "image/png": "[encoded data removed]",
      "text/plain": [
       "<Figure size 1152x648 with 1 Axes>"
      ]
     },
     "metadata": {
      "needs_background": "light"
     },
     "output_type": "display_data"
    }
   ],
   "source": [
    "filterinfData = data[(data['in-store'] == 0)]\n",
    "pivot12 = pd.pivot_table(filterinfData,index='items',columns='region',values='amount',aggfunc='sum',fill_value=0)\n",
    "pivot12.plot(figsize=(16, 9), title='Purchase');\n",
    "plt.ticklabel_format(style='sci', axis='y')"
   ]
  },
  {
   "cell_type": "code",
   "execution_count": 71,
   "metadata": {},
   "outputs": [
    {
     "data": {
      "image/png": "[encoded data removed]",
      "text/plain": [
       "<Figure size 1152x648 with 1 Axes>"
      ]
     },
     "metadata": {
      "needs_background": "light"
     },
     "output_type": "display_data"
    }
   ],
   "source": [
    "#online and instore spend grouping\n",
    "pivot14 = pd.pivot_table(data,index='in-store',values='amount',aggfunc='sum',fill_value=0)\n",
    "pivot14.plot.bar(figsize=(16, 9), title='Online/In-store Revenue');"
   ]
  },
  {
   "cell_type": "code",
   "execution_count": 72,
   "metadata": {},
   "outputs": [
    {
     "data": {
      "text/plain": [
       "<seaborn.axisgrid.FacetGrid at 0x7fa82b67d880>"
      ]
     },
     "execution_count": 72,
     "metadata": {},
     "output_type": "execute_result"
    },
    {
     "data": {
      "image/png": "[encoded data removed]",
      "text/plain": [
       "<Figure size 762.375x360 with 2 Axes>"
      ]
     },
     "metadata": {
      "needs_background": "light"
     },
     "output_type": "display_data"
    }
   ],
   "source": [
    "sns.catplot(x='items', data=data, kind='count', hue='region', col='in-store')"
   ]
  },
  {
   "cell_type": "markdown",
   "metadata": {},
   "source": [
    "## Region 1 = North only did in-store transactions. Regions 2 = South did only online transactions. Region 3 = East did more in-store than online. Region 4 = West did almost equal. \n",
    "### whatever marketing strategies are in region 4 should be applied in rest of the region to have the equal transactions in both online and in-store."
   ]
  },
  {
   "cell_type": "code",
   "execution_count": 73,
   "metadata": {},
   "outputs": [
    {
     "data": {
      "text/plain": [
       "region  in-store\n",
       "1       1           16000\n",
       "2       0           20000\n",
       "3       0            7001\n",
       "        1           10999\n",
       "4       0           12999\n",
       "        1           13001\n",
       "Name: region, dtype: int64"
      ]
     },
     "execution_count": 73,
     "metadata": {},
     "output_type": "execute_result"
    }
   ],
   "source": [
    "data.groupby(['region', 'in-store'])['region'].count()"
   ]
  },
  {
   "cell_type": "code",
   "execution_count": 74,
   "metadata": {},
   "outputs": [
    {
     "data": {
      "text/plain": [
       "<seaborn.axisgrid.FacetGrid at 0x7fa82bece8b0>"
      ]
     },
     "execution_count": 74,
     "metadata": {},
     "output_type": "execute_result"
    },
    {
     "data": {
      "image/png": "[encoded data removed]",
      "text/plain": [
       "<Figure size 672.375x360 with 1 Axes>"
      ]
     },
     "metadata": {
      "needs_background": "light"
     },
     "output_type": "display_data"
    }
   ],
   "source": [
    "g = sns.catplot(x='in-store', data=data, hue='region', kind='count', aspect=1.75)\n",
    "g.set_xlabels('Region Transaction Trend')"
   ]
  },
  {
   "cell_type": "code",
   "execution_count": 75,
   "metadata": {},
   "outputs": [
    {
     "data": {
      "image/png": "[encoded data removed]",
      "text/plain": [
       "<Figure size 1152x648 with 1 Axes>"
      ]
     },
     "metadata": {
      "needs_background": "light"
     },
     "output_type": "display_data"
    }
   ],
   "source": [
    "#Online data filtered and plotted  \n",
    "filterinfData = data[(data['in-store'] == 0)]\n",
    "pivot11 = pd.pivot_table(filterinfData,index='items',columns='region',values='amount',aggfunc='sum',fill_value=0)\n",
    "pivot11.plot.bar(figsize=(16, 9), title='Online Insights');"
   ]
  },
  {
   "cell_type": "code",
   "execution_count": 76,
   "metadata": {},
   "outputs": [
    {
     "data": {
      "image/png": "[encoded data removed]",
      "text/plain": [
       "<Figure size 1152x648 with 1 Axes>"
      ]
     },
     "metadata": {
      "needs_background": "light"
     },
     "output_type": "display_data"
    }
   ],
   "source": [
    "#in-store data filtered and plotted  \n",
    "filterinfData_store = data[(data['in-store'] == 1)]\n",
    "pivot14 = pd.pivot_table(filterinfData_store,index='items',columns='region',values='amount',aggfunc='sum',fill_value=0)\n",
    "pivot14.plot.bar(figsize=(16, 9), title='Instore Insights');"
   ]
  },
  {
   "cell_type": "markdown",
   "metadata": {},
   "source": [
    "## Which region spend more?"
   ]
  },
  {
   "cell_type": "code",
   "execution_count": 77,
   "metadata": {},
   "outputs": [
    {
     "data": {
      "image/png": "[encoded data removed]",
      "text/plain": [
       "<Figure size 1152x648 with 2 Axes>"
      ]
     },
     "metadata": {
      "needs_background": "light"
     },
     "output_type": "display_data"
    }
   ],
   "source": [
    "\n",
    "pivot15 = pd.pivot_table(data,index='region',values='amount',aggfunc='sum')\n",
    "\n",
    "pivot15.plot.bar(figsize=(16, 9), title='Region Spend',secondary_y= 'amount').yaxis.set_major_formatter('${x:,.0f}')\n"
   ]
  },
  {
   "cell_type": "markdown",
   "metadata": {},
   "source": [
    "# Amount and Items plot"
   ]
  },
  {
   "cell_type": "code",
   "execution_count": 78,
   "metadata": {},
   "outputs": [
    {
     "data": {
      "image/png": "[encoded data removed]",
      "text/plain": [
       "<Figure size 720x648 with 1 Axes>"
      ]
     },
     "metadata": {
      "needs_background": "light"
     },
     "output_type": "display_data"
    }
   ],
   "source": [
    "#items and amount relation\n",
    "pivot16 = pd.pivot_table(data,index='items',values='amount',aggfunc='sum')\n",
    "pivot16.plot.bar(figsize=(10, 9), title='Items and Amount').yaxis.set_major_formatter('${x:,.0f}')"
   ]
  },
  {
   "cell_type": "markdown",
   "metadata": {},
   "source": [
    "## Items and amount by region purchased relation"
   ]
  },
  {
   "cell_type": "code",
   "execution_count": 79,
   "metadata": {},
   "outputs": [
    {
     "data": {
      "image/png": "[encoded data removed]",
      "text/plain": [
       "<Figure size 1152x648 with 1 Axes>"
      ]
     },
     "metadata": {
      "needs_background": "light"
     },
     "output_type": "display_data"
    }
   ],
   "source": [
    "\n",
    "pivot17 = pd.pivot_table(data,index='region',columns='items',values='amount',aggfunc='sum',fill_value=0)\n",
    "pivot17.plot.bar(figsize=(16, 9), title='Amount spend by region/item').yaxis.set_major_formatter('${x:,.0f}')"
   ]
  },
  {
   "cell_type": "markdown",
   "metadata": {},
   "source": [
    "## Age bucket"
   ]
  },
  {
   "cell_type": "code",
   "execution_count": 80,
   "metadata": {},
   "outputs": [
    {
     "data": {
      "image/png": "[encoded data removed]",
      "text/plain": [
       "<Figure size 1152x648 with 1 Axes>"
      ]
     },
     "metadata": {
      "needs_background": "light"
     },
     "output_type": "display_data"
    }
   ],
   "source": [
    "#discretizing the data using pd.cut - bins according to google demographics age buckets \n",
    "data['Age_cut']= pd.cut(data.age,bins=[18,24,34,44,54,64,85],labels=['18-24','24-34','34-44','44-54','54-64','64-85'])\n",
    "\n",
    "data['Age_cut']\n",
    "\n",
    "h =(data.groupby(data['Age_cut'])\n",
    " .agg(['sum'])\n",
    ")['amount']\n",
    "\n",
    "h.plot.bar(figsize=(16, 9), title='Age bucket').yaxis.set_major_formatter('${x:,.0f}')\n"
   ]
  },
  {
   "cell_type": "code",
   "execution_count": 81,
   "metadata": {},
   "outputs": [
    {
     "data": {
      "image/png": "[encoded data removed]",
      "text/plain": [
       "<Figure size 1152x648 with 1 Axes>"
      ]
     },
     "metadata": {
      "needs_background": "light"
     },
     "output_type": "display_data"
    }
   ],
   "source": [
    "# Age bucket by online and instore \n",
    "pivot18 = pd.pivot_table(data,index='Age_cut',columns='in-store',values='amount',aggfunc='sum',fill_value=0)\n",
    "pivot18.plot.bar(figsize=(16, 9), title='Age bucket by in-store').yaxis.set_major_formatter('${x:,.0f}')"
   ]
  },
  {
   "cell_type": "code",
   "execution_count": 82,
   "metadata": {},
   "outputs": [
    {
     "data": {
      "image/png": "[encoded data removed]",
      "text/plain": [
       "<Figure size 1152x648 with 1 Axes>"
      ]
     },
     "metadata": {
      "needs_background": "light"
     },
     "output_type": "display_data"
    }
   ],
   "source": [
    "# Age cut by region \n",
    "pivot19 = pd.pivot_table(data,index='Age_cut',columns='region',values='amount',aggfunc='sum',fill_value=0)\n",
    "pivot19.plot.bar(figsize=(16, 9), title='Age bucket by region').yaxis.set_major_formatter('${x:,.0f}')"
   ]
  },
  {
   "cell_type": "code",
   "execution_count": 83,
   "metadata": {},
   "outputs": [
    {
     "data": {
      "image/png": "[encoded data removed]",
      "text/plain": [
       "<Figure size 432x288 with 1 Axes>"
      ]
     },
     "metadata": {
      "needs_background": "light"
     },
     "output_type": "display_data"
    }
   ],
   "source": [
    "#online spend more between 250 to 1500 dollars.\n",
    "filterinf = data[(data['in-store'] == 0  ) ]\n",
    "M = filterinf['amount']\n",
    "plt.boxplot(M,0,'gD')\n",
    "plt.show()"
   ]
  },
  {
   "cell_type": "code",
   "execution_count": 84,
   "metadata": {},
   "outputs": [
    {
     "data": {
      "text/plain": [
       "in-store      0.000000\n",
       "age          48.559325\n",
       "items         4.513125\n",
       "amount      897.569707\n",
       "region        2.824975\n",
       "dtype: float64"
      ]
     },
     "execution_count": 84,
     "metadata": {},
     "output_type": "execute_result"
    }
   ],
   "source": [
    "#mean of online transactions \n",
    "filterinf.mean()"
   ]
  },
  {
   "cell_type": "code",
   "execution_count": 105,
   "metadata": {},
   "outputs": [
    {
     "data": {
      "image/png": "[encoded data removed]",
      "text/plain": [
       "<Figure size 720x648 with 1 Axes>"
      ]
     },
     "metadata": {
      "needs_background": "light"
     },
     "output_type": "display_data"
    }
   ],
   "source": [
    "filter_online = data[(data['in-store'] == 0  ) ]\n",
    "pivot23 = pd.pivot_table(filter_online,index='items',values='amount',aggfunc='sum')\n",
    "pivot23.plot.bar(figsize=(10, 9), title='Items and Amount').yaxis.set_major_formatter('${x:,.0f}')"
   ]
  },
  {
   "cell_type": "code",
   "execution_count": 106,
   "metadata": {},
   "outputs": [
    {
     "data": {
      "image/png": "[encoded data removed]",
      "text/plain": [
       "<Figure size 720x648 with 1 Axes>"
      ]
     },
     "metadata": {
      "needs_background": "light"
     },
     "output_type": "display_data"
    }
   ],
   "source": [
    "filter_instore = data[(data['in-store'] == 1 ) ]\n",
    "pivot23 = pd.pivot_table(filter_instore,index='items',values='amount',aggfunc='sum')\n",
    "pivot23.plot.bar(figsize=(10, 9), title='Items and Amount').yaxis.set_major_formatter('${x:,.0f}')"
   ]
  },
  {
   "cell_type": "markdown",
   "metadata": {},
   "source": [
    "## Amount cut - discretizing by amount "
   ]
  },
  {
   "cell_type": "code",
   "execution_count": 118,
   "metadata": {},
   "outputs": [
    {
     "data": {
      "text/plain": [
       "0            0-500\n",
       "1            0-500\n",
       "2        1500-2000\n",
       "3         500-1000\n",
       "4        1500-2000\n",
       "           ...    \n",
       "79995     500-1000\n",
       "79996    1500-2000\n",
       "79997        0-500\n",
       "79998        0-500\n",
       "79999     500-1000\n",
       "Name: Amount_cut, Length: 80000, dtype: category\n",
       "Categories (6, object): ['0-500' < '500-1000' < '1000-1500' < '1500-2000' < '2000-2500' < '2500-3000']"
      ]
     },
     "execution_count": 118,
     "metadata": {},
     "output_type": "execute_result"
    }
   ],
   "source": [
    "data['Amount_cut']= pd.cut(data.amount,bins=[0,500,1000,1500,2000,2500,3000],labels=['0-500','500-1000','1000-1500','1500-2000','2000-2500','2500-3000'])\n",
    "\n",
    "data['Amount_cut']"
   ]
  },
  {
   "cell_type": "code",
   "execution_count": 126,
   "metadata": {},
   "outputs": [
    {
     "data": {
      "text/html": [
       "<div>\n",
       "<style scoped>\n",
       "    .dataframe tbody tr th:only-of-type {\n",
       "        vertical-align: middle;\n",
       "    }\n",
       "\n",
       "    .dataframe tbody tr th {\n",
       "        vertical-align: top;\n",
       "    }\n",
       "\n",
       "    .dataframe thead th {\n",
       "        text-align: right;\n",
       "    }\n",
       "</style>\n",
       "<table border=\"1\" class=\"dataframe\">\n",
       "  <thead>\n",
       "    <tr style=\"text-align: right;\">\n",
       "      <th>region</th>\n",
       "      <th>1</th>\n",
       "      <th>2</th>\n",
       "      <th>3</th>\n",
       "      <th>4</th>\n",
       "    </tr>\n",
       "    <tr>\n",
       "      <th>Amount_cut</th>\n",
       "      <th></th>\n",
       "      <th></th>\n",
       "      <th></th>\n",
       "      <th></th>\n",
       "    </tr>\n",
       "  </thead>\n",
       "  <tbody>\n",
       "    <tr>\n",
       "      <th>0-500</th>\n",
       "      <td>5844</td>\n",
       "      <td>20000</td>\n",
       "      <td>6270</td>\n",
       "      <td>4706</td>\n",
       "    </tr>\n",
       "    <tr>\n",
       "      <th>500-1000</th>\n",
       "      <td>6525</td>\n",
       "      <td>0</td>\n",
       "      <td>6916</td>\n",
       "      <td>5725</td>\n",
       "    </tr>\n",
       "    <tr>\n",
       "      <th>1000-1500</th>\n",
       "      <td>1821</td>\n",
       "      <td>0</td>\n",
       "      <td>1210</td>\n",
       "      <td>5583</td>\n",
       "    </tr>\n",
       "    <tr>\n",
       "      <th>1500-2000</th>\n",
       "      <td>1810</td>\n",
       "      <td>0</td>\n",
       "      <td>1240</td>\n",
       "      <td>5599</td>\n",
       "    </tr>\n",
       "    <tr>\n",
       "      <th>2000-2500</th>\n",
       "      <td>0</td>\n",
       "      <td>0</td>\n",
       "      <td>1190</td>\n",
       "      <td>2190</td>\n",
       "    </tr>\n",
       "    <tr>\n",
       "      <th>2500-3000</th>\n",
       "      <td>0</td>\n",
       "      <td>0</td>\n",
       "      <td>1174</td>\n",
       "      <td>2197</td>\n",
       "    </tr>\n",
       "  </tbody>\n",
       "</table>\n",
       "</div>"
      ],
      "text/plain": [
       "region         1      2     3     4\n",
       "Amount_cut                         \n",
       "0-500       5844  20000  6270  4706\n",
       "500-1000    6525      0  6916  5725\n",
       "1000-1500   1821      0  1210  5583\n",
       "1500-2000   1810      0  1240  5599\n",
       "2000-2500      0      0  1190  2190\n",
       "2500-3000      0      0  1174  2197"
      ]
     },
     "execution_count": 126,
     "metadata": {},
     "output_type": "execute_result"
    }
   ],
   "source": [
    "pivot20 = pd.pivot_table(data,index='Amount_cut',columns='region',values='amount',aggfunc='count',fill_value=0)\n",
    "pivot20"
   ]
  },
  {
   "cell_type": "code",
   "execution_count": 122,
   "metadata": {},
   "outputs": [
    {
     "data": {
      "text/plain": [
       "<AxesSubplot:title={'center':'Amount spend by region'}, xlabel='Amount_cut'>"
      ]
     },
     "execution_count": 122,
     "metadata": {},
     "output_type": "execute_result"
    },
    {
     "data": {
      "image/png": "[encoded data removed]",
      "text/plain": [
       "<Figure size 1152x648 with 1 Axes>"
      ]
     },
     "metadata": {
      "needs_background": "light"
     },
     "output_type": "display_data"
    }
   ],
   "source": [
    "pivot20.plot.bar(figsize=(16, 9), title='Amount spend by region')"
   ]
  },
  {
   "cell_type": "code",
   "execution_count": 88,
   "metadata": {},
   "outputs": [
    {
     "data": {
      "text/html": [
       "<style  type=\"text/css\" >\n",
       "</style><table id=\"T_3f8e2566_195f_11eb_9e36_804a14664885\" ><thead>    <tr>        <th class=\"blank level0\" ></th>        <th class=\"col_heading level0 col0\" >sum</th>    </tr>    <tr>        <th class=\"index_name level0\" >Amount_cut</th>        <th class=\"blank\" ></th>    </tr></thead><tbody>\n",
       "                <tr>\n",
       "                        <th id=\"T_3f8e2566_195f_11eb_9e36_804a14664885level0_row0\" class=\"row_heading level0 row0\" >1500-2000</th>\n",
       "                        <td id=\"T_3f8e2566_195f_11eb_9e36_804a14664885row0_col0\" class=\"data row0 col0\" >$15,143,257</td>\n",
       "            </tr>\n",
       "            <tr>\n",
       "                        <th id=\"T_3f8e2566_195f_11eb_9e36_804a14664885level0_row1\" class=\"row_heading level0 row1\" >500-1000</th>\n",
       "                        <td id=\"T_3f8e2566_195f_11eb_9e36_804a14664885row1_col0\" class=\"data row1 col0\" >$14,361,543</td>\n",
       "            </tr>\n",
       "            <tr>\n",
       "                        <th id=\"T_3f8e2566_195f_11eb_9e36_804a14664885level0_row2\" class=\"row_heading level0 row2\" >1000-1500</th>\n",
       "                        <td id=\"T_3f8e2566_195f_11eb_9e36_804a14664885row2_col0\" class=\"data row2 col0\" >$10,768,450</td>\n",
       "            </tr>\n",
       "            <tr>\n",
       "                        <th id=\"T_3f8e2566_195f_11eb_9e36_804a14664885level0_row3\" class=\"row_heading level0 row3\" >0-500</th>\n",
       "                        <td id=\"T_3f8e2566_195f_11eb_9e36_804a14664885row3_col0\" class=\"data row3 col0\" >$9,719,374</td>\n",
       "            </tr>\n",
       "            <tr>\n",
       "                        <th id=\"T_3f8e2566_195f_11eb_9e36_804a14664885level0_row4\" class=\"row_heading level0 row4\" >2500-3000</th>\n",
       "                        <td id=\"T_3f8e2566_195f_11eb_9e36_804a14664885row4_col0\" class=\"data row4 col0\" >$9,272,001</td>\n",
       "            </tr>\n",
       "            <tr>\n",
       "                        <th id=\"T_3f8e2566_195f_11eb_9e36_804a14664885level0_row5\" class=\"row_heading level0 row5\" >2000-2500</th>\n",
       "                        <td id=\"T_3f8e2566_195f_11eb_9e36_804a14664885row5_col0\" class=\"data row5 col0\" >$7,608,948</td>\n",
       "            </tr>\n",
       "            <tr>\n",
       "                        <th id=\"T_3f8e2566_195f_11eb_9e36_804a14664885level0_row6\" class=\"row_heading level0 row6\" >3000-3500</th>\n",
       "                        <td id=\"T_3f8e2566_195f_11eb_9e36_804a14664885row6_col0\" class=\"data row6 col0\" >$0</td>\n",
       "            </tr>\n",
       "    </tbody></table>"
      ],
      "text/plain": [
       "<pandas.io.formats.style.Styler at 0x7fa80f557370>"
      ]
     },
     "execution_count": 88,
     "metadata": {},
     "output_type": "execute_result"
    }
   ],
   "source": [
    "(data.groupby(data['Amount_cut'])\n",
    " .agg(['sum'])\n",
    ")['amount'].sort_values('sum',ascending=False).style.format('${0:,.0f}')"
   ]
  },
  {
   "cell_type": "code",
   "execution_count": 127,
   "metadata": {},
   "outputs": [
    {
     "data": {
      "text/html": [
       "<style  type=\"text/css\" >\n",
       "</style><table id=\"T_df7cc24a_19fe_11eb_9e36_804a14664885\" ><thead>    <tr>        <th class=\"index_name level0\" >items</th>        <th class=\"col_heading level0 col0\" >1</th>        <th class=\"col_heading level0 col1\" >2</th>        <th class=\"col_heading level0 col2\" >3</th>        <th class=\"col_heading level0 col3\" >4</th>        <th class=\"col_heading level0 col4\" >5</th>        <th class=\"col_heading level0 col5\" >6</th>        <th class=\"col_heading level0 col6\" >7</th>        <th class=\"col_heading level0 col7\" >8</th>    </tr>    <tr>        <th class=\"index_name level0\" >Amount_cut</th>        <th class=\"blank\" ></th>        <th class=\"blank\" ></th>        <th class=\"blank\" ></th>        <th class=\"blank\" ></th>        <th class=\"blank\" ></th>        <th class=\"blank\" ></th>        <th class=\"blank\" ></th>        <th class=\"blank\" ></th>    </tr></thead><tbody>\n",
       "                <tr>\n",
       "                        <th id=\"T_df7cc24a_19fe_11eb_9e36_804a14664885level0_row0\" class=\"row_heading level0 row0\" >0-500</th>\n",
       "                        <td id=\"T_df7cc24a_19fe_11eb_9e36_804a14664885row0_col0\" class=\"data row0 col0\" >$2,658</td>\n",
       "                        <td id=\"T_df7cc24a_19fe_11eb_9e36_804a14664885row0_col1\" class=\"data row0 col1\" >$5,142</td>\n",
       "                        <td id=\"T_df7cc24a_19fe_11eb_9e36_804a14664885row0_col2\" class=\"data row0 col2\" >$5,235</td>\n",
       "                        <td id=\"T_df7cc24a_19fe_11eb_9e36_804a14664885row0_col3\" class=\"data row0 col3\" >$5,373</td>\n",
       "                        <td id=\"T_df7cc24a_19fe_11eb_9e36_804a14664885row0_col4\" class=\"data row0 col4\" >$5,184</td>\n",
       "                        <td id=\"T_df7cc24a_19fe_11eb_9e36_804a14664885row0_col5\" class=\"data row0 col5\" >$5,339</td>\n",
       "                        <td id=\"T_df7cc24a_19fe_11eb_9e36_804a14664885row0_col6\" class=\"data row0 col6\" >$5,275</td>\n",
       "                        <td id=\"T_df7cc24a_19fe_11eb_9e36_804a14664885row0_col7\" class=\"data row0 col7\" >$2,614</td>\n",
       "            </tr>\n",
       "            <tr>\n",
       "                        <th id=\"T_df7cc24a_19fe_11eb_9e36_804a14664885level0_row1\" class=\"row_heading level0 row1\" >500-1000</th>\n",
       "                        <td id=\"T_df7cc24a_19fe_11eb_9e36_804a14664885row1_col0\" class=\"data row1 col0\" >$1,356</td>\n",
       "                        <td id=\"T_df7cc24a_19fe_11eb_9e36_804a14664885row1_col1\" class=\"data row1 col1\" >$2,710</td>\n",
       "                        <td id=\"T_df7cc24a_19fe_11eb_9e36_804a14664885row1_col2\" class=\"data row1 col2\" >$2,799</td>\n",
       "                        <td id=\"T_df7cc24a_19fe_11eb_9e36_804a14664885row1_col3\" class=\"data row1 col3\" >$2,841</td>\n",
       "                        <td id=\"T_df7cc24a_19fe_11eb_9e36_804a14664885row1_col4\" class=\"data row1 col4\" >$2,668</td>\n",
       "                        <td id=\"T_df7cc24a_19fe_11eb_9e36_804a14664885row1_col5\" class=\"data row1 col5\" >$2,692</td>\n",
       "                        <td id=\"T_df7cc24a_19fe_11eb_9e36_804a14664885row1_col6\" class=\"data row1 col6\" >$2,742</td>\n",
       "                        <td id=\"T_df7cc24a_19fe_11eb_9e36_804a14664885row1_col7\" class=\"data row1 col7\" >$1,358</td>\n",
       "            </tr>\n",
       "            <tr>\n",
       "                        <th id=\"T_df7cc24a_19fe_11eb_9e36_804a14664885level0_row2\" class=\"row_heading level0 row2\" >1000-1500</th>\n",
       "                        <td id=\"T_df7cc24a_19fe_11eb_9e36_804a14664885row2_col0\" class=\"data row2 col0\" >$625</td>\n",
       "                        <td id=\"T_df7cc24a_19fe_11eb_9e36_804a14664885row2_col1\" class=\"data row2 col1\" >$1,176</td>\n",
       "                        <td id=\"T_df7cc24a_19fe_11eb_9e36_804a14664885row2_col2\" class=\"data row2 col2\" >$1,257</td>\n",
       "                        <td id=\"T_df7cc24a_19fe_11eb_9e36_804a14664885row2_col3\" class=\"data row2 col3\" >$1,174</td>\n",
       "                        <td id=\"T_df7cc24a_19fe_11eb_9e36_804a14664885row2_col4\" class=\"data row2 col4\" >$1,252</td>\n",
       "                        <td id=\"T_df7cc24a_19fe_11eb_9e36_804a14664885row2_col5\" class=\"data row2 col5\" >$1,262</td>\n",
       "                        <td id=\"T_df7cc24a_19fe_11eb_9e36_804a14664885row2_col6\" class=\"data row2 col6\" >$1,187</td>\n",
       "                        <td id=\"T_df7cc24a_19fe_11eb_9e36_804a14664885row2_col7\" class=\"data row2 col7\" >$681</td>\n",
       "            </tr>\n",
       "            <tr>\n",
       "                        <th id=\"T_df7cc24a_19fe_11eb_9e36_804a14664885level0_row3\" class=\"row_heading level0 row3\" >1500-2000</th>\n",
       "                        <td id=\"T_df7cc24a_19fe_11eb_9e36_804a14664885row3_col0\" class=\"data row3 col0\" >$598</td>\n",
       "                        <td id=\"T_df7cc24a_19fe_11eb_9e36_804a14664885row3_col1\" class=\"data row3 col1\" >$1,274</td>\n",
       "                        <td id=\"T_df7cc24a_19fe_11eb_9e36_804a14664885row3_col2\" class=\"data row3 col2\" >$1,248</td>\n",
       "                        <td id=\"T_df7cc24a_19fe_11eb_9e36_804a14664885row3_col3\" class=\"data row3 col3\" >$1,223</td>\n",
       "                        <td id=\"T_df7cc24a_19fe_11eb_9e36_804a14664885row3_col4\" class=\"data row3 col4\" >$1,211</td>\n",
       "                        <td id=\"T_df7cc24a_19fe_11eb_9e36_804a14664885row3_col5\" class=\"data row3 col5\" >$1,268</td>\n",
       "                        <td id=\"T_df7cc24a_19fe_11eb_9e36_804a14664885row3_col6\" class=\"data row3 col6\" >$1,210</td>\n",
       "                        <td id=\"T_df7cc24a_19fe_11eb_9e36_804a14664885row3_col7\" class=\"data row3 col7\" >$617</td>\n",
       "            </tr>\n",
       "            <tr>\n",
       "                        <th id=\"T_df7cc24a_19fe_11eb_9e36_804a14664885level0_row4\" class=\"row_heading level0 row4\" >2000-2500</th>\n",
       "                        <td id=\"T_df7cc24a_19fe_11eb_9e36_804a14664885row4_col0\" class=\"data row4 col0\" >$236</td>\n",
       "                        <td id=\"T_df7cc24a_19fe_11eb_9e36_804a14664885row4_col1\" class=\"data row4 col1\" >$494</td>\n",
       "                        <td id=\"T_df7cc24a_19fe_11eb_9e36_804a14664885row4_col2\" class=\"data row4 col2\" >$477</td>\n",
       "                        <td id=\"T_df7cc24a_19fe_11eb_9e36_804a14664885row4_col3\" class=\"data row4 col3\" >$471</td>\n",
       "                        <td id=\"T_df7cc24a_19fe_11eb_9e36_804a14664885row4_col4\" class=\"data row4 col4\" >$483</td>\n",
       "                        <td id=\"T_df7cc24a_19fe_11eb_9e36_804a14664885row4_col5\" class=\"data row4 col5\" >$464</td>\n",
       "                        <td id=\"T_df7cc24a_19fe_11eb_9e36_804a14664885row4_col6\" class=\"data row4 col6\" >$497</td>\n",
       "                        <td id=\"T_df7cc24a_19fe_11eb_9e36_804a14664885row4_col7\" class=\"data row4 col7\" >$258</td>\n",
       "            </tr>\n",
       "            <tr>\n",
       "                        <th id=\"T_df7cc24a_19fe_11eb_9e36_804a14664885level0_row5\" class=\"row_heading level0 row5\" >2500-3000</th>\n",
       "                        <td id=\"T_df7cc24a_19fe_11eb_9e36_804a14664885row5_col0\" class=\"data row5 col0\" >$228</td>\n",
       "                        <td id=\"T_df7cc24a_19fe_11eb_9e36_804a14664885row5_col1\" class=\"data row5 col1\" >$494</td>\n",
       "                        <td id=\"T_df7cc24a_19fe_11eb_9e36_804a14664885row5_col2\" class=\"data row5 col2\" >$471</td>\n",
       "                        <td id=\"T_df7cc24a_19fe_11eb_9e36_804a14664885row5_col3\" class=\"data row5 col3\" >$514</td>\n",
       "                        <td id=\"T_df7cc24a_19fe_11eb_9e36_804a14664885row5_col4\" class=\"data row5 col4\" >$440</td>\n",
       "                        <td id=\"T_df7cc24a_19fe_11eb_9e36_804a14664885row5_col5\" class=\"data row5 col5\" >$497</td>\n",
       "                        <td id=\"T_df7cc24a_19fe_11eb_9e36_804a14664885row5_col6\" class=\"data row5 col6\" >$467</td>\n",
       "                        <td id=\"T_df7cc24a_19fe_11eb_9e36_804a14664885row5_col7\" class=\"data row5 col7\" >$260</td>\n",
       "            </tr>\n",
       "    </tbody></table>"
      ],
      "text/plain": [
       "<pandas.io.formats.style.Styler at 0x7fa7f06776d0>"
      ]
     },
     "execution_count": 127,
     "metadata": {},
     "output_type": "execute_result"
    }
   ],
   "source": [
    "pivot21 = pd.pivot_table(data,index='Amount_cut',columns='items',values='amount',aggfunc='count',fill_value=0)\n",
    "pivot21.style.format('${0:,.0f}')"
   ]
  },
  {
   "cell_type": "code",
   "execution_count": 128,
   "metadata": {},
   "outputs": [
    {
     "data": {
      "image/png": "[encoded data removed]",
      "text/plain": [
       "<Figure size 1152x648 with 1 Axes>"
      ]
     },
     "metadata": {
      "needs_background": "light"
     },
     "output_type": "display_data"
    }
   ],
   "source": [
    "pivot21.plot.bar(figsize=(16, 9), title='Amount spend by items').yaxis.set_major_formatter('${x:,.0f}')"
   ]
  },
  {
   "cell_type": "code",
   "execution_count": 100,
   "metadata": {},
   "outputs": [
    {
     "name": "stdout",
     "output_type": "stream",
     "text": [
      "0.5456294270773716\n"
     ]
    }
   ],
   "source": [
    "print(data.iloc[:,2].cov(data.iloc[:,3]))"
   ]
  },
  {
   "cell_type": "code",
   "execution_count": null,
   "metadata": {},
   "outputs": [],
   "source": []
  }
 ],
 "metadata": {
  "kernelspec": {
   "display_name": "Python 3",
   "language": "python",
   "name": "python3"
  },
  "language_info": {
   "codemirror_mode": {
    "name": "ipython",
    "version": 3
   },
   "file_extension": ".py",
   "mimetype": "text/x-python",
   "name": "python",
   "nbconvert_exporter": "python",
   "pygments_lexer": "ipython3",
   "version": "3.8.5"
  }
 },
 "nbformat": 4,
 "nbformat_minor": 4
}
